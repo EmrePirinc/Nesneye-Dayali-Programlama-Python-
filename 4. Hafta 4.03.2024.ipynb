{
 "cells": [
  {
   "cell_type": "code",
   "execution_count": 1,
   "metadata": {},
   "outputs": [
    {
     "name": "stdout",
     "output_type": "stream",
     "text": [
      "işlem bitti\n"
     ]
    }
   ],
   "source": [
    "ad=input(\"ad gir:\") #İF YAPISI\n",
    "if ad==\"elma\":\n",
    "    print(\"evet eşit\")\n",
    "print(\"işlem bitti\")"
   ]
  },
  {
   "cell_type": "code",
   "execution_count": 3,
   "metadata": {},
   "outputs": [
    {
     "name": "stdout",
     "output_type": "stream",
     "text": [
      "evet eşit\n",
      "işlem bitti\n"
     ]
    }
   ],
   "source": [
    "ad=input(\"ad gir:\") #İF YAPISI\n",
    "if ad==\"elma\":                          #\":\" ifadesi şartın başlayacağını belirtir\n",
    "    print(\"evet eşit\")\n",
    "    print(\"işlem bitti\")    # if girintisine ait "
   ]
  },
  {
   "cell_type": "code",
   "execution_count": 4,
   "metadata": {},
   "outputs": [
    {
     "name": "stdout",
     "output_type": "stream",
     "text": [
      "işlem bitti\n"
     ]
    }
   ],
   "source": [
    "ad=input(\"ad gir:\")  #armut  yazarsak eğer  bu şekilde a yı bulmaz çünkü a nın indisi 0 olduğu için işlemi yanlış yaparız\n",
    "if ad.find(\"a\")>0:\n",
    "    print(\"evet a var\")\n",
    "print(\"işlem bitti\")"
   ]
  },
  {
   "cell_type": "code",
   "execution_count": 13,
   "metadata": {},
   "outputs": [
    {
     "name": "stdout",
     "output_type": "stream",
     "text": [
      "evet a var\n",
      "işlem bitti\n"
     ]
    }
   ],
   "source": [
    "ad=input(\"ad gir:\")  #armut yazdık\n",
    "if ad.find(\"a\")>=0:\n",
    "    print(\"evet a var\")\n",
    "print(\"işlem bitti\")"
   ]
  },
  {
   "cell_type": "code",
   "execution_count": 15,
   "metadata": {},
   "outputs": [
    {
     "name": "stdout",
     "output_type": "stream",
     "text": [
      "a yok\n",
      "işlem bitti\n"
     ]
    }
   ],
   "source": [
    "ad=input(\"ad gir:\")  \n",
    "if ad.find(\"a\")>=0:\n",
    "    print(\"evet a var\")\n",
    "else:                            #önceki if şartının dışındaki tüm durumlar için\n",
    "    print(\"a yok\")\n",
    "print(\"işlem bitti\")"
   ]
  },
  {
   "cell_type": "code",
   "execution_count": 5,
   "metadata": {},
   "outputs": [
    {
     "name": "stdout",
     "output_type": "stream",
     "text": [
      "evet a var\n",
      "işlem bitti\n"
     ]
    }
   ],
   "source": [
    "ad=input(\"ad gir:\")  \n",
    "if ad.find(\"a\")>=0 and ad.find(\"b\")>=0 and ad.find(\"l\")>=0:    #a ve b ve l var ise true döndürür\n",
    "    print(\"evet a var\")\n",
    "else:                            \n",
    "    print(\"a yok\")\n",
    "print(\"işlem bitti\")"
   ]
  },
  {
   "cell_type": "code",
   "execution_count": null,
   "metadata": {},
   "outputs": [],
   "source": [
    "ad=input(\"ad gir:\")  \n",
    "if ad.find(\"a\")>=0 or ad.find(\"b\")>=0:  #bu iki şarttan birtanesi geçiyorsa true döndürür . sadece bir şartın gerçekleşmesi yeterlidir true için\n",
    "    print(\"evet a var\")\n",
    "else:                            \n",
    "    print(\"a yok\")\n",
    "print(\"işlem bitti\")"
   ]
  },
  {
   "cell_type": "markdown",
   "metadata": {},
   "source": [
    "## -------------------------SORU-------------------------------\n",
    "\n",
    "Kullanıcı tarafından girilen değerin içinde a ve b harflerinden herhangi biri ile birlikte c harfi geçiyorsa ekrana `\"buldum\"` yazsın.\n"
   ]
  },
  {
   "cell_type": "code",
   "execution_count": 20,
   "metadata": {},
   "outputs": [
    {
     "name": "stdout",
     "output_type": "stream",
     "text": [
      "bulamadım\n"
     ]
    }
   ],
   "source": [
    "metin=input(\"metin gir:\")\n",
    "if ( metin.find(\"a\")>=0 or metin.find(\"b\")>=0 ) and metin.find(\"c\")>=0:\n",
    "    print(\"buldum\")\n",
    "else:\n",
    "    print(\"bulamadım\")"
   ]
  },
  {
   "cell_type": "code",
   "execution_count": null,
   "metadata": {},
   "outputs": [],
   "source": [
    "metin=input(\"metin giriniz:\")\n",
    "if (\"a\" in metin or \"b\" in metin) and \"c\" in metin:\n",
    "    print(\"buldum\")\n",
    "else:\n",
    "    print(\"bulamadım\")"
   ]
  },
  {
   "cell_type": "code",
   "execution_count": 10,
   "metadata": {},
   "outputs": [
    {
     "name": "stdout",
     "output_type": "stream",
     "text": [
      "bulamadım\n"
     ]
    }
   ],
   "source": [
    "#bir önceki soruda d içeriyorsa deseydik\n",
    "metin=input(\"metin gir:\")\n",
    "if ( metin.find(\"a\")>=0 or metin.find(\"b\")>=0 ) and (metin.find(\"c\")>=0 and metin.find(\"d\")>=0 ):\n",
    "    print(\"buldum\")\n",
    "else:\n",
    "    print(\"bulamadım\")"
   ]
  },
  {
   "cell_type": "code",
   "execution_count": 20,
   "metadata": {},
   "outputs": [
    {
     "name": "stdout",
     "output_type": "stream",
     "text": [
      "hepsi büyük\n"
     ]
    }
   ],
   "source": [
    "metin=input(\"metin gir:\")\n",
    "if metin.isupper():\n",
    "    print(\"hepsi büyük\")"
   ]
  },
  {
   "cell_type": "code",
   "execution_count": 22,
   "metadata": {},
   "outputs": [
    {
     "name": "stdout",
     "output_type": "stream",
     "text": [
      "hepsi küçük\n"
     ]
    }
   ],
   "source": [
    "metin=input(\"metin gir:\")\n",
    "if not metin.isupper():          #değilini sormak için not kullanabiliriz\n",
    "    print(\"hepsi küçük\")"
   ]
  },
  {
   "cell_type": "code",
   "execution_count": 32,
   "metadata": {},
   "outputs": [
    {
     "name": "stdout",
     "output_type": "stream",
     "text": [
      "True\n"
     ]
    }
   ],
   "source": [
    "a=5\n",
    "b=3\n",
    "sonuc=a>=b\n",
    "print(sonuc)"
   ]
  },
  {
   "cell_type": "markdown",
   "metadata": {},
   "source": [
    "## ----------------------------------SORU------------------------------------\n",
    "\n",
    "Kullanıcının girdiği ifadenin uzunluğu 10 ' dan büyük ve ilk karakteri a ise \n",
    "\n",
    "ekrana `\" tebrikler\"` yazın"
   ]
  },
  {
   "cell_type": "code",
   "execution_count": 57,
   "metadata": {},
   "outputs": [
    {
     "name": "stdout",
     "output_type": "stream",
     "text": [
      "tebrikler\n"
     ]
    }
   ],
   "source": [
    "metin=input(\"metin girin:\")\n",
    "if len(metin)>10 and metin.startswith(\"a\"):\n",
    "    print(\"tebrikler\")"
   ]
  },
  {
   "cell_type": "code",
   "execution_count": 53,
   "metadata": {},
   "outputs": [
    {
     "name": "stdout",
     "output_type": "stream",
     "text": [
      "tebrikler\n"
     ]
    }
   ],
   "source": [
    "metin=input(\"metin girin:\")\n",
    "if len(metin)>10 and metin[0]==\"a\":        #yada metin.find(\"a\")==0: ile de kontrol edebiliriz\n",
    "    print(\"tebrikler\")"
   ]
  },
  {
   "cell_type": "code",
   "execution_count": 23,
   "metadata": {},
   "outputs": [
    {
     "name": "stdout",
     "output_type": "stream",
     "text": [
      "tebrikler\n"
     ]
    }
   ],
   "source": [
    "metin=input(\"metin girin:\")\n",
    "if len(metin)>10 and metin[-1]==\"a\":          #son harfini kontrol etmek için\n",
    "    print(\"tebrikler\")"
   ]
  },
  {
   "cell_type": "markdown",
   "metadata": {},
   "source": [
    "## PRİNT Kullanımı"
   ]
  },
  {
   "cell_type": "code",
   "execution_count": 61,
   "metadata": {},
   "outputs": [
    {
     "name": "stdout",
     "output_type": "stream",
     "text": [
      "Sakarya Üniversitesi YBS\n"
     ]
    }
   ],
   "source": [
    "ad=\"Sakarya\"\n",
    "uni=\"Üniversitesi\" \n",
    "bolum=\"YBS\"                        #aralarına boşluk bırakarak yazar\n",
    "print(ad,uni,bolum)   "
   ]
  },
  {
   "cell_type": "code",
   "execution_count": 11,
   "metadata": {},
   "outputs": [
    {
     "name": "stdout",
     "output_type": "stream",
     "text": [
      "Sakarya-Üniversitesi-YBS\n"
     ]
    }
   ],
   "source": [
    "ad=\"Sakarya\"\n",
    "uni=\"Üniversitesi\" \n",
    "bolum=\"YBS\"                        \n",
    "print(ad,uni,bolum,sep=\"-\")   #sep aralarına ne koyacağımızı belirtmemizi sağlar"
   ]
  },
  {
   "cell_type": "code",
   "execution_count": 65,
   "metadata": {},
   "outputs": [
    {
     "name": "stdout",
     "output_type": "stream",
     "text": [
      "Sakarya\tÜniversitesi\tYBS\n"
     ]
    }
   ],
   "source": [
    "ad=\"Sakarya\"\n",
    "uni=\"Üniversitesi\" \n",
    "bolum=\"YBS\"                        \n",
    "print(ad,uni,bolum,sep=\"\\t\") "
   ]
  },
  {
   "cell_type": "code",
   "execution_count": 66,
   "metadata": {},
   "outputs": [
    {
     "name": "stdout",
     "output_type": "stream",
     "text": [
      "Sakarya\n",
      "Üniversitesi\n",
      "YBS\n"
     ]
    }
   ],
   "source": [
    "ad=\"Sakarya\"\n",
    "uni=\"Üniversitesi\" \n",
    "bolum=\"YBS\"                        \n",
    "print(ad,uni,bolum,sep=\"\\n\") "
   ]
  },
  {
   "cell_type": "code",
   "execution_count": 12,
   "metadata": {},
   "outputs": [
    {
     "name": "stdout",
     "output_type": "stream",
     "text": [
      "Sakarya\tÜniversitesi\tYBS--bitti\n",
      "burada alta yazar \n"
     ]
    }
   ],
   "source": [
    "#print varsayılan olarak enter atarak yazmaya başlar her print sonlandırma karakteri olarak enter ekler eğer başka bir karakter ile sonlandırmak istiyorsak\n",
    "ad=\"Sakarya\"\n",
    "uni=\"Üniversitesi\" \n",
    "bolum=\"YBS\"                        \n",
    "print(ad,uni,bolum,sep=\"\\t\", end=\"--\") #normalde end=\"\\n\" olarak varsayılandır.\n",
    "print(\"bitti\")  #bitti ifadesini üstteki print ile aynı satırda yazdı end kullanımı ile \n",
    "print(\"burada alta yazar \")"
   ]
  },
  {
   "cell_type": "code",
   "execution_count": 27,
   "metadata": {},
   "outputs": [
    {
     "name": "stdout",
     "output_type": "stream",
     "text": [
      "a var\n"
     ]
    }
   ],
   "source": [
    "ad=\"Sakarya\"\n",
    "if \"a\" in ad:                       #bir dizinin içerisinde bu ifade varmıyı sorgulamak için bu kullanımı yapabiliriz \n",
    "    print(\"a var\")\n",
    "elif \"b\" in ad:                     #ilk şartı sorgulayıp eğer o sağlanmaz ise elif kontrol edilir\n",
    "    print(\"b var\")\n",
    "else:                               #yukarıdaki şartlardan hiçbiri gerçekleşmediğinde bu şartın gerçekleştiğini kabul eder\n",
    "    print(\"a ya da b yok\")"
   ]
  },
  {
   "cell_type": "code",
   "execution_count": 17,
   "metadata": {},
   "outputs": [
    {
     "name": "stdout",
     "output_type": "stream",
     "text": [
      "a var\n",
      "a ya da b yok\n"
     ]
    }
   ],
   "source": [
    "ad=\"Sakarya\"\n",
    "if \"a\" in ad:                                   #ayrı ayrı if yapılarına girer \n",
    "    print(\"a var\")\n",
    "if \"b\" in ad:                     \n",
    "    print(\"b var\")\n",
    "else:\n",
    "    print(\"a ya da b yok\")"
   ]
  },
  {
   "cell_type": "markdown",
   "metadata": {},
   "source": [
    "## --------------------------------------SORU--------------------------------------\n",
    "\n",
    "Kullanıcıdan 4 adet ifade girilmesi istenecektir. Her kelime için ekranda aşağıdaki tabloda olduğu gibi bir çıktı gösterilecektir.\n",
    "\n",
    "```\n",
    "Girilen ifadeler:Sakarya,Ankara,İstanbul,İzmir\n",
    "\n",
    "                            a                  b\n",
    "Sakarya                     var                yok\n",
    "Ankara                      var                yok\n",
    "İstanbul                    var                var\n",
    "izmir                       yok                yok\n",
    "\n",
    "```"
   ]
  },
  {
   "cell_type": "code",
   "execution_count": 29,
   "metadata": {},
   "outputs": [
    {
     "name": "stdout",
     "output_type": "stream",
     "text": [
      "\t\t\t a\t\tb\n",
      "sakarya \t\tvar\t\tyok\n",
      "Ankara  \t\tvar\t\tyok\n",
      "istanbul\t\tvar\t\tvar\n",
      "izmir   \t\tyok\t\tyok\n"
     ]
    }
   ],
   "source": [
    "\"\"\"i1=input(\"Birinci ifade:\")\n",
    "i2=input(\"ikinci ifade:\")\n",
    "i3=input(\"üçüncü ifade:\")\n",
    "i4=input(\"dördüncü ifade:\")\"\"\"\n",
    "i1=\"sakarya\"\n",
    "i2=\"Ankara\"\n",
    "i3=\"istanbul\"\n",
    "i4=\"izmir\"\n",
    "print(\"\\t\\t\\t a\" , end=\"\\t\\t\")\n",
    "print(\"b\")\n",
    "vara,varb=\"\",\"\"\n",
    "if \"a\" in i1: vara=\"var\"\n",
    "else: vara=\"yok\"\n",
    "if \"b\" in i1: varb=\"var\"\n",
    "else: varb=\"yok\"\n",
    "print(i1.ljust(8),vara,varb,sep=\"\\t\\t\")\n",
    "if \"a\" in i2: vara=\"var\"\n",
    "else: vara=\"yok\"\n",
    "if \"b\" in i2: varb=\"var\"\n",
    "else: varb=\"yok\"\n",
    "print(i2.ljust(8),vara,varb,sep=\"\\t\\t\")\n",
    "if \"a\" in i3: vara=\"var\"\n",
    "else: vara=\"yok\"\n",
    "if \"b\" in i3: varb=\"var\"\n",
    "else: varb=\"yok\"\n",
    "print(i3.ljust(8),vara,varb,sep=\"\\t\\t\")\n",
    "if \"a\" in i4: vara=\"var\"\n",
    "else: vara=\"yok\"\n",
    "if \"b\" in i4: varb=\"var\"\n",
    "else: varb=\"yok\"\n",
    "print(i4.ljust(8),vara,varb,sep=\"\\t\\t\")"
   ]
  },
  {
   "cell_type": "code",
   "execution_count": 3,
   "metadata": {},
   "outputs": [],
   "source": [
    "a=5\n",
    "b=4.79\n",
    "c=\"10\" \n",
    "d=\"10.70\"\n",
    "e=\"10,45\"\n",
    "a=float(a)\n",
    "b=str(b)\n",
    "c=int(c)\n",
    "d=float(d) \n",
    "#e=float(e)    #burada hata verir virgülleri nokta çevirmemiz gerekir\n"
   ]
  },
  {
   "cell_type": "markdown",
   "metadata": {},
   "source": [
    "## --------------------SORU------------------------\n",
    "\n",
    "Kullanıcı tarafından girilen iki adet ondalıklı sayının çarpımını ekrana yazın\n",
    "\n",
    "ondalıklı sayı olarak nokta ile de virgül ile  ayrıştırılsa sistem çalışmalıdır"
   ]
  },
  {
   "cell_type": "code",
   "execution_count": 33,
   "metadata": {},
   "outputs": [
    {
     "name": "stdout",
     "output_type": "stream",
     "text": [
      "12.25\n"
     ]
    }
   ],
   "source": [
    "sayi1=float(input(\"sayı gir\").replace(\",\",\".\"))\n",
    "sayi2=input(\"sayi2 gir\")\n",
    "sayi2=sayi2.replace(\",\",\".\")\n",
    "sayi2=float(sayi2)\n",
    "print(sayi1*sayi2)"
   ]
  },
  {
   "cell_type": "code",
   "execution_count": 32,
   "metadata": {},
   "outputs": [
    {
     "name": "stdout",
     "output_type": "stream",
     "text": [
      "12.25\n"
     ]
    }
   ],
   "source": [
    "sayi1=input(\"sayi1 gir:\") \n",
    "if \",\" in sayi1:\n",
    "    sayi1=sayi1.replace(\",\",\".\")\n",
    "sayi1=float(sayi1)\n",
    "sayi2=input(\"sayi2 gir:\")\n",
    "if \",\" in sayi2:\n",
    "    sayi2=sayi2.replace(\",\",\".\")\n",
    "sayi2=float(sayi2)\n",
    "\n",
    "print(sayi1*sayi2)"
   ]
  }
 ],
 "metadata": {
  "kernelspec": {
   "display_name": "Python 3",
   "language": "python",
   "name": "python3"
  },
  "language_info": {
   "codemirror_mode": {
    "name": "ipython",
    "version": 3
   },
   "file_extension": ".py",
   "mimetype": "text/x-python",
   "name": "python",
   "nbconvert_exporter": "python",
   "pygments_lexer": "ipython3",
   "version": "3.12.2"
  }
 },
 "nbformat": 4,
 "nbformat_minor": 2
}
