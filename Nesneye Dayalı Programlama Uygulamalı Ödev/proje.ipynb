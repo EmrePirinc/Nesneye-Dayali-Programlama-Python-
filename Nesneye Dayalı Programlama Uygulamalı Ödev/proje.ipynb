{
 "cells": [
  {
   "cell_type": "code",
   "execution_count": 3,
   "metadata": {},
   "outputs": [],
   "source": [
    "import os \n",
    "\n",
    "dosyaYolu=r\"D:\\archive\\Texts\\Texts\\\\\"\n",
    "\n",
    "dillerSozluk= {\n",
    "    \"TURKCE\":\"turkce.txt\",\n",
    "    \"INGILIZCE\":\"ingilizce.txt\",\n",
    "    \"ALMANCA\":\"almanca.txt\",\n",
    "    \"ISPANYOLCA\":\"ispanyolca.txt\"\n",
    "}\n",
    "\n",
    "for diller, cıktıDosyası in dillerSozluk.items():\n",
    "    f=open(dosyaYolu+cıktıDosyası,\"w\" ,encoding=\"utf-8\")\n",
    "\n",
    "    for dosyaAdı in os.listdir(dosyaYolu):\n",
    "        if dosyaAdı.startswith(diller):\n",
    "            g=open(dosyaYolu+dosyaAdı,\"r\",encoding=\"utf-8\")\n",
    "            icerik=g.read().strip()\n",
    "            f.write(icerik + \"\\n\")\n",
    "            g.close()\n",
    "    f.close()\n",
    "\n",
    "\n",
    "\n"
   ]
  },
  {
   "cell_type": "code",
   "execution_count": 4,
   "metadata": {},
   "outputs": [],
   "source": [
    "def cumleFonk(metin):\n",
    "    \"\"\"cumle toplamını bulur\n",
    "    Args:\n",
    "        metin (str): metin\n",
    "    \n",
    "    Returns:cumle toplamı\n",
    "\n",
    "    \"\"\"\n",
    "    duzeltilmisMetin=metin.replace(\"...\",\".\")       #metindeki üç noktaları bir noktaya dönüştürür.\n",
    "    cumlesonuIsaretleri=[\".\",\"?\"]\n",
    "    cumleSayisi=0\n",
    "    for karakter in duzeltilmisMetin:\n",
    "        if karakter in cumlesonuIsaretleri:\n",
    "            cumleSayisi+=1\n",
    "    return cumleSayisi\n"
   ]
  },
  {
   "cell_type": "code",
   "execution_count": 5,
   "metadata": {},
   "outputs": [
    {
     "name": "stdout",
     "output_type": "stream",
     "text": [
      "ortalama karakter sayısı:2490.147\n",
      "ortalama kelime sayısı:342.19\n",
      "ortalama cümle sayısı:21.775\n",
      "toplam haber sayısı:1000\n",
      "toplam karakter sayısı:2490147\n",
      "toplam kelime sayısı:342190\n",
      "toplam cümle sayısı:21775\n",
      "Analiz tamamlandı\n"
     ]
    }
   ],
   "source": [
    "def analiz(dosyaYolu):\n",
    "    \"\"\" \n",
    "    ortalama karakter cümle ve kelime sayısını bulur\n",
    "\n",
    "    Args:\n",
    "        dosyaYolu (str): dosya yolu\n",
    "\n",
    "    Returns: ortalama karakter cümle ve kelime sayısı\n",
    "\n",
    "    \"\"\"\n",
    "    toplamKarakter=0\n",
    "    toplamKelime=0\n",
    "    toplamCumle=0\n",
    "    haberler=[]\n",
    "\n",
    "    dosya=open(dosyaYolu,\"r\",encoding=\"utf-8\")\n",
    "    haberler=dosya.readlines()\n",
    "    dosya.close()\n",
    "\n",
    "    for haber in haberler:\n",
    "        toplamKarakter+=len(haber)\n",
    "        toplamKelime+=len(haber.split())\n",
    "        toplamCumle+=cumleFonk(haber)\n",
    "\n",
    "    haberSayisi=len(haberler) #1000\n",
    "    ortalamaKarakter=toplamKarakter/haberSayisi\n",
    "    ortalamaKelime=toplamKelime/haberSayisi\n",
    "    ortalamaCumle=toplamCumle/haberSayisi\n",
    "\n",
    "    print(f\"ortalama karakter sayısı:{ortalamaKarakter}\")\n",
    "    print(f\"ortalama kelime sayısı:{ortalamaKelime}\")\n",
    "    print(f\"ortalama cümle sayısı:{ortalamaCumle}\")\n",
    "\n",
    "    print(f\"toplam haber sayısı:{haberSayisi}\")\n",
    "    print(f\"toplam karakter sayısı:{toplamKarakter}\")\n",
    "    print(f\"toplam kelime sayısı:{toplamKelime}\")\n",
    "    print(f\"toplam cümle sayısı:{toplamCumle}\")\n",
    "\n",
    "    print(\"Analiz tamamlandı\")\n",
    "\n",
    "dosyaYolu=r\"D:\\archive\\Texts\\Texts\\almanca.txt\"\n",
    "analiz(dosyaYolu)\n",
    "\n"
   ]
  },
  {
   "cell_type": "code",
   "execution_count": 6,
   "metadata": {},
   "outputs": [
    {
     "name": "stdout",
     "output_type": "stream",
     "text": [
      "DİL\t \tORTALAMA KARAKTER SAYISI\t\tORTALAMA KELİME SAYISI\t\tORTALAMA CÜMLE SAYISI\n",
      "-------------------------------------------------------------------------------------------------------------\n",
      "turkce         \t2007.845       \t\t\t\t252.922        \t\t\t16.962         \n",
      "ingilizce      \t2869.745       \t\t\t\t457.946        \t\t\t24.104         \n",
      "ispanyolca     \t4117.69        \t\t\t\t664.964        \t\t\t31.223         \n",
      "almanca        \t2490.147       \t\t\t\t342.19         \t\t\t21.775         \n"
     ]
    }
   ],
   "source": [
    "icerik= [\"DİL\" \"ORTALAMA KARAKTER SAYISI\" \"ORTALAMA KELİME SAYISI\" \"ORTALAMA CÜMLE SAYISI\"]\n",
    "\n",
    "veriler=[\n",
    "    (\"turkce\", 2007.845, 252.922, 16.962),\n",
    "    (\"ingilizce\", 2869.745, 457.946, 24.104),\n",
    "    (\"ispanyolca\", 4117.69, 664.964, 31.223),\n",
    "    (\"almanca\", 2490.147, 342.19, 21.775)\n",
    "]\n",
    "\n",
    "print(\"DİL\\t \",end=\"\\t\")\n",
    "print(\"ORTALAMA KARAKTER SAYISI\\t\",end=\"\\t\")\n",
    "print(\"ORTALAMA KELİME SAYISI\\t\",end=\"\\t\")\n",
    "print(\"ORTALAMA CÜMLE SAYISI\")  \n",
    "\n",
    "print(\"-\"*109)\n",
    "\n",
    "for i in range(len(veriler)):\n",
    "    dil= veriler[i][0]\n",
    "    ortalamaKarakter=veriler[i][1]\n",
    "    ortalamaKelime=veriler[i][2]\n",
    "    ortalamaCumle=veriler[i][3]\n",
    "\n",
    "    print(dil.ljust(15),end=\"\\t\" )\n",
    "    print(f\"{ortalamaKarakter}\".ljust(15),end=\"\\t\\t\\t\\t\")\n",
    "    print(f\"{ortalamaKelime}\".ljust(15),end=\"\\t\\t\\t\")  \n",
    "    print(f\"{ortalamaCumle}\".ljust(15))\n",
    "\n",
    "\n"
   ]
  }
 ],
 "metadata": {
  "kernelspec": {
   "display_name": "venv",
   "language": "python",
   "name": "python3"
  },
  "language_info": {
   "codemirror_mode": {
    "name": "ipython",
    "version": 3
   },
   "file_extension": ".py",
   "mimetype": "text/x-python",
   "name": "python",
   "nbconvert_exporter": "python",
   "pygments_lexer": "ipython3",
   "version": "3.12.2"
  }
 },
 "nbformat": 4,
 "nbformat_minor": 2
}
