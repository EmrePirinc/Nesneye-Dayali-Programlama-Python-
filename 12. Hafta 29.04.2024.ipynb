{
 "cells": [
  {
   "cell_type": "code",
   "execution_count": 8,
   "metadata": {},
   "outputs": [
    {
     "name": "stdout",
     "output_type": "stream",
     "text": [
      "559\n"
     ]
    }
   ],
   "source": [
    "dosyaYolu = r\"D:\\Ders notları\\python\\nesne 2024\\11.haftaSoru.rapx\"\n",
    "f=open(dosyaYolu,\"r\")\n",
    "toplam=0\n",
    "satirlar =f.readlines()\n",
    "for satir in satirlar:\n",
    "    if len(satir.strip())>1:\n",
    "        toplam+=int(satir)\n",
    "print(toplam)"
   ]
  },
  {
   "cell_type": "markdown",
   "metadata": {},
   "source": [
    " ```write():``` Bu fonksiyon, tek bir dizeyi dosyaya yazar. \n",
    " \n",
    " ```writelines():``` Bu fonksiyon, dize listesini dosyaya yazar. Listedeki her dize, dosyaya ayrı bir satır olarak yazılır."
   ]
  },
  {
   "cell_type": "markdown",
   "metadata": {},
   "source": [
    "## ---------------------SORU--------------------------------------\n",
    "1 den 10 a kadar sayıları bir dosyada alt alta yazıldığı düşünüldüğünde 4 sayısını silerek dosyayı tekrar kaydedecek kodu yazınız.\n",
    "\n",
    "kendimiz bir txt ye 1den 10 a kadar yazıyoruz sonra  4 sayısını siliyoruz\n"
   ]
  },
  {
   "cell_type": "code",
   "execution_count": 60,
   "metadata": {},
   "outputs": [
    {
     "name": "stdout",
     "output_type": "stream",
     "text": [
      "['1\\n', '2\\n', '3\\n', '5\\n', '6\\n', '7\\n', '8\\n', '9\\n', '10']\n"
     ]
    }
   ],
   "source": [
    "\n",
    "dosyaYolu = r\"D:\\Ders notları\\python\\nesne 2024\\12.haftaSoru.txt\" \n",
    "f=open(dosyaYolu,\"r+\")\n",
    "satirlar=f.readlines()\n",
    "satirlar.remove(satirlar[3])\n",
    "f.writelines(satirlar)\n",
    "print(satirlar)\n",
    "f.close()"
   ]
  },
  {
   "cell_type": "markdown",
   "metadata": {},
   "source": [
    " Dosyaları okurken her zaman dosyanın tamamını okumak iyi bir yöntem değildir. Özellikle büyük dosyalarda, örneğin 10 GB'lık bir dosyayı 'read' komutu ile RAM'e yüklemek bellek yetersizliği hatasına yol açabilir. Bu yüzden dosyanın tamamını okumak yerine, sadece ihtiyacımız olan kısımları okumayı tercih etmeliyiz.   \n",
    " Dosyayı satır satır okumak veya sadece ilgili noktaları okumak gibi yöntemler kullanılabilir. Örneğin, dosyanın sadece belirli bir kısmını veya sadece satır satır okunması istenebilir."
   ]
  },
  {
   "cell_type": "markdown",
   "metadata": {},
   "source": [
    "## txt açıp içerisine bunları yazıyoruz :\n",
    "Sakarya  \n",
    "Ankara  \n",
    "İstanbul Üniversitesi  \n",
    "İzmir  \n",
    "Adana  \n",
    "Bursa  "
   ]
  },
  {
   "cell_type": "code",
   "execution_count": 71,
   "metadata": {},
   "outputs": [
    {
     "name": "stdout",
     "output_type": "stream",
     "text": [
      "Sakarya\n",
      "\n",
      "Ankara\n",
      "\n"
     ]
    }
   ],
   "source": [
    "#Dosyayı satır satır okumak, büyük dosyalarda bellek sorununu önler. Sadece ihtiyaç duyulan satırlar belleğe yüklenir ve işlenir.\n",
    "\n",
    "\n",
    "dosyaYolu = r\"D:\\Ders notları\\python\\nesne 2024\\12.haftaSoru2.txt\" \n",
    "f=open(dosyaYolu,\"r+\")\n",
    "for i in range(2):\n",
    "    satir=f.readline()\n",
    "    print(satir)\n",
    "f.close()\n",
    "\n"
   ]
  },
  {
   "cell_type": "markdown",
   "metadata": {},
   "source": [
    "## neden boşluk oluştu çıktıda ?\n",
    "\n",
    "Çünkü normalde Sakarya'dan sonra bir enter karakteri var (\\n) bu, bir de print'in enter karakteri var, aşağıya geçiyor.  \n",
    "Print'in sonlatma karakteri enter'dı. O yüzden aşağıya geçiyor."
   ]
  },
  {
   "cell_type": "code",
   "execution_count": 3,
   "metadata": {},
   "outputs": [],
   "source": [
    "#tamamla bu kod yarım kaldı tamamlayamadım \n",
    "dosyaYolu = r\"D:\\Ders notları\\python\\nesne 2024\\12.haftaSoru2.txt\" \n",
    "f=open(dosyaYolu,\"r+\")\n",
    "while True:\n",
    "    try:\n",
    "        satir.readline()\n",
    "        print(satir)\n",
    "    except:\n",
    "        break\n",
    "f.close()"
   ]
  },
  {
   "cell_type": "code",
   "execution_count": 1,
   "metadata": {},
   "outputs": [
    {
     "name": "stdout",
     "output_type": "stream",
     "text": [
      "arya\n"
     ]
    }
   ],
   "source": [
    "\n",
    "dosyaYolu = r\"D:\\Ders notları\\python\\nesne 2024\\12.haftaSoru2.txt\" \n",
    "f=open(dosyaYolu,\"r+\")\n",
    "f.seek(3)                       # Dosya imlecini 3. bayta (4. karaktere) konumlandırıyoruz.\n",
    "print(f.read(4))                # İmlecin mevcut konumundan başlayarak 4 karakter okuyoruz.\n",
    "f.close()"
   ]
  },
  {
   "cell_type": "markdown",
   "metadata": {},
   "source": [
    "## ------------------------ SORU --------------------------- \n",
    "\n",
    "txt uzantılı bir dosyanın en başına çalışma zamanını tarih olarak yazın.  \n",
    "Sonraki satırlara ise rastgele üretilmiş 5 adet 100 ile 200 arasında sayı üreterek aralarında virgül olacak şekilde yazın."
   ]
  },
  {
   "cell_type": "code",
   "execution_count": 83,
   "metadata": {},
   "outputs": [],
   "source": [
    "import datetime,random\n",
    "\n",
    "\n",
    "dosyaYolu = r\"D:\\Ders notları\\python\\nesne 2024\\12.haftaSoru3.txt\" #haftaSoru3.txt diye bir oluşturdum kendim içi boş (r+ da dosya olması gerektiği için)\n",
    "f=open(dosyaYolu,\"r+\")\n",
    "zaman=datetime.datetime.now().strftime(\"%d.%m.%Y\")\n",
    "f.write(zaman+ \"\\n\")\n",
    "for i in range(5):\n",
    "    sayi=random.randint(100,200)\n",
    "    if i==0: f.write(str(sayi))\n",
    "    else: f.write(\",\"+str(sayi))\n",
    "f.close()"
   ]
  },
  {
   "cell_type": "markdown",
   "metadata": {},
   "source": [
    "## Bellekte yer kaplayan değişkenleri temizlemek için bir kaç yöntem var :\n",
    "\n",
    "\n",
    "### Bellek Boşaltma: \n",
    "\"with\" bloğu, içinde tanımlanan değişkenlerin bellekten otomatik olarak silinmesini sağlar. Blok sona erdiğinde, değişkenler bellekten temizlenir ve yer kaplamaz.\n",
    "### Manuel Silme Alternatifi:\n",
    "Normalde bir dosya işlemi sonrası \"close\" ve \"del\" komutlarıyla dosya değişkenini kapatıp bellekten silmek gerekir. \"with\" bloğu bu manuel işlemleri otomatik hale getirir."
   ]
  },
  {
   "cell_type": "code",
   "execution_count": 89,
   "metadata": {},
   "outputs": [],
   "source": [
    "import datetime,random\n",
    "\n",
    "dosyaYolu = r\"D:\\Ders notları\\python\\nesne 2024\\12.haftaSoru3.txt\"\n",
    "with open(dosyaYolu,\"r+\") as f:                   \n",
    "    zaman=datetime.datetime.now().strftime(\"%d.%m.%Y\")\n",
    "    f.write(zaman+ \"\\n\")\n",
    "    for i in range(5):\n",
    "        sayi=random.randint(100,200)\n",
    "        if i==0: f.write(str(sayi))\n",
    "        else: f.write(\",\"+str(sayi))\n",
    "    f.close()\n",
    "    #del f\n",
    "\n",
    "#unutmayın, \"del f\" yahut da \"with\" kullandığınız zaman artık bu değişkene bir daha ulaşamazsınız.\n",
    "#Yani \"f\" yazdığınız zaman ekranda gözüküyor, geliyor gibi olabilir.\n",
    "#Fakat o satıra gelirse hata verir, programınız kırılır. Çünkü bellekte öyle bir değişken yok demek."
   ]
  },
  {
   "cell_type": "markdown",
   "metadata": {},
   "source": [
    "## Fonksiyonlar (Methotlar)\n",
    "\n",
    "### Kod Gruplandırma:\n",
    " Metotlar, birden fazla kod satırını gruplandırmak ve tek bir isim altında toplamak için kullanılır. Bu, kodun tekrarını azaltır ve daha düzenli olmasını sağlar.\n",
    "### Metot Tanımlama:\n",
    " \"def\" anahtar kelimesiyle bir metot tanımlanır. \"def\" kelimesinden sonra metodun adı ve parantezler gelir. Parantezlerin içine metot parametreleri yazılır (opsiyonel).\n",
    "### Blok Oluşturma:\n",
    " Metot adı ve parantezlerden sonra iki nokta üst üste (\":\") konularak, metodun kod bloğu başlatılır. Bu blok, girintili olarak yazılan kod satırlarından oluşur.\n",
    "### Metot Çağırma:\n",
    " Tanımlanan metot, adıyla birlikte parantezler kullanılarak çağırılır. Bu sayede metot içindeki kodlar çalıştırılır.\n",
    "### Örnek Kullanım:\n",
    " Dosya açma, yazma ve kapatma gibi işlemleri içeren bir kod bloğu, \"dosyaya_yaz\" gibi bir isimle metot haline getirilebilir. Daha sonra bu metot, programın farklı yerlerinde tekrar tekrar kullanılabilir."
   ]
  },
  {
   "cell_type": "code",
   "execution_count": 114,
   "metadata": {},
   "outputs": [],
   "source": [
    "\n",
    "\n",
    "def dosyayaYaz():\n",
    "    dosyaYolu = r\"D:\\Ders notları\\python\\nesne 2024\\12.haftaSoru3.txt\"\n",
    "    f=open(dosyaYolu,\"a\")\n",
    "    f.write(\"a\\n\")\n",
    "    f.close()\n",
    "dosyayaYaz()\n",
    "dosyayaYaz()\n",
    "dosyayaYaz() \n",
    "dosyayaYaz()\n",
    "\n",
    "#4 kez a yazar"
   ]
  },
  {
   "cell_type": "code",
   "execution_count": 101,
   "metadata": {},
   "outputs": [],
   "source": [
    "\n",
    "\n",
    "def dosyayaYaz():\n",
    "    \"\"\"Bu metot dosyaya metin yazma işlemi yapar.\"\"\"\n",
    "    dosyaYolu = r\"D:\\Ders notları\\python\\nesne 2024\\12.haftaSoru3.txt\"\n",
    "    f=open(dosyaYolu,\"a\")\n",
    "    f.write(\"a\\n\")\n",
    "    f.close()\n",
    "dosyayaYaz()\n",
    "\n",
    "#fare ile dosyayaYaz() üzerine geldiğinizde yaptığımız açıklama orada gözükür. Başkalarının metotların ne işe yaradığını bilmek için bunu kullanabiliriz."
   ]
  },
  {
   "cell_type": "markdown",
   "metadata": {},
   "source": [
    "## Fonksiyonun Parametre Alması \n",
    "```def dosyayaYaz(metin):```\n",
    "### Parametreler birer değişkendir:\n",
    " Fonksiyon tanımlanırken parantez içine yazılan isimler aslında değişkenlerdir. Bu değişkenlere fonksiyon çağrılırken değer atanır.\n",
    "### Değişkenlerin veri türü önemlidir: \n",
    "Her değişkenin bir veri türü vardır (örneğin string, integer, float). Fonksiyonun beklediği veri türü ile verilen değerin veri türünün uyumlu olması gerekir.\n",
    "### Parametreler fonksiyon içinde kullanılır: \n",
    "Fonksiyonun içindeki kod, parametre olarak verilen değerleri kullanarak işlemler gerçekleştirir."
   ]
  },
  {
   "cell_type": "code",
   "execution_count": 7,
   "metadata": {},
   "outputs": [],
   "source": [
    "def dosyayaYaz(metin):\n",
    "    \"\"\"Bu metot dosyaya metin yazma işlemi yapar.\"\"\"\n",
    "    dosyaYolu = r\"D:\\Ders notları\\python\\nesne 2024\\12.haftaSoru3.txt\"\n",
    "    f=open(dosyaYolu,\"a\")\n",
    "    f.write(metin + \"\\n\")\n",
    "    f.close()\n",
    "dosyayaYaz(\"a\")\n",
    "dosyayaYaz(\"b\")\n",
    "dosyayaYaz(\"c\") \n",
    "dosyayaYaz(\"ddddddddddd\")\n",
    "\n",
    "#Bu fonksiyon başlangıçta sadece \"a\" harfini dosyaya yazıyordu. \n",
    "#Ancak parametre eklendikten sonra, fonksiyona hangi metnin yazdırılacağı bilgisi dışarıdan verilebilir hale geldi."
   ]
  },
  {
   "cell_type": "code",
   "execution_count": 10,
   "metadata": {},
   "outputs": [],
   "source": [
    "def dosyayaYaz(metin,dosyaYolu):\n",
    "    \"\"\"Bu metot dosyaya metin yazma işlemi yapar.\"\"\"\n",
    "    f=open(dosyaYolu,\"a\")\n",
    "    f.write(metin + \"\\n\")\n",
    "    f.close()\n",
    "\n",
    "dosyayaYaz(\"a\", r\"D:\\Ders notları\\python\\nesne 2024\\12.hafta.Dosya.txt\")            #12.hafta.Dosya.txt dosyasına a yazdı\n",
    "dosyayaYaz(\"b\", r\"D:\\Ders notları\\python\\nesne 2024\\12.Hafta.Dosya2.txt\")           #12.hafta.Dosya2.txt dosyasına b yazdı\n",
    "dosyayaYaz(\"c\", r\"D:\\Ders notları\\python\\nesne 2024\\12.hafta.Dosya.txt\")            #12.hafta.Dosya.txt dosyasına c yazdı\n",
    "dosyayaYaz(\"ddddddddd\", r\"D:\\Ders notları\\python\\nesne 2024\\12.Hafta.Dosya2.txt\")   #12.hafta.Dosya2.txt dosyasına ddddddddd yazdı\n",
    "\n",
    "#12.hafta.Dosya2.txt dosyasına b ve ddddddddd yazdı\n",
    "#12.hafta.Dosya.txt dosyasına a ve c yazdı"
   ]
  },
  {
   "cell_type": "markdown",
   "metadata": {},
   "source": [
    "## return Nedir?\n",
    "\"return\" ifadesi, bir fonksiyonun çalışmasını sonlandırır ve fonksiyon çağrıldığı yere bir değer döndürür. Bu değer, sayı, string, liste, sözlük gibi herhangi bir veri tipi olabilir veya fonksiyon hiçbir şey döndürmek istemezse \"None\" olabilir.\n",
    "\n",
    "Fonksiyonda return ifadesi yoksa fonksiyon None döndürür. önceki soruda  \n",
    "\n",
    "```\n",
    "a=dosyayaYaz(\"a\", r\"D:\\Ders notları\\python\\nesne 2024\\12.hafta.Dosya.txt\") \n",
    "\n",
    "print(a)\n",
    "\n",
    "```\n",
    "\n",
    "yazarsak ```none``` döndürür.\n",
    "\n"
   ]
  },
  {
   "cell_type": "code",
   "execution_count": 130,
   "metadata": {},
   "outputs": [
    {
     "name": "stdout",
     "output_type": "stream",
     "text": [
      "İşlem başarılı\n"
     ]
    }
   ],
   "source": [
    "# bu metot çalıştı. Peki işini başarıyla yaptı mı? Yani bir hata aldıysa bunu bilmek istiyorum bunun için \n",
    "\n",
    "def dosyayaYaz(metin,dosyaYolu):\n",
    "    \"\"\"Bu metot dosyaya metin yazma işlemi yapar.\"\"\"\n",
    "    try:\n",
    "        f=open(dosyaYolu,\"a\")\n",
    "        f.write(metin + \"\\n\")\n",
    "        f.close()\n",
    "        return \"İşlem başarılı\"\n",
    "    except:\n",
    "        return \"İşlem hatalı\"\n",
    "        pass                                    #Except'in içerisine pass yazarsak hiçbir şey yapma anlamına geliyor.\n",
    "sonuc=dosyayaYaz(\"a\", r\"D:\\Ders notları\\python\\nesne 2024\\12.hafta.Dosya.txt\")\n",
    "print(sonuc)"
   ]
  },
  {
   "cell_type": "markdown",
   "metadata": {},
   "source": [
    "## return komutunun rolü:\n",
    "#### Başarılı işlem:\n",
    " Eğer dosyaya yazma işlemi sorunsuz tamamlanırsa, ```try``` bloğundaki ```return \"İşlem başarılı\"``` satırı çalışır. Bu, fonksiyonun çalışmasını sonlandırır ve ```\"İşlem başarılı\"``` metnini çağıran koda (yani sonuc değişkenine) geri döndürür.\n",
    "#### Hatalı işlem:\n",
    " Eğer bir hata oluşursa, ```except``` bloğundaki ``` return \"İşlem hatalı\" ``` satırı çalışır ve ``` \"İşlem hatalı\" ``` metnini geri döndürür.\n",
    "Özetle, return komutu fonksiyonun sonucunu veya durumunu bildirmek ve bu bilgiyi çağıran kodda kullanmak için kullanılır."
   ]
  },
  {
   "cell_type": "code",
   "execution_count": 132,
   "metadata": {},
   "outputs": [
    {
     "name": "stdout",
     "output_type": "stream",
     "text": [
      "16\n"
     ]
    }
   ],
   "source": [
    "def topla(sayi1,sayi2):\n",
    "    sonuc = sayi1 + sayi2 \n",
    "    return sonuc                        #bu \"sonuç\" değişkenini \"return\" ile geri döndürüyor. Kendisinin adının çağrıldığı yere.\n",
    "toplam=topla(4,5) + topla (3,4)         \n",
    "print(toplam)"
   ]
  },
  {
   "cell_type": "code",
   "execution_count": 133,
   "metadata": {},
   "outputs": [
    {
     "name": "stdout",
     "output_type": "stream",
     "text": [
      "Hatalı -\n"
     ]
    }
   ],
   "source": [
    "#eğer birden fazla şey döndürmek istiyorsak\n",
    "\n",
    "def topla(sayi1,sayi2):\n",
    "    try:\n",
    "        sonuc = sayi1 + sayi2 \n",
    "        return \"Başarılı\",sonuc     #eğer ki işlem başarılı ise önce başarılı diye bir şey döndür. bir de sonucu döndür.\n",
    "    except:\n",
    "        return \"Hatalı\", \"-\"        #Eğer ki işlem hatalı ise önce hatalı diye bir şey döndür. sonra \"-\" diye bir şey döndür.\n",
    "sonuc, toplam = topla(\"a\",5)        #Sırayla döndürdüğün tür neyse sırayla aynı atamayı yapmalıyım.\n",
    "print(sonuc,toplam)"
   ]
  },
  {
   "cell_type": "code",
   "execution_count": 11,
   "metadata": {},
   "outputs": [
    {
     "name": "stdout",
     "output_type": "stream",
     "text": [
      "Başarılı 9\n"
     ]
    }
   ],
   "source": [
    "def topla(sayi1,sayi2):\n",
    "    try:\n",
    "        sonuc = sayi1 + sayi2 \n",
    "        return \"Başarılı\",sonuc\n",
    "    except:\n",
    "        return \"Hatalı\", \"-\"\n",
    "sonuc, toplam = topla(4,5)\n",
    "print(sonuc,toplam)"
   ]
  },
  {
   "cell_type": "code",
   "execution_count": 162,
   "metadata": {},
   "outputs": [
    {
     "name": "stdout",
     "output_type": "stream",
     "text": [
      "Başarılı 3\n"
     ]
    }
   ],
   "source": [
    "#bir parametreyi vermezsen sen varsayılan olarak bir şey kabul et .\n",
    "def topla(sayi1,sayi2=0):               #Sayi 2 yi varsayılan olarak 0 aldık.  Bu şu demek: bu değişken verilebilirdi, verilmeyebilirdi. Verilmezse buradaki değeri anla.\n",
    "    try:\n",
    "        sonuc = sayi1 + sayi2    #burada bulunan sayi1 ve sayi2 değişkenlerini topla() diyip çağırırken açıklamasını görürüz o yüzden bu değişkenin olduğunu anlayabilmemiz adına açık bir ifade ile tanımla\n",
    "        return \"Başarılı\",sonuc\n",
    "    except:\n",
    "        return \"Hatalı\", \"-\"\n",
    "sonuc, toplam = topla()            #3+0=3    topla deyip parantezi açtığımda hemen bana şöyle bir açıklama yazıyor. Bu metot içerisine sayı 1 ve sayi 2 diye bir değişken alır.\n",
    "print(sonuc,toplam)"
   ]
  },
  {
   "cell_type": "code",
   "execution_count": 17,
   "metadata": {},
   "outputs": [
    {
     "name": "stdout",
     "output_type": "stream",
     "text": [
      "Başarılı 0.6\n"
     ]
    }
   ],
   "source": [
    "def bol(sayi1,sayi2=1):\n",
    "    try:\n",
    "        sonuc = sayi1 / sayi2 \n",
    "        return \"Başarılı\",sonuc\n",
    "    except:\n",
    "        return \"Hatalı\", \"-\"\n",
    "sonuc,toplam = bol(3,5)        #sonuc değişkeni \"Başarılı\" metnini, toplam değişkeni ise 0.6 değerini alacaktır.\n",
    "print(sonuc,toplam)"
   ]
  },
  {
   "cell_type": "code",
   "execution_count": 18,
   "metadata": {},
   "outputs": [
    {
     "name": "stdout",
     "output_type": "stream",
     "text": [
      "Başarılı 0.6\n"
     ]
    }
   ],
   "source": [
    "def bol(sayi1,sayi2=1):\n",
    "    try:\n",
    "        sonuc = sayi1 / sayi2 \n",
    "        return \"Başarılı\",sonuc\n",
    "    except:\n",
    "        return \"Hatalı\", \"-\"\n",
    "sonuc,toplam = bol(sayi2=5,sayi1=3)      #burada koda diyoruz ki senin sayı 2 adlı parametren 5, sayı 1 adlı parametren 3 .Aslında sonuç aynısını verecek.\n",
    "print(sonuc,toplam)\n",
    "\n",
    "#Eğer ki siz değişkenleri adıyla beraber vermez, sırayla verirseniz, değişkenlerde varsayılan, yazılan sırasıyla atanmış kabul edilir.\n",
    "# Ama sırasından farklı vermek istiyorsanız o zaman değişken adlarıyla beraber vermelisiniz."
   ]
  }
 ],
 "metadata": {
  "kernelspec": {
   "display_name": "venv",
   "language": "python",
   "name": "python3"
  },
  "language_info": {
   "codemirror_mode": {
    "name": "ipython",
    "version": 3
   },
   "file_extension": ".py",
   "mimetype": "text/x-python",
   "name": "python",
   "nbconvert_exporter": "python",
   "pygments_lexer": "ipython3",
   "version": "3.12.3"
  }
 },
 "nbformat": 4,
 "nbformat_minor": 2
}
