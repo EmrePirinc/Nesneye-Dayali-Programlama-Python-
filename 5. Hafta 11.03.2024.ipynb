{
 "cells": [
  {
   "cell_type": "code",
   "execution_count": 5,
   "id": "initial_id",
   "metadata": {
    "collapsed": true,
    "is_executing": true
   },
   "outputs": [
    {
     "name": "stdout",
     "output_type": "stream",
     "text": [
      "['S', 'a', 'k', 'a', 'r', 'y', 'a', ' ', 'Ü', 'n', 'i', 'v', 'e', 'r', 's', 'i', 't', 'e', 's', 'i']\n",
      "a\n"
     ]
    }
   ],
   "source": [
    "dizi=[]\n",
    "dizi2=list()\n",
    "dizi3=[\"ela\",\"elma\", 'muz',1,4.5]\n",
    "dizi5=list(\"Sakarya Üniversitesi\")   #herbir karakteri dizinin bir elemanı olur\n",
    "print(dizi5)\n",
    "print(dizi5[1])"
   ]
  },
  {
   "cell_type": "code",
   "execution_count": 1,
   "id": "2aed80ce",
   "metadata": {},
   "outputs": [
    {
     "name": "stdout",
     "output_type": "stream",
     "text": [
      "['ela', 'elma', 'muz', 1, 4.5]\n",
      "muz\n"
     ]
    }
   ],
   "source": [
    "dizi3=[\"ela\",\"elma\", 'muz',1,4.5]\n",
    "dizi6=[dizi3,\"ali\",5]\n",
    "print(dizi6[0])   #dizi3\n",
    "print(dizi6[0][2]) #muz"
   ]
  },
  {
   "cell_type": "code",
   "execution_count": 10,
   "id": "12fd99e0",
   "metadata": {},
   "outputs": [
    {
     "name": "stdout",
     "output_type": "stream",
     "text": [
      "['ela', 'elma', 'muz', 1, 4.5]\n",
      "muz\n",
      "4.5\n",
      "4.5\n"
     ]
    }
   ],
   "source": [
    "dizi3=[\"ela\",\"elma\", 'muz',1,4.5]\n",
    "dizi6=[dizi3,\"ali\",5]\n",
    "yeniDizi=dizi6[0] ;print(yeniDizi) #dizi3 \n",
    "print(yeniDizi[2]) # muz\n",
    " \n",
    "sonEleman=yeniDizi[4]\n",
    "print(sonEleman)\n",
    "print(dizi6[0][4])\n"
   ]
  },
  {
   "cell_type": "code",
   "execution_count": 11,
   "id": "fa818379",
   "metadata": {},
   "outputs": [
    {
     "name": "stdout",
     "output_type": "stream",
     "text": [
      "a\n"
     ]
    }
   ],
   "source": [
    "dizi5=list(\"Sakarya Üniversitesi\")\n",
    "print(dizi5[3]) "
   ]
  },
  {
   "cell_type": "code",
   "execution_count": 19,
   "id": "2a7b54c9",
   "metadata": {},
   "outputs": [
    {
     "name": "stdout",
     "output_type": "stream",
     "text": [
      "S\n"
     ]
    }
   ],
   "source": [
    "dizi5=list(\"Sakarya Üniversitesi\")\n",
    "# uzun=len(dizi5);print(uzun)\n",
    "print(dizi5[-20])"
   ]
  },
  {
   "cell_type": "code",
   "execution_count": 12,
   "id": "29fa091d",
   "metadata": {},
   "outputs": [
    {
     "name": "stdout",
     "output_type": "stream",
     "text": [
      "i\n"
     ]
    }
   ],
   "source": [
    "dizi5=list(\"Sakarya Üniversitesi\")\n",
    "print(dizi5[-1])   #son elemanın indisini bilmiyosak ve yazdırmak istiyorsak"
   ]
  },
  {
   "cell_type": "code",
   "execution_count": 13,
   "id": "71ce5c53",
   "metadata": {},
   "outputs": [
    {
     "name": "stdout",
     "output_type": "stream",
     "text": [
      "['t', 'e', 's', 'i']\n"
     ]
    }
   ],
   "source": [
    "dizi5=list(\"Sakarya Üniversitesi\")\n",
    "print(dizi5[16:])   #kaçta bittiğini bilmiyorsak ve sonuna kadar yazdırmak istiyorsak  "
   ]
  },
  {
   "cell_type": "code",
   "execution_count": 14,
   "id": "30583026",
   "metadata": {},
   "outputs": [
    {
     "name": "stdout",
     "output_type": "stream",
     "text": [
      "['t', 'e', 's', 'i']\n"
     ]
    }
   ],
   "source": [
    "dizi5=list(\"Sakarya Üniversitesi\")\n",
    "print(dizi5[16:28])   #t e s i  #orjinal uzunluğundan fazla ise sonuna kadar gider ve bitince durur"
   ]
  },
  {
   "cell_type": "code",
   "execution_count": 22,
   "id": "f779b9b5",
   "metadata": {},
   "outputs": [
    {
     "name": "stdout",
     "output_type": "stream",
     "text": [
      "['S', 'a', 'k']\n"
     ]
    }
   ],
   "source": [
    "dizi5=list(\"Sakarya Üniversitesi\")\n",
    "print(dizi5[0:3])"
   ]
  },
  {
   "cell_type": "code",
   "execution_count": 23,
   "id": "5fd89f97",
   "metadata": {},
   "outputs": [
    {
     "name": "stdout",
     "output_type": "stream",
     "text": [
      "['S', 'a', 'k']\n"
     ]
    }
   ],
   "source": [
    "dizi5=list(\"Sakarya Üniversitesi\")\n",
    "print(dizi5[:3]) #başlangıcdan itibaren anlamına gelir"
   ]
  },
  {
   "cell_type": "code",
   "execution_count": 24,
   "id": "1dbd4e81",
   "metadata": {},
   "outputs": [
    {
     "name": "stdout",
     "output_type": "stream",
     "text": [
      "['a', 'r', 'y']\n"
     ]
    }
   ],
   "source": [
    "dizi5=list(\"Sakarya Üniversitesi\")\n",
    "print(dizi5[3:6])  #3 dahil başlangıç dahil          # 6 dahil değil #yani bitiş ise -1 inin dahil oldğunu ifade eder"
   ]
  },
  {
   "cell_type": "code",
   "execution_count": 16,
   "id": "43b727a4",
   "metadata": {},
   "outputs": [
    {
     "name": "stdout",
     "output_type": "stream",
     "text": [
      "['s', 'a', 'k', 'a', 'r', 'y', 'a', 'ü', 'n', 'i', 'v', 'e', 'r', 's', 'i', 't', 'e', 's', 'i']\n"
     ]
    }
   ],
   "source": [
    "dizi1=list(\"sakarya\")\n",
    "dizi2=list(\"üniversitesi\")\n",
    "dizi3=dizi1+dizi2 \n",
    "print(dizi3)"
   ]
  },
  {
   "cell_type": "markdown",
   "id": "3b21ac50",
   "metadata": {},
   "source": [
    "## ---------------------SORU----------------------\n",
    "\n",
    "İki kelimeden oluşan bir metnin ikinci kelimesinin ilk 3 karakterini ekrana yazın"
   ]
  },
  {
   "cell_type": "code",
   "execution_count": 19,
   "id": "970051d1",
   "metadata": {},
   "outputs": [
    {
     "name": "stdout",
     "output_type": "stream",
     "text": [
      "elm\n",
      "elm\n"
     ]
    }
   ],
   "source": [
    "metin=input(\"2 kelimelik metin gir:\")  #kırmızı elma\n",
    "dizi=metin.split(\" \")\n",
    "ikinciKelime=dizi[1]\n",
    "\n",
    "print(ikinciKelime[:3])\n",
    "#print(dizi[1][:3])"
   ]
  },
  {
   "cell_type": "code",
   "execution_count": 13,
   "id": "8db98595",
   "metadata": {},
   "outputs": [
    {
     "name": "stdout",
     "output_type": "stream",
     "text": [
      "[1, 555, 9]\n"
     ]
    }
   ],
   "source": [
    "dizi=[1,4,9]  #bir dizinin elamanını değiştirebilmek için\n",
    "dizi[1]=555\n",
    "print(dizi)"
   ]
  },
  {
   "cell_type": "code",
   "execution_count": 14,
   "id": "1e53eabc",
   "metadata": {},
   "outputs": [
    {
     "name": "stdout",
     "output_type": "stream",
     "text": [
      "['S', 'a', 'k', 'a', 'b', 'c', 'a', ' ', 'Ü', 'n', 'i', 'v', 'e', 'r', 's', 'i', 't', 'e', 's', 'i']\n"
     ]
    }
   ],
   "source": [
    "dizi=list(\"Sakarya Üniversitesi\")\n",
    "dizi[3:6]=[\"a\",\"b\",\"c\"]             #3:6 ya kadar 3 eleman olduğu için vereceğimiz 3 eleman olmalı. \n",
    "print(dizi)"
   ]
  },
  {
   "cell_type": "markdown",
   "id": "f94fd11a",
   "metadata": {},
   "source": [
    "## ---------------------------SORU-----------------------------------\n",
    "\n",
    "Kullanıcı tarafından girilen iki farklı metindeki cümlelerin birincisindeki 2.kelimeyi \n",
    "\n",
    "ikinci cümlenin 2. kelimesi ile değiştirip ekrana metin olarak yazın\n",
    "\n",
    "\"Hüseyin Esen\"   \n",
    "\n",
    "\"Ubeyde Karabulut\"\n",
    "\n",
    "\n",
    "\n"
   ]
  },
  {
   "cell_type": "code",
   "execution_count": 29,
   "id": "873aa073",
   "metadata": {},
   "outputs": [
    {
     "name": "stdout",
     "output_type": "stream",
     "text": [
      "Hüseyin Karabulut\n"
     ]
    }
   ],
   "source": [
    "ad1=\"Hüseyin Esen\"; ad2=\"Ubeyde Karabulut\"\n",
    "yeniAd=ad1.split(\" \")[0]+\" \"+ ad2.split(\" \")[1]\n",
    "print(yeniAd)"
   ]
  },
  {
   "cell_type": "code",
   "execution_count": 30,
   "id": "73263cb0",
   "metadata": {},
   "outputs": [
    {
     "name": "stdout",
     "output_type": "stream",
     "text": [
      "Huseyin karabulut\n"
     ]
    }
   ],
   "source": [
    "metin1=input(\"ilk metni gir:\") #Huseyin esen\n",
    "metin2=input(\"ikinci metin gir:\") #ubeyde karabulut\n",
    "birinciKelime=metin1.split(\" \")\n",
    "ikinciKelime=metin2.split(\" \")\n",
    "print(birinciKelime[0],ikinciKelime[1])"
   ]
  },
  {
   "cell_type": "markdown",
   "id": "6c95c72e",
   "metadata": {},
   "source": [
    "## ------------------------SORU----------------------\n",
    "\n",
    "Sakarya Üniversitesi ifadesinin 3. ve 6. karakterleri arasındaki harflerin \"abc\" olarak değiştirilip ekrana yeni halini yazın"
   ]
  },
  {
   "cell_type": "code",
   "execution_count": 2,
   "id": "165382e1",
   "metadata": {},
   "outputs": [
    {
     "name": "stdout",
     "output_type": "stream",
     "text": [
      "Sakabca Üniversitesi\n"
     ]
    }
   ],
   "source": [
    "dizi=list(\"Sakarya Üniversitesi\")\n",
    "dizi[3:6]=[\"a\",\"b\",\"c\"] \n",
    "yeniDizi=\"\".join(dizi)\n",
    "print(yeniDizi)"
   ]
  },
  {
   "cell_type": "code",
   "execution_count": 44,
   "id": "4c6e5029",
   "metadata": {},
   "outputs": [
    {
     "name": "stdout",
     "output_type": "stream",
     "text": [
      "1\n",
      "elma\n",
      "2\n",
      "elma\n",
      "3\n",
      "elma\n",
      "4\n",
      "elma\n",
      "5\n",
      "elma\n",
      "6\n",
      "elma\n",
      "7\n",
      "elma\n",
      "8\n",
      "elma\n",
      "9\n",
      "elma\n",
      "armut\n"
     ]
    }
   ],
   "source": [
    "#RANGE \n",
    "for i in range(1,10):  #9 defa döner\n",
    "    print(i)\n",
    "    print(\"elma\")\n",
    "print(\"armut\")  #girinti dışında olduğu için 1 kez yazıldı"
   ]
  },
  {
   "cell_type": "code",
   "execution_count": 45,
   "id": "072cd3fd",
   "metadata": {},
   "outputs": [
    {
     "name": "stdout",
     "output_type": "stream",
     "text": [
      "0\n",
      "1\n",
      "2\n",
      "3\n",
      "4\n",
      "5\n",
      "6\n",
      "7\n",
      "8\n",
      "9\n"
     ]
    }
   ],
   "source": [
    "for i in range (10):  #10 defa döndü\n",
    "    print(i)"
   ]
  },
  {
   "cell_type": "code",
   "execution_count": 47,
   "id": "4cdd0725",
   "metadata": {},
   "outputs": [
    {
     "name": "stdout",
     "output_type": "stream",
     "text": [
      "5\n",
      "8\n",
      "11\n",
      "14\n",
      "17\n"
     ]
    }
   ],
   "source": [
    "for i in range (5,20,3):\n",
    "    print(i)"
   ]
  },
  {
   "cell_type": "code",
   "execution_count": 48,
   "id": "529b058f",
   "metadata": {},
   "outputs": [
    {
     "name": "stdout",
     "output_type": "stream",
     "text": [
      "20\n",
      "17\n",
      "14\n",
      "11\n",
      "8\n"
     ]
    }
   ],
   "source": [
    "for i in range (20,5,-3):\n",
    "    print(i)      #negatif döngü de olabilir"
   ]
  },
  {
   "cell_type": "code",
   "execution_count": 50,
   "id": "927a72f9",
   "metadata": {},
   "outputs": [
    {
     "name": "stdout",
     "output_type": "stream",
     "text": [
      "S\n",
      "a\n",
      "k\n",
      "a\n",
      "r\n",
      "y\n",
      "a\n"
     ]
    }
   ],
   "source": [
    "for i in \"Sakarya\":\n",
    "    print(i)"
   ]
  },
  {
   "cell_type": "code",
   "execution_count": 51,
   "id": "28e9905f",
   "metadata": {},
   "outputs": [
    {
     "name": "stdout",
     "output_type": "stream",
     "text": [
      "ali\n",
      "veli\n",
      "ayse\n",
      "fatma\n"
     ]
    }
   ],
   "source": [
    "dizi=[\"ali\",\"veli\",\"ayse\",\"fatma\"]\n",
    "for i in dizi:\n",
    "    print(i)"
   ]
  },
  {
   "cell_type": "code",
   "execution_count": 48,
   "id": "8af3de4f",
   "metadata": {},
   "outputs": [
    {
     "name": "stdout",
     "output_type": "stream",
     "text": [
      "yaziliyor..\n",
      "S\n",
      "yaziliyor..\n",
      "yaziliyor..\n",
      "k\n",
      "yaziliyor..\n",
      "yaziliyor..\n",
      "r\n",
      "yaziliyor..\n",
      "y\n",
      "yaziliyor..\n"
     ]
    }
   ],
   "source": [
    "for i in \"Sakarya\":\n",
    "    print(\"yaziliyor..\")\n",
    "    if i == \"a\":continue  # eğer True döndürürse kodun kalan kısmını çalıştırmaz tekrar döngüye döner\n",
    "    print(i)"
   ]
  },
  {
   "cell_type": "code",
   "execution_count": 49,
   "id": "0f694dda",
   "metadata": {},
   "outputs": [
    {
     "name": "stdout",
     "output_type": "stream",
     "text": [
      "yaziliyor..\n",
      "S\n",
      "yaziliyor..\n",
      "yaziliyor..\n"
     ]
    }
   ],
   "source": [
    "for i in \"Sakarya\":\n",
    "    print(\"yaziliyor..\")\n",
    "    if i == \"a\":continue  \n",
    "    if i==\"k\": break #döngüyü keser\n",
    "    print(i)"
   ]
  },
  {
   "cell_type": "markdown",
   "id": "56aa1330",
   "metadata": {},
   "source": [
    "## ------------------------------SORU-------------------------------\n",
    "\n",
    "Kullanıcı tarafından girilen bir metindeki büyük harflerin tümünü yan yana ekrana yazılmasını sağlayın\n",
    "\n",
    "SakarYA"
   ]
  },
  {
   "cell_type": "code",
   "execution_count": 50,
   "id": "9756c84a",
   "metadata": {},
   "outputs": [
    {
     "name": "stdout",
     "output_type": "stream",
     "text": [
      "SYA\n"
     ]
    }
   ],
   "source": [
    "yeniMetin=\"\"\n",
    "for i in input():           #SakarYA\n",
    "    if i.isupper():\n",
    "        yeniMetin= yeniMetin + i\n",
    "print(yeniMetin)"
   ]
  },
  {
   "cell_type": "code",
   "execution_count": 63,
   "id": "6e1d0f34",
   "metadata": {},
   "outputs": [
    {
     "name": "stdout",
     "output_type": "stream",
     "text": [
      "SYA"
     ]
    }
   ],
   "source": [
    "for i in input():           #SakarYA\n",
    "    if i.isupper():\n",
    "        print(i, end=\"\")  # printte varsayılan olarak olan enter karakerini end=\"\" yaparak bitişik şekilde yazdırdık"
   ]
  },
  {
   "cell_type": "markdown",
   "id": "2c6d49d9",
   "metadata": {},
   "source": [
    "## ------------------------------SORU---------------------------------\n",
    "\n",
    "+101 den başlayarak  -100 e kadar (-100 dahil) olan sayılardan -10'a tam bölünenleri ekrana sırasıyla yan yana aralarında virgül olacak şekilde yazın"
   ]
  },
  {
   "cell_type": "code",
   "execution_count": 76,
   "id": "290f76f7",
   "metadata": {},
   "outputs": [
    {
     "name": "stdout",
     "output_type": "stream",
     "text": [
      "100,90,80,70,60,50,40,30,20,10,0,-10,-20,-30,-40,-50,-60,-70,-80,-90,-100,"
     ]
    }
   ],
   "source": [
    "for i in range(101,-101,-1):\n",
    "    if i%10==0:\n",
    "        print(i, end=\",\")"
   ]
  },
  {
   "cell_type": "code",
   "execution_count": 75,
   "id": "d1458dc6",
   "metadata": {},
   "outputs": [
    {
     "name": "stdout",
     "output_type": "stream",
     "text": [
      "100,90,80,70,60,50,40,30,20,10,0,-10,-20,-30,-40,-50,-60,-70,-80,-90,-100,"
     ]
    }
   ],
   "source": [
    "for i in range(100,-101,-10):\n",
    "    print(i, end=\",\")"
   ]
  },
  {
   "cell_type": "code",
   "execution_count": 1,
   "id": "cc868990",
   "metadata": {},
   "outputs": [
    {
     "name": "stdout",
     "output_type": "stream",
     "text": [
      "100,90,80,70,60,50,40,30,20,10,0,-10,-20,-30,-40,-50,-60,-70,-80,-90,-100\n"
     ]
    }
   ],
   "source": [
    "yeniMetin=\"\"\n",
    "for i in range (101,-101,-1):\n",
    "    if i%10==0:\n",
    "        yeniMetin=yeniMetin + str(i)+\",\"          \n",
    "print(yeniMetin[0:-1])                     #sonda virgül yazmaması için"
   ]
  },
  {
   "cell_type": "markdown",
   "id": "c94610cb",
   "metadata": {},
   "source": [
    "## ------------------------SORU-------------------\n",
    "\n",
    "100 ile 500 arasındaki sayılardan hem 3'e hem de 5'e bölünen sayıların ortalaması kaçtır ?"
   ]
  },
  {
   "cell_type": "code",
   "execution_count": 81,
   "id": "5f2a1c2e",
   "metadata": {},
   "outputs": [
    {
     "name": "stdout",
     "output_type": "stream",
     "text": [
      "300.0\n"
     ]
    }
   ],
   "source": [
    "toplam,sayi=0,0\n",
    "for i in range(100,500,1):\n",
    "    if i%3==0 and i%5==0:\n",
    "        toplam+=i                 #toplam = toplam+i\n",
    "        sayi+=1                   #sayi = sayi +1         k2 50.00\n",
    "print(toplam/sayi)"
   ]
  }
 ],
 "metadata": {
  "kernelspec": {
   "display_name": "Python 3",
   "language": "python",
   "name": "python3"
  },
  "language_info": {
   "codemirror_mode": {
    "name": "ipython",
    "version": 3
   },
   "file_extension": ".py",
   "mimetype": "text/x-python",
   "name": "python",
   "nbconvert_exporter": "python",
   "pygments_lexer": "ipython3",
   "version": "3.12.2"
  }
 },
 "nbformat": 4,
 "nbformat_minor": 5
}
