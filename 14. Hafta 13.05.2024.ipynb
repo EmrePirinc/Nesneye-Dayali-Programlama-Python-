{
 "cells": [
  {
   "cell_type": "markdown",
   "metadata": {},
   "source": [
    "## **CLASSLAR (SINIFLAR)**\n"
   ]
  },
  {
   "cell_type": "code",
   "execution_count": 7,
   "metadata": {},
   "outputs": [],
   "source": [
    "class islemler:\n",
    "    def topla(a,b):\n",
    "        return a+b\n",
    "    def cikar(a,b):\n",
    "        return a-b\n",
    "#topla(3,5) topla dersem bakın hata alırız gelmez.\n",
    "#Niçin? \n",
    "#Çünkü topla burasıyla aynı seviyede değil bir içeride değil mi? \n",
    "#Dolayısıyla ben de bir şeyin içinde demem lazım. \n",
    "#İşte diyeceğim şey benim için artık class'ın adı. islemler.topla(3,5)\n"
   ]
  },
  {
   "cell_type": "code",
   "execution_count": 4,
   "metadata": {},
   "outputs": [
    {
     "name": "stdout",
     "output_type": "stream",
     "text": [
      "8\n"
     ]
    }
   ],
   "source": [
    "class islemler:\n",
    "    \"Matematiksel dört işlem metotlarını barındırır.\"           #class açıklaması\n",
    "\n",
    "    def topla(a,b):\n",
    "        return a+b\n",
    "    def cikar(a,b):\n",
    "        return a-b\n",
    "sonuc=islemler.topla(3,5)\n",
    "print(sonuc)\n",
    "\n",
    "#Açıklamaya nereden ulaşıyoruz? İslemler dediğim zaman fareyi üzerine götürüp beklettiğimde açıklamayı göstermiş oluyor.\n"
   ]
  },
  {
   "cell_type": "code",
   "execution_count": 10,
   "metadata": {},
   "outputs": [
    {
     "name": "stdout",
     "output_type": "stream",
     "text": [
      "8\n",
      "3.14\n"
     ]
    }
   ],
   "source": [
    "class islemler:\n",
    "    \"Matematiksel dört işlem metotlarını barındırır.\"\n",
    "    piSayisi=3.14                   #sınıflar sadece metodları bir araya getirmez aynı zamanda başka değişkenlerimiz varsa onları da bir araya getirir\n",
    "    def topla(a,b):\n",
    "        return a+b\n",
    "    def cikar(a,b):\n",
    "        return a-b\n",
    "sonuc=islemler.topla(3,5)\n",
    "print(sonuc)\n",
    "\n",
    "sonuc=islemler.piSayisi                #Pi sayısı dedik 3.14 diye bir şey oluşturduk. Artık bakın işlemler dediğim zaman pi sayısı değişkenine de ulaşabiliyoruz\n",
    "print(sonuc)"
   ]
  },
  {
   "cell_type": "markdown",
   "metadata": {},
   "source": [
    "Nesne tabanlı programlama dediğimiz zaman nesne dediğimiz şey aslında bir class'ın kopyasını oluşturma işlemidir. \n",
    "Şimdiye kadar bakın biz mesela direktmen işlemler nokta diyerek ulaştık altındaki metotlara ve değişkenlere.\n",
    "Fakat bizim ulaşabilmemizin sebebi şuydu. Bizim buradaki yapmış olduğumuz tanımlamalar zaten işlemler adlı class'ın altında doğrudan ulaşılabilirdi.\n",
    "Fakat biz bir kopya aracılığıyla ancak ulaşılabilir olan metodlar da oluşturabiliriz. \n",
    "\n",
    "Şimdi sınıfların ```__init__``` ile biten bir tane kendi içinde sabit bir metodu vardır. Bu metot ne işe yarar? \n",
    "\n",
    "Bir sınıftan nesne üretildiği zaman yani bir sınıftan kopya üretildiği zaman otomatik olarak çalışmaya başlar.\n",
    " \n",
    "Biz bunu istediğimiz gibi yapılandırabiliriz.\n"
   ]
  },
  {
   "cell_type": "code",
   "execution_count": 7,
   "metadata": {},
   "outputs": [
    {
     "name": "stdout",
     "output_type": "stream",
     "text": [
      "işlem başladı\n"
     ]
    }
   ],
   "source": [
    "class islemler:\n",
    "    \"Matematiksel dört işlem metotlarını barındırır.\"\n",
    "    def __init__(self):                                    #Bu içerisindeki self parametresi dediğimiz aslında o kopya üretilirken kopyanın içerisine verilen değerleri tutar. \n",
    "        print(\"işlem başladı\")\n",
    "    piSayisi=3.14\n",
    "    def topla(a,b):\n",
    "        \"metot açıklaması\"\n",
    "        return a+b\n",
    "    def cikar(a,b):\n",
    "        return a-b\n",
    "\n",
    "sonuc =islemler.topla(3,5)          #işlem başladı yazmadı sadece 8 çıktısını verdi.\n",
    "print(sonuc)"
   ]
  },
  {
   "cell_type": "code",
   "execution_count": 13,
   "metadata": {},
   "outputs": [
    {
     "name": "stdout",
     "output_type": "stream",
     "text": [
      "işlem başladı\n",
      "8\n"
     ]
    }
   ],
   "source": [
    "class islemler:\n",
    "    \"Matematiksel dört işlem metotlarını barındırır.\"\n",
    "    def __init__(self):                                #Buradaki self parametresi kopyanın verileceğini söylüyor. \n",
    "        print(\"işlem başladı\")\n",
    "    piSayisi=3.14\n",
    "    def topla(a,b):\n",
    "        \"metot açıklaması\"\n",
    "        return a+b\n",
    "    def cikar(a,b):\n",
    "        return a-b\n",
    "yeniKopya=islemler()              #burada bir kopya oluşturmuş olduk. \n",
    "sonuc =islemler.topla(3,5)        #Önce ekrana işlem başladı yazdı. Sonra sonucumuz olan 8'i yazdı.\n",
    "\n",
    "print(sonuc)\n",
    "\n",
    "#Yani kopya oluşur oluşmaz çalışacak metodun içerisine kendisi girdi. \n"
   ]
  },
  {
   "cell_type": "code",
   "execution_count": 14,
   "metadata": {
    "ExecuteTime": {
     "end_time": "2024-05-25T16:14:47.164216Z",
     "start_time": "2024-05-25T16:14:47.160663Z"
    }
   },
   "outputs": [
    {
     "name": "stdout",
     "output_type": "stream",
     "text": [
      "İşlemler sınıfına değer olarak 4 ve 7 değeri girildi.\n",
      "28\n"
     ]
    }
   ],
   "source": [
    "class islemler:\n",
    "    def __init__(self, a,b):            #kopya oluşturulup kopyanın içerisine kopyanın kendisi ve a ve b diye bir şey verilirse \n",
    "        self.a=a                        #bu kopyanın içerisinde a'ya a ata. Yani bu kopyanın içerisinde otomatik olarak a diye bir değişken olsun. \n",
    "        self.b=b                        #Bu kopyanın içerisinde b diye bir değişken olsun. İçeriği de buradan gelen b olsun \n",
    "        print(f\"İşlemler sınıfına değer olarak {a} ve {b} değeri girildi.\")         #printle bu kopya çalıştırılır çalıştırılmaz şunu yaz. bakın ben kopyayı oluşturduğum an bu ifade yazılır\n",
    "    piSayisi=3.14\n",
    "    def carp(self):          #ben artık çarp metoduna bir parametre vermiyorum.  metod sadece içerisinde self alsın. Yani kopyanın bilgilerini alsın içerisine. Başka bir şey almasın. Bu kez diyorum ki neyi çarpsın? \n",
    "        return self.a*self.b            #self.a*self.b Kopyanın içerisindekilerini çarpsın. \n",
    "    def topla(a,b): \n",
    "        \"metot açıklaması\"\n",
    "        return a+b\n",
    "    def cikar(a,b):\n",
    "        return a-b\n",
    "    \n",
    "yeniKopya=islemler(4,7)                 #bu kopyanın içerisindeki a ile kopyanın içerisindeki b'yi çarparak geriye döndür. \n",
    "\n",
    "sonuc =yeniKopya.carp()\n",
    "print(sonuc)\n",
    "    \n"
   ]
  },
  {
   "cell_type": "markdown",
   "metadata": {},
   "source": [
    "### **Class'lar ne yapar?**\n",
    "Metodları ve değişkenleri gruplar. \n",
    "### **Peki ya bu class'lar sadece gruplama işine mi yarar?**  \n",
    "Başka bir işe yaramaz mı?  \n",
    "Evet çok işe yarar.  \n",
    "Bu class'lar çağırıldığı an bir şeyler yapsın istiyorsanız eğer işte o zaman ```init metodunu``` kullanmak zorundasınız.   \n",
    "O zaman kopyayı üretmeyi kullanmak zorundasınız. \n",
    "\n",
    "Ha yok eğer buna ihtiyacınız yoksa ben sadece kuru kuru gruplama yapacağım diyorsanız o zaman init metodu ile bir işimiz yok. \n",
    "\n",
    "Eğer ki siz bu sınıf çağırılır çağırılmaz bir şeylerin yapılmasını ```otomatik``` istiyorsanız o zaman ```init metodunu ``` kullanmalısınız.  \n",
    "\n",
    "### **Ne demek init metodu ?**   \n",
    "Bu class çağırıldığı an otomatik olarak yapılacak işlemlerin yazıldığı yer. \n",
    "\n",
    "Peki bu otomatik yapılacak işlemler sırasında bu class çağırılır çağırılmaz ben çağırırken class'ı içerisine ```bir şeyler vermek istiyorsam``` işte o zaman ```değişkenleri self'in``` içerisine atıyorum.\n",
    "O kopyanın içerisine atıyorum bu kez. Çünkü sonra onu kullanacağım demek ki bunu yapıyorsam.\n",
    "\n",
    "Ha yok kullanmayacaksam yapmama gerek yok. Ama ben diyorum ki bu kopyanın içerisinde atanmış ```olan a ve b değişkenlerini``` aşağıdakilerde de ```kullanmak``` istiyorsam eğer o zaman ```self'i``` kullanacağım. \n",
    "\n"
   ]
  },
  {
   "cell_type": "markdown",
   "metadata": {},
   "source": [
    "### **Inıt Kullanım Örneği**\n",
    "\n",
    "Veritabanında veya dosya işlemlerinde, bir dosyaya defalarca yazmamız gerektiğinde ne yapıyoruz? Örneğin, bir txt dosyasına bir milyon kez yazmak istiyoruz. Mantıklı olan nedir? Dosyayı bir kere açıp, bir milyon kez yazdıktan sonra kapatmak mı? Yoksa bir milyon kez dosyayı açıp yazıp kapatmak mı? Tabii ki mantıklı olan, dosyayı bir kere açıp işimiz bitene kadar açık tutmak.\n",
    "\n",
    "Şimdi, bu işlemleri bir sınıfa koyduğumuzu düşünelim. Dosya işlemleri sınıfında init metodunu kullanarak dosyayı sınıf oluşturulduğunda otomatik olarak açabiliriz. Yazma işlemleri yazma metodunda yapılır ve en son işlem bittiğinde dosya kapatılır. Bu, init metodunun neden önemli olduğunu gösterir."
   ]
  },
  {
   "cell_type": "markdown",
   "metadata": {},
   "source": [
    "### ```@staticmethod```\n",
    "\n",
    "Bakın topla ve çıkar metodundaki A'lara bakın rengi farklı. Niye rengi farklı? \n",
    "Çünkü bir class tanımlanır tanımlanmaz altındaki metodlar için diyor ki sizin ```ilk verdiğiniz parametreyi``` ben ```self``` kabul ediyorum. Yani ```benim üstümdeki sınıfa ait parametreler``` kabul ediyorum. Eğer ki siz bir metod yazacaksınız ve o yazmış olduğunuz metod hiçbir şekilde kendisinin üstündeki sınıfa ait hiçbir şeyi kullanmayacaksanız \n",
    "o zaman bu metod ```statiktir. ```\n",
    "\n",
    "Yani siz çıkar diye bir metod yazmışsınız ama bu yazdığınız metod sadece kendisine verilen parametreleri kullanacak üstteki sınıfla ```ilgili hiçbir şey kullanmayacağım.```\n",
    "Yani sadece işlemler nokta çıkar yapacağım başka bir şey yapmayacağım ben diyorsanız bu ```metod statik metottur.```\n",
    "\n",
    "Eğer ki siz metodun hemen üstüne ```@statik metod``` yazarsanız bunun statik bir metod olduğunu anlar \n",
    "\n",
    "ve o zaman dikkat edin ```A'nın rengi siyah``` olur.\n",
    "Yani ```self parametresi ihtiyaç olmadığını``` bilir.\n"
   ]
  },
  {
   "cell_type": "code",
   "execution_count": 17,
   "metadata": {
    "ExecuteTime": {
     "end_time": "2024-05-25T16:13:50.938100Z",
     "start_time": "2024-05-25T16:13:50.931883Z"
    }
   },
   "outputs": [
    {
     "name": "stdout",
     "output_type": "stream",
     "text": [
      "İşlemler sınıfına değer olarak 4 ve 7 değeri girildi.\n",
      "28\n"
     ]
    }
   ],
   "source": [
    "class islemler:\n",
    "    def __init__(self, a,b):\n",
    "        self.a=a\n",
    "        self.b=b\n",
    "        print(f\"İşlemler sınıfına değer olarak {a} ve {b} değeri girildi.\")\n",
    "    piSayisi=3.14\n",
    "    def carp(self):\n",
    "        return self.a*self.b\n",
    "    def topla(a,b):           #biz aslında toplamın önüne statik yazmamışız ama yapı olarak statik davranmışız. Aslında bu da statiktir şu an üstten bişey kullanmadığı için.\n",
    "        \"metot açıklaması\"\n",
    "        return a+b\n",
    "    \n",
    "    @staticmethod\n",
    "    def cikar(a,b):\n",
    "        return a-b\n",
    "yeniKopya=islemler(4,7)\n",
    "sonuc =yeniKopya.carp()\n",
    "print(sonuc)"
   ]
  },
  {
   "cell_type": "code",
   "execution_count": 23,
   "metadata": {},
   "outputs": [
    {
     "name": "stdout",
     "output_type": "stream",
     "text": [
      "İşlemler sınıfına değer olarak 4 ve 7 değeri girildi.\n",
      "33\n",
      "İşlemler sınıfına değer olarak 1 ve 2 değeri girildi.\n",
      "25\n"
     ]
    }
   ],
   "source": [
    "class islemler:\n",
    "    def __init__(self, a,b):\n",
    "        self.a=a\n",
    "        self.b=b\n",
    "        print(f\"İşlemler sınıfına değer olarak {a} ve {b} değeri girildi.\")\n",
    "    piSayisi=3.14\n",
    "    def carp(self):\n",
    "        return self.a*self.b\n",
    "    def topla(self, x,y):\n",
    "        \"metot açıklaması\"\n",
    "        return self.a+self.b + x+y \n",
    "    \n",
    "    def cikar(a,b):\n",
    "        return a-b\n",
    "yeniKopya=islemler(4,7)     #İşlemler adlı sınıfın içerisine 4 ve 7'nin verilmiş olduğu halini bu isimle kopyala. \n",
    "sonuc=yeniKopya.topla(11,11)  #biz buna bir class gibi davranıyoruz class nokta diyoruz\n",
    "print(sonuc)\n",
    "\n",
    "#Ama bunun içerisinde sadece sabit bir değişken tanımlanmış içerisinde 4 ve 7 için. \n",
    "#Değil mi?  Sabit bir değişken tanımlanmış onu kullanıyoruz.  İşte bunun adı Nesnesini oluşturmak.  \n",
    "\n",
    "#Yeni kopya dediğimiz aslında yeni bir class gibi davranıyor. \n",
    "#İşlemleri de içine alarak işlemler class'ının içine alarak yeni bir class oluşturuyor.\n",
    "\n",
    "islemlerKopyası2=islemler(1,2)\n",
    "sonuc=islemlerKopyası2.topla(11,11)\n",
    "print(sonuc)\n",
    "\n",
    "#Sanki işlemler class'ının içerisinde a ve b'de sabit değişken tanımlanmış düşünün. \n",
    "#Ama bu sabite ben değerleri veriyorum aslında. Her seferinde. işte o yüzden bir kopya oluşturmak zorunda kaldık. "
   ]
  },
  {
   "cell_type": "markdown",
   "metadata": {},
   "source": [
    "### Üstteki Kodun Açıklaması\n",
    "```\n",
    "    def topla(self, x,y):\n",
    "        \"metot açıklaması\"\n",
    "        return self.a+self.b + x+y \n",
    "```\n",
    "Şimdi sen eğer ki hem yukarıdaki sınıfa ait değerleri kullanmak istiyorsun hem de ayrıca yeni bir şeyler kullanmak istiyorsan o zaman yapman gereken \n",
    "buraya önce self parametresini verir sonra x y verirsin.   \n",
    "\n",
    "a ve b yi 4+7 olarak yukarıdan aldı ek olarak x ve y için ise 11+11 i de yeni toplama değeri olarak ekledi bu değere sonuç olarak 33 buldu."
   ]
  },
  {
   "cell_type": "code",
   "execution_count": 2,
   "metadata": {
    "ExecuteTime": {
     "end_time": "2024-05-25T18:02:36.604108Z",
     "start_time": "2024-05-25T18:02:36.598851Z"
    }
   },
   "outputs": [
    {
     "data": {
      "text/plain": [
       "1"
      ]
     },
     "execution_count": 2,
     "metadata": {},
     "output_type": "execute_result"
    }
   ],
   "source": [
    "class islemler:\n",
    "    def __init__(self, a,b):\n",
    "        self.a=a\n",
    "        self.b=b\n",
    "        print(f\"İşlemler sınıfına değer olarak {a} ve {b} değeri girildi.\")\n",
    "    piSayisi=3.14\n",
    "    def carp(self):\n",
    "        return self.a*self.b\n",
    "    def topla(self, x,y):\n",
    "        \"metot açıklaması\"\n",
    "        return self.a+self.b + x+y \n",
    "    \n",
    "    @staticmethod\n",
    "    def cikar(a,b):\n",
    "        return a-b\n",
    "\n",
    "islemler.cikar(5,4)           #eğer biz cikar fonk çağırmak istiyorsak bu şekilde çağırabiliriz."
   ]
  },
  {
   "cell_type": "code",
   "execution_count": 9,
   "metadata": {},
   "outputs": [
    {
     "name": "stdout",
     "output_type": "stream",
     "text": [
      "Akya, Serdivan...\n",
      "Emrah Aydemir adlı kişi 2.4027397260273973 yaşındadır.\n",
      "İlknur Tokgöz adlı kişi 20.416438356164385 yaşındadır.\n"
     ]
    }
   ],
   "source": [
    "import datetime\n",
    "class Kisi:\n",
    "    def __init__(self,ad,soyad,dogumTarihi):\n",
    "        self.ad=ad                           #Bakın burada yaptığım işlem Şuraya ad diye bir değişken oluşturmak gibi, sınıfın içerisinde. Farklı bir şey değil. \n",
    "        self.soyad=soyad                     #Ama ben buraya oluşturarak ne yapıyorum?Her kopyada farklı farklı kullanılmasını sağlıyorum \n",
    "        self.dogumTarihi=dogumTarihi         #Eğer ki yukarıda tanımlarsan her zaman sabit kalır. \n",
    "\n",
    "    def yasHesapla(self):                                                          \n",
    "        fark=datetime.datetime.now()-self.dogumTarihi                               \n",
    "        print(self.ad ,self.soyad, \"adlı kişi\" , fark.days/365 , \"yaşındadır.\")    \n",
    "                                                                                    \n",
    "    def kaydet(self):\n",
    "        f=open(\"14.Hafta.veriler.txt\",\"a\")\n",
    "        f.write(f\"{self.ad}\\t{self.soyad}\\t{self.dogumTarihi}\\n\")\n",
    "        f.close()\n",
    "\n",
    "    @staticmethod\n",
    "    def ilIlceleriYazdir(ilAdi):           #Şimdi buraya parametre olarak il adı verilsin. Bu ile yönelik ilçeleri yazsın\n",
    "        if ilAdi==\"Sakarya\":\n",
    "            print(\"Akya, Serdivan...\")     #Şimdi bu metod hiç kişinin adını, soyadını, doğum tarihini kullandı mı? Hayır\n",
    "                                           #bu il adını karıştırmaması için biz buraya @staticmethod yazıyoruz.\n",
    "\n",
    "Kisi.ilIlceleriYazdir(\"Sakarya\")\n",
    "\n",
    "kisi1=Kisi(\"Emrah\",\"Aydemir\",datetime.datetime(2021,12,30))  #Kopya oluşturmam lazım yasHesapla ve kaydet metodlarını kullanabilmek için\n",
    "kisi1.yasHesapla()                                           \n",
    "kisi1.kaydet()\n",
    "\n",
    "kisi2=Kisi(\"İlknur\",\"Tokgöz\",datetime.datetime(2003,12,30))           \n",
    "kisi2.kaydet()"
   ]
  },
  {
   "cell_type": "markdown",
   "metadata": {},
   "source": [
    "### Üstteki Kodun Açıklaması\n",
    "```\n",
    "def yasHesapla(self):                                                     \n",
    "        fark=datetime.datetime.now()-self.dogumTarihi   \n",
    "        print(self.ad ,self.soyad, \"adlı kişi\" , fark.days/365 , \"yaşındadır.\")\n",
    "```\n",
    "\n",
    "aslında bu metot doğum tarihini kullanıyor. \n",
    "Nasıl bir doğum tarihi? Yukarıdaki self, yani ```bir üst sınıftaki``` doğum tarihini kullanıyor.    \n",
    "İşte dolayısıyla bu bir ```statik metot``` değil. İçerisine herhangi bir parametre de almıyor.\n",
    "O self yazılmasının ```bir üstünü kullanacağı``` anlamına geliyor.                                                                            "
   ]
  },
  {
   "cell_type": "code",
   "execution_count": 26,
   "metadata": {},
   "outputs": [
    {
     "name": "stdout",
     "output_type": "stream",
     "text": [
      "14\n"
     ]
    }
   ],
   "source": [
    "def topla(a,b):\n",
    "    sayi=5\n",
    "    print(sayi+a+b )\n",
    "\n",
    "topla(4,5)"
   ]
  },
  {
   "cell_type": "code",
   "execution_count": 27,
   "metadata": {},
   "outputs": [
    {
     "name": "stdout",
     "output_type": "stream",
     "text": [
      "14\n"
     ]
    }
   ],
   "source": [
    "sayi=10\n",
    "def topla(a,b):\n",
    "    sayi=5\n",
    "    print(sayi+a+b )\n",
    "\n",
    "topla(4,5)"
   ]
  },
  {
   "cell_type": "code",
   "execution_count": 5,
   "metadata": {},
   "outputs": [
    {
     "name": "stdout",
     "output_type": "stream",
     "text": [
      "19\n",
      "29\n",
      "10\n"
     ]
    }
   ],
   "source": [
    "sayi=10            \n",
    "def topla(a,b):\n",
    "    sayi= 10\n",
    "    print(sayi+a+b )\n",
    "    sayi=20\n",
    "    print(sayi+ a+b )\n",
    "topla(4,5)\n",
    "print(sayi)"
   ]
  },
  {
   "cell_type": "code",
   "execution_count": 16,
   "metadata": {},
   "outputs": [
    {
     "name": "stdout",
     "output_type": "stream",
     "text": [
      "19\n",
      "29\n",
      "20\n"
     ]
    }
   ],
   "source": [
    "sayi=10            \n",
    "def topla(a,b):\n",
    "    global sayi                     #İşte biz eğer ki bir üstteki değişkene müdahale etmek istiyorsak o zaman yeni bir değişken tanımlarken onun başına global yazıyoruz.\n",
    "    sayi= 10\n",
    "    print(sayi+a+b )\n",
    "    sayi=20                  #Bakın ben artık değişkeni değiştirdiğim zaman aslında yukarıdaki değişkenin içerisinde değiştirmiş oldum. \n",
    "\n",
    "    print(sayi+ a+b )\n",
    "topla(4,5)\n",
    "print(sayi)                 #sayi=20 dediğimizde globalden dolayı aslında ilk satırdaki değişkenin içeriğide değişti ve çıktı 20 verdi."
   ]
  },
  {
   "cell_type": "markdown",
   "metadata": {},
   "source": [
    "## ---------------------SORU--------------------------\n",
    "\n",
    "**Sınavda Çıkabilecek Soru Tarzı**\n",
    "\n",
    "\n",
    "```matematik.kelimeSay(\"Sakarya Üniversitesi\") ```\n",
    "\n",
    "yazdığımız zaman ekranda Çıktı olarak\n",
    "\n",
    "```2```\n",
    "\n",
    "verecek kodu yazınız\n"
   ]
  },
  {
   "cell_type": "code",
   "execution_count": 22,
   "metadata": {},
   "outputs": [
    {
     "name": "stdout",
     "output_type": "stream",
     "text": [
      "2\n"
     ]
    }
   ],
   "source": [
    "class matematik:\n",
    "    @staticmethod\n",
    "    def kelimeSay(metin):\n",
    "        kelimeSayisi=metin.count(\" \")+1\n",
    "        print(kelimeSayisi)\n",
    "\n",
    "matematik.kelimeSay(\"Sakarya Üniversitesi\")\n"
   ]
  },
  {
   "cell_type": "markdown",
   "metadata": {},
   "source": [
    "```matematik.kelimeSay(\"Sakarya Üniversitesi\") ``` \n",
    "\n",
    "matematik  \".\" dediğine göre matematik diye bir classı var demektir.\n",
    "\n",
    "Matematik \".\" kelimeSay demişiz ve işi direktmen bu yapıyor.\n",
    "Yani başka bir şey daha vermemişiz zaten kopya oluşturmamışız. \n",
    "Demek ki bu statik bir metod.\n",
    "O zaman direktmen metodu tanımlıyorsun.\n",
    "\n"
   ]
  }
 ],
 "metadata": {
  "kernelspec": {
   "display_name": "venv",
   "language": "python",
   "name": "python3"
  },
  "language_info": {
   "codemirror_mode": {
    "name": "ipython",
    "version": 3
   },
   "file_extension": ".py",
   "mimetype": "text/x-python",
   "name": "python",
   "nbconvert_exporter": "python",
   "pygments_lexer": "ipython3",
   "version": "3.12.3"
  }
 },
 "nbformat": 4,
 "nbformat_minor": 2
}
