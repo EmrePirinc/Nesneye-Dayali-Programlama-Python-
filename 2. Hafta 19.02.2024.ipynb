{
 "cells": [
  {
   "cell_type": "code",
   "execution_count": null,
   "metadata": {},
   "outputs": [],
   "source": [
    "sayi=5\n",
    "adi=\"elma\"  #python da tür belirtmemize gerek yoktur\n",
    "\n",
    "#diğer prog. dillerinde ; gibi kodun bittiğini gösteren bir işarete gerek yoktur."
   ]
  },
  {
   "cell_type": "code",
   "execution_count": 1,
   "metadata": {},
   "outputs": [
    {
     "name": "stdout",
     "output_type": "stream",
     "text": [
      "5\n"
     ]
    }
   ],
   "source": [
    "sayi=5 ; adi=\"elma\"\n",
    "\n",
    "#bir satırda birden fazla işlem yapacaksak eğer ; kullanmak zorundayız."
   ]
  },
  {
   "cell_type": "markdown",
   "metadata": {},
   "source": [
    "## Değişken Tanımlama Kuralları"
   ]
  },
  {
   "cell_type": "code",
   "execution_count": null,
   "metadata": {},
   "outputs": [],
   "source": [
    "#değişken tanımlamaz tanımlamaz bellekte yer ayrılır \n",
    "#bir değişken büyüklüğü en fazla ne kadar olabilir ? belleğimizde ki boş yer kadar\n",
    "#boşluk kullanamayız eğer benzer bir kullanım istiyorsak _ veya değişken adlarını her kelimede büyük harf kullanırız\n",
    "\n",
    "kisiAdiSoyadi=\"Ali Kaya\"\n",
    "Kisi_Adi_Soyadi=\"Veli Kaya\"  #Okunabilirlik adına yapılır\n",
    "\n",
    "#alt çizgi dışında hiçbir noktalama işareti kullanamayız.\n",
    "#Tr karakter python için kullanabiliriz ancak diğer dillerde kullanamayız.\n",
    "#python ait değişkenleri doğrudan kullanamayız int class not gibi\n",
    "#tanımlamaz tanımlamaz değer atamak zorundayız daha sonra kullanmak üzere rezevr edemeyiz.\n",
    "#büyük küçük harf duyarlıdır.\n",
    "b=5\n",
    "B=5 \n",
    "#birbirinden farklıdır.\n"
   ]
  },
  {
   "cell_type": "code",
   "execution_count": 1,
   "metadata": {},
   "outputs": [
    {
     "name": "stdout",
     "output_type": "stream",
     "text": [
      "5\n"
     ]
    }
   ],
   "source": [
    "#19.00 gruplama için tab sekme boşluğunu kullanır.\n",
    "sayi=int(input(\"sayi gir\"))\n",
    "if (sayi==6):\n",
    "    b=5\n",
    "    B=4\n",
    "print(b)\n",
    "\n",
    "#Bir değişken tanımlandıktan sonra kullanılabilir.\n",
    "#iç girintide olan bir değişken sadece içerdeyken kullanılabilir(b=5)bu bloğun dışındayken tanımladığımız bu değişken bi altta girintisiz bölümde hata verir.\n",
    "#True ise b yi tanımlar çıktı verir diğer durumda ekrana çıktı vermez"
   ]
  },
  {
   "cell_type": "code",
   "execution_count": null,
   "metadata": {},
   "outputs": [],
   "source": [
    "del Kisi_Adi_Soyadi #bellekten değişkeni silme\n"
   ]
  },
  {
   "cell_type": "code",
   "execution_count": 1,
   "metadata": {},
   "outputs": [
    {
     "name": "stdout",
     "output_type": "stream",
     "text": [
      "Mehmet Kaya\n"
     ]
    }
   ],
   "source": [
    "kisiAdiSoyadi=\"Ali Kaya\"\n",
    "kisiAdiSoyadi=\"Mehmet Kaya\"  #Aynı değişkeni farklı değerle yazarsak eski değer yok olur yeni değer artık değişkenin yeni değeri haline gelir.\n",
    "print(kisiAdiSoyadi)"
   ]
  },
  {
   "cell_type": "code",
   "execution_count": null,
   "metadata": {},
   "outputs": [],
   "source": [
    "\"\"\"\n",
    "\n",
    "int        #tam sayı\n",
    "float      #ondalıklı\n",
    "complex #i karmaşık sayılardaki sayılar\n",
    "string str  #metin\n",
    "\n",
    "\"\"\"\n",
    "sayi=\"dokuz\"\n",
    "\n",
    "adi=\"elma'nın\"\n",
    "adi='elma\"'                 #tek tırnak içine tek tırnak girebildik bu sayede\n",
    "\n",
    "adi=\"\"\"elma                \n",
    "armut\n",
    "muz\"\"\"                      #alt satıra geçebilmemizi sağlar bu kullanım. Paragraflı metinin değerini tutarken işimize yarar."
   ]
  },
  {
   "cell_type": "markdown",
   "metadata": {},
   "source": [
    "## Dizi"
   ]
  },
  {
   "cell_type": "code",
   "execution_count": null,
   "metadata": {},
   "outputs": [],
   "source": [
    "#python da Dizilerin elemanlarının her biri farklı türde olabilir . Diğer prog. dillerinde buna izin verilmez .\n",
    "isimler=[1,3,6,\"Ayşe\",4.5]\n",
    "#ondalık ayracı noktadır pythonda ."
   ]
  },
  {
   "cell_type": "markdown",
   "metadata": {},
   "source": [
    "`tupple`\n",
    "yaptığı iş dizilerin birebir aynısı ancak yazılırken `normal parantez ()` ile kullanılır \n",
    "\n",
    "`dizi` tipindeki `içi değiştirilebilir`\n",
    "\n",
    "`tupple` içeriği `değiştirilemez` ve bundan dolayı `okuma hızı` daha `yüksektir` daha `performanslıdır.`"
   ]
  },
  {
   "cell_type": "code",
   "execution_count": null,
   "metadata": {},
   "outputs": [],
   "source": [
    "isimler=(1,3,\"Ayse\")"
   ]
  },
  {
   "cell_type": "markdown",
   "metadata": {},
   "source": [
    "## Sozluk Veri Tipi"
   ]
  },
  {
   "cell_type": "code",
   "execution_count": null,
   "metadata": {},
   "outputs": [],
   "source": [
    "sozluk={\"elma\":56, \"muz\":75}"
   ]
  },
  {
   "cell_type": "markdown",
   "metadata": {},
   "source": [
    "### `Bool` Veri Tipi\n",
    "\n",
    "İki değişken alabilir   \n",
    "\n",
    "`True`  \n",
    "`False`  \n",
    "\n",
    "İlk harfleri büyük "
   ]
  },
  {
   "cell_type": "markdown",
   "metadata": {},
   "source": [
    "### `Byte` ve `bytearray`Veri Tipi  \n",
    "\n",
    "`byte` => değiştirilemez  \n",
    "\n",
    "`bytearray` => değiştirilebilir  "
   ]
  },
  {
   "cell_type": "code",
   "execution_count": 4,
   "metadata": {},
   "outputs": [
    {
     "name": "stdout",
     "output_type": "stream",
     "text": [
      "bytearray(b'ali fatma')\n"
     ]
    }
   ],
   "source": [
    "degisken=b'A'\n",
    "d1=bytearray(b'ali fatma')\n",
    "print(d1)"
   ]
  },
  {
   "cell_type": "code",
   "execution_count": null,
   "metadata": {},
   "outputs": [],
   "source": [
    "'''\n",
    "sozluk={\"elma:56\" \"muz\":75}\n",
    "\n",
    "'''\n",
    "#açıklama satırı için ''' kullanabiliriz."
   ]
  },
  {
   "cell_type": "code",
   "execution_count": 2,
   "metadata": {},
   "outputs": [
    {
     "name": "stdout",
     "output_type": "stream",
     "text": [
      "5\n"
     ]
    }
   ],
   "source": [
    "sonuc=eval(\"3+2\")\n",
    "print(sonuc)\n",
    "#eğer tırnak içindeki değişkenin kod olarak çalışmasını istiyorsak eval kullanırız"
   ]
  },
  {
   "cell_type": "markdown",
   "metadata": {},
   "source": [
    "### İNPUT\n",
    "Kullanıcıdan bir şey girdi almak istiyorsak kullanırız.\n",
    "`iNPUT` ile girilen her şey `metin` olarak algılanır `mat. işlem yapmak için çevirmemiz` gerekir."
   ]
  },
  {
   "cell_type": "code",
   "execution_count": 5,
   "metadata": {},
   "outputs": [
    {
     "name": "stdout",
     "output_type": "stream",
     "text": [
      "başladı\n",
      "Girilen Sayi: 55\n"
     ]
    }
   ],
   "source": [
    "print(\"başladı\")\n",
    "sayi1=input(\"Sayı giriniz:\")\n",
    "print(\"Girilen Sayi:\",sayi1)\n"
   ]
  },
  {
   "cell_type": "markdown",
   "metadata": {},
   "source": [
    "## ------------------------------------------------SORU---------------------------------------------------\n",
    "\n",
    "Kullanıcı tarafından girilen 2 sayının toplamı"
   ]
  },
  {
   "cell_type": "code",
   "execution_count": 4,
   "metadata": {},
   "outputs": [
    {
     "name": "stdout",
     "output_type": "stream",
     "text": [
      "Sayi1 ile Sayi2 Toplamı: 8\n"
     ]
    }
   ],
   "source": [
    "sayi1=input(\"sayi 1 giriniz:\")  #3\n",
    "sayi2=input(\"sayi 2 giriniz:\") #5\n",
    "sayi1=int(sayi1)\n",
    "sayi2=int(sayi2)\n",
    "sonuc=sayi1+sayi2\n",
    "print(\"Sayi1 ile Sayi2 Toplamı:\",sonuc)"
   ]
  },
  {
   "cell_type": "code",
   "execution_count": 12,
   "metadata": {},
   "outputs": [
    {
     "name": "stdout",
     "output_type": "stream",
     "text": [
      "Sayi1 ile Sayi2 Toplamı: 8\n"
     ]
    }
   ],
   "source": [
    "#bir diğer gösterim\n",
    "sayi1=int(input(\"sayi 1 giriniz:\")) #3\n",
    "sayi2=int(input(\"sayi 2 giriniz:\")) #5\n",
    "sonuc=sayi1+sayi2\n",
    "print(\"Sayi1 ile Sayi2 Toplamı:\",sonuc)"
   ]
  },
  {
   "cell_type": "code",
   "execution_count": 11,
   "metadata": {},
   "outputs": [
    {
     "name": "stdout",
     "output_type": "stream",
     "text": [
      "Sayi1 ile Sayi2 Toplamı: 35\n"
     ]
    }
   ],
   "source": [
    "#burada metinsel olarak toplama yapar o yüzden 3 ve 5 toplamı 35 olarak birleştirmiştir.\n",
    "sayi1=input(\"sayi 1 giriniz:\")\n",
    "sayi2=input(\"sayi 2 giriniz:\")\n",
    "sonuc=sayi1+sayi2\n",
    "print(\"Sayi1 ile Sayi2 Toplamı:\",sonuc)"
   ]
  },
  {
   "cell_type": "markdown",
   "metadata": {},
   "source": [
    "## -------------------SORU----------------------\n",
    "\n",
    "Kullanıcı tarafından girilen 2 sayının birbirine bölümü \n",
    "3/2"
   ]
  },
  {
   "cell_type": "code",
   "execution_count": 5,
   "metadata": {},
   "outputs": [
    {
     "name": "stdout",
     "output_type": "stream",
     "text": [
      "Sayi1'in Sayi2'ye bölümü: 3.0\n"
     ]
    }
   ],
   "source": [
    "sayi1=int(input(\"Sayi1 Giriniz:\")) #3\n",
    "sayi2=int(input(\"sayi2 Giriniz:\")) #2\n",
    "sonuc=sayi1/sayi2\n",
    "print(\"Sayi1'in Sayi2'ye bölümü:\",sonuc)\n",
    "\n",
    "#PYTHON da bir sayının bir sayıya bölümü her zaman float olarak döndürür ancak diğer prog. dillerinde int olarak döndürebilir."
   ]
  },
  {
   "cell_type": "markdown",
   "metadata": {},
   "source": [
    "## STRİNG METHOTLARI"
   ]
  },
  {
   "cell_type": "code",
   "execution_count": 17,
   "metadata": {},
   "outputs": [
    {
     "name": "stdout",
     "output_type": "stream",
     "text": [
      "67\n",
      "Sakarya Üniversitesi                                   \n"
     ]
    }
   ],
   "source": [
    "ad=\"            Sakarya Üniversitesi                                   \"\n",
    "uzunluk=len(ad) ; print(uzunluk) #uzunluğu\n",
    "temiz=ad.strip() #değişkenin başındaki ve sonundaki boşlukları siler\n",
    "temiz=ad.rstrip() #değişkenin sonundaki boşlukları siler\n",
    "temiz=ad.lstrip() #değişkenin başındaki  boşlukları siler\n",
    "\n",
    "print(temiz)"
   ]
  },
  {
   "cell_type": "code",
   "execution_count": 16,
   "metadata": {},
   "outputs": [
    {
     "name": "stdout",
     "output_type": "stream",
     "text": [
      "sakarya üniversitesi\n",
      "SAKARYA ÜNIVERSITESI\n"
     ]
    }
   ],
   "source": [
    "#UPPER büyük harfe dönüşüm\n",
    "#LOWER küçük harfe\n",
    "ad=\"Sakarya Üniversitesi\"\n",
    "kucuk=ad.lower()\n",
    "büyük=ad.upper()\n",
    "print(kucuk)\n",
    "print(büyük)"
   ]
  },
  {
   "cell_type": "code",
   "execution_count": 20,
   "metadata": {},
   "outputs": [
    {
     "name": "stdout",
     "output_type": "stream",
     "text": [
      "Sakarya---Üniversitesi\n"
     ]
    }
   ],
   "source": [
    "#Replace ilk ifade aranan ikinci ifade değiştirilecek ifadedir\n",
    "ad=\"Sakarya Üniversitesi\"\n",
    "yeni=ad.replace(' ','---')\n",
    "print(yeni)"
   ]
  },
  {
   "cell_type": "code",
   "execution_count": 7,
   "metadata": {},
   "outputs": [
    {
     "name": "stdout",
     "output_type": "stream",
     "text": [
      "['Sakarya', 'Üniversitesi']\n"
     ]
    }
   ],
   "source": [
    "#split ile bir stringin herhangibir karaktere metne göre parçalanmasını sağlayabilirsiniz.\n",
    "ad=\"      Sakarya Üniversitesi\"\n",
    "kelimelerDizisi=ad.strip().split(' ');print(kelimelerDizisi)"
   ]
  },
  {
   "cell_type": "code",
   "execution_count": 18,
   "metadata": {},
   "outputs": [
    {
     "name": "stdout",
     "output_type": "stream",
     "text": [
      "Sakarya üniversitesi\n",
      "Sakarya Üniversitesi\n"
     ]
    }
   ],
   "source": [
    "#capitalize ilk harf büyük yapar\n",
    "#title() her kelime büyük harf yapar\n",
    "ad=\"     Sakarya Üniversitesi      \"\n",
    "cümleHali=ad.strip().capitalize();print(cümleHali)  \n",
    "cümleHali=ad.strip().title();print(cümleHali)  \n",
    "#strip ile ilk boşlukları sildik ilk harf büyük olması için eğer strip yazmasaydık ilk karakter boşluk olduğu onu büyük harf olarak algılayıp sakarya üniversitesi olarak yazar"
   ]
  },
  {
   "cell_type": "code",
   "execution_count": 24,
   "metadata": {},
   "outputs": [
    {
     "name": "stdout",
     "output_type": "stream",
     "text": [
      "                                             Sakarya Üniversitesi                                   \n"
     ]
    }
   ],
   "source": [
    "ad=\"                           Sakarya Üniversitesi                \"\n",
    "ortala=ad.center(100)\n",
    "print(ortala)"
   ]
  },
  {
   "cell_type": "code",
   "execution_count": 12,
   "metadata": {},
   "outputs": [
    {
     "name": "stdout",
     "output_type": "stream",
     "text": [
      "1\n"
     ]
    }
   ],
   "source": [
    "#count belirtilen değeri sayma \n",
    "ad=\"     Sakarya Üniversitesi      \"\n",
    "kelimeSayisi=ad.strip().count(\" \")\n",
    "print(kelimeSayisi)"
   ]
  },
  {
   "cell_type": "markdown",
   "metadata": {},
   "source": [
    "## ----------------------SORU----------------------------\n",
    "\n",
    "Kullanıcı tarafından girilen bir metindeki kelime sayısının cümle sayısına bölümünü hesaplayın"
   ]
  },
  {
   "cell_type": "code",
   "execution_count": 13,
   "metadata": {},
   "outputs": [
    {
     "name": "stdout",
     "output_type": "stream",
     "text": [
      "3.0\n"
     ]
    }
   ],
   "source": [
    "cumle=input(\"cümle giriniz:\")           #aaa bbb ccc.\n",
    "kelimeSayisi=cumle.count(\" \")+1\n",
    "cumleSayisi=cumle.count(\".\")+cumle.count(\"?\")+cumle.count(\"!\")\n",
    "sonuc=kelimeSayisi/cumleSayisi\n",
    "print(sonuc)"
   ]
  }
 ],
 "metadata": {
  "kernelspec": {
   "display_name": "Python 3",
   "language": "python",
   "name": "python3"
  },
  "language_info": {
   "codemirror_mode": {
    "name": "ipython",
    "version": 3
   },
   "file_extension": ".py",
   "mimetype": "text/x-python",
   "name": "python",
   "nbconvert_exporter": "python",
   "pygments_lexer": "ipython3",
   "version": "3.12.2"
  }
 },
 "nbformat": 4,
 "nbformat_minor": 2
}
