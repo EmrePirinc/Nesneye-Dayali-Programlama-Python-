{
 "cells": [
  {
   "cell_type": "code",
   "execution_count": 2,
   "metadata": {},
   "outputs": [
    {
     "name": "stdout",
     "output_type": "stream",
     "text": [
      "[1, 2, 3, 4, 5, 6, 7, 8, 9, 10]\n"
     ]
    }
   ],
   "source": [
    "dizi=[]\n",
    "for i in range (1,11):\n",
    "    dizi.append(i)\n",
    "print(dizi)\n",
    "\n",
    "#dizinin saklandığı yer dinamik kısımdadır değişken veriler kullanılır.\n"
   ]
  },
  {
   "cell_type": "markdown",
   "metadata": {},
   "source": [
    "### ---------------- TUPPLE (DEMETLER) -----------------------------\n",
    "\n",
    "Sabit verileri tutar değiştirilemez\n",
    "\n",
    "Okuma hızı çok daha hızlı"
   ]
  },
  {
   "cell_type": "code",
   "execution_count": 3,
   "metadata": {},
   "outputs": [
    {
     "name": "stdout",
     "output_type": "stream",
     "text": [
      "[1, 15, 55]\n",
      "(1, 15, 55)\n",
      "(15, 55)\n"
     ]
    }
   ],
   "source": [
    "dizi=[1,15,55]\n",
    "print(dizi)\n",
    "tpl=(1,15,55)\n",
    "print(tpl)\n",
    "\n",
    "print(tpl[1:])"
   ]
  },
  {
   "cell_type": "code",
   "execution_count": 7,
   "metadata": {},
   "outputs": [
    {
     "ename": "TypeError",
     "evalue": "'tuple' object does not support item assignment",
     "output_type": "error",
     "traceback": [
      "\u001b[1;31m---------------------------------------------------------------------------\u001b[0m",
      "\u001b[1;31mTypeError\u001b[0m                                 Traceback (most recent call last)",
      "Cell \u001b[1;32mIn[7], line 2\u001b[0m\n\u001b[0;32m      1\u001b[0m tpl\u001b[38;5;241m=\u001b[39m(\u001b[38;5;241m1\u001b[39m,\u001b[38;5;241m15\u001b[39m,\u001b[38;5;241m55\u001b[39m)\n\u001b[1;32m----> 2\u001b[0m \u001b[43mtpl\u001b[49m\u001b[43m[\u001b[49m\u001b[38;5;241;43m1\u001b[39;49m\u001b[43m]\u001b[49m\u001b[38;5;241m=\u001b[39m\u001b[38;5;241m12\u001b[39m\n\u001b[0;32m      3\u001b[0m \u001b[38;5;28mprint\u001b[39m(tpl)\n",
      "\u001b[1;31mTypeError\u001b[0m: 'tuple' object does not support item assignment"
     ]
    }
   ],
   "source": [
    "tpl=(1,15,55)\n",
    "tpl[1]=12\n",
    "print(tpl)      #listelerde olduğu gibi eleman değiştemeyiz "
   ]
  },
  {
   "cell_type": "code",
   "execution_count": 8,
   "metadata": {},
   "outputs": [
    {
     "ename": "AttributeError",
     "evalue": "'tuple' object has no attribute 'append'",
     "output_type": "error",
     "traceback": [
      "\u001b[1;31m---------------------------------------------------------------------------\u001b[0m",
      "\u001b[1;31mAttributeError\u001b[0m                            Traceback (most recent call last)",
      "Cell \u001b[1;32mIn[8], line 2\u001b[0m\n\u001b[0;32m      1\u001b[0m tpl\u001b[38;5;241m=\u001b[39m(\u001b[38;5;241m1\u001b[39m,\u001b[38;5;241m15\u001b[39m,\u001b[38;5;241m55\u001b[39m)   \u001b[38;5;66;03m#k1 4.39\u001b[39;00m\n\u001b[1;32m----> 2\u001b[0m \u001b[43mtpl\u001b[49m\u001b[38;5;241;43m.\u001b[39;49m\u001b[43mappend\u001b[49m(\u001b[38;5;241m155\u001b[39m)\n\u001b[0;32m      3\u001b[0m \u001b[38;5;28mprint\u001b[39m(tpl) \u001b[38;5;66;03m#tupple eleman ekleyemeyiz veri değişmeyeceği için\u001b[39;00m\n",
      "\u001b[1;31mAttributeError\u001b[0m: 'tuple' object has no attribute 'append'"
     ]
    }
   ],
   "source": [
    "tpl=(1,15,55)   \n",
    "tpl.append(155)\n",
    "print(tpl)          #tupple eleman ekleyemeyiz veri değişmeyeceği için hata verir"
   ]
  },
  {
   "cell_type": "code",
   "execution_count": 12,
   "metadata": {},
   "outputs": [
    {
     "name": "stdout",
     "output_type": "stream",
     "text": [
      "15 değerinin indeksi: 1\n"
     ]
    }
   ],
   "source": [
    "#eleman arama gibi veri değiştirmeye sebep olmayan diğer dizi methotları tupple da da çalışır. \n",
    "#Dizilerdeki üreteçleri de kullanamayız. \n",
    "\n",
    "tpl = (1, 15, 55)\n",
    "\n",
    "# 15 değerinin indeksini bulma\n",
    "\n",
    "index_of_15 = tpl.index(15)\n",
    "\n",
    "print(\"15 değerinin indeksi:\", index_of_15)\n",
    "\n"
   ]
  },
  {
   "cell_type": "markdown",
   "metadata": {},
   "source": [
    "## Kütüphaneler\n",
    "Pyhton indirdiğiniz zaman içerisinde varsayılan olarak beraber gelen methotları biz direkt kullanabiliriz `(print, append).` \n",
    "Başkalarının açık kaynak kodlu yazdığı kütübhanelerin olduğu `pypi` diye bir kütübhane deposu vardır.Bunları indirerek kullanabiliriz. Fakat bazı kütübhaneleride python `varsayılan` olarak indirmiştir. Ama kod karmaşası olmasın diye print gibi gösterilmez. Bunları göstermek istiyorsak `import` diye bir ifade ile burada listeleriz ve kullanabilir hale getirebiliriz.\n",
    "örneğin `datetime` python ile beraber gelmiştir."
   ]
  },
  {
   "cell_type": "code",
   "execution_count": 13,
   "metadata": {},
   "outputs": [
    {
     "name": "stdout",
     "output_type": "stream",
     "text": [
      "2024-03-26 16:56:03.324923\n"
     ]
    }
   ],
   "source": [
    "import datetime\n",
    "\n",
    "tarih=datetime.datetime.now()\n",
    "print(tarih)        #veri türü datetime veri türüdür"
   ]
  },
  {
   "cell_type": "code",
   "execution_count": 16,
   "metadata": {},
   "outputs": [
    {
     "name": "stdout",
     "output_type": "stream",
     "text": [
      "2021-12-30 00:00:00\n"
     ]
    }
   ],
   "source": [
    "import datetime\n",
    "\n",
    "zaman=datetime.datetime(2021, 12 , 30) #noktaya basınca hangilerini kullanacağımız çıkar paranter açınca kullanım açıklaması ekranda  belirir. devamını vermezseniz 000 olarak kabul eder\n",
    "print(zaman)\n"
   ]
  },
  {
   "cell_type": "code",
   "execution_count": 3,
   "metadata": {},
   "outputs": [
    {
     "name": "stdout",
     "output_type": "stream",
     "text": [
      "2021-12-30 13:00:00\n"
     ]
    }
   ],
   "source": [
    "import datetime\n",
    "\n",
    "zaman=datetime.datetime(2021, 12, 30, 13)\n",
    "\n",
    "print(zaman)"
   ]
  },
  {
   "cell_type": "code",
   "execution_count": 4,
   "metadata": {},
   "outputs": [
    {
     "name": "stdout",
     "output_type": "stream",
     "text": [
      "30.12.2021\n"
     ]
    }
   ],
   "source": [
    "#Bizim istediğimiz formatta yazabilmek için tarih veri türünü metin veri türüne dönüştürmemiz gerekir. \n",
    "\n",
    "import datetime\n",
    "\n",
    "zaman=datetime.datetime(2021, 12, 30, 13)\n",
    "\n",
    "metin=zaman.strftime(\"%d.%m.%Y\")  \n",
    "print(metin)\n",
    "\n",
    "# d=day (2 haneli yazar ayın 1 i ise 01) \n",
    "# m = mounth \n",
    "# Y=year 4 haneli y 2 haneli yazar "
   ]
  },
  {
   "cell_type": "code",
   "execution_count": 5,
   "metadata": {},
   "outputs": [
    {
     "name": "stdout",
     "output_type": "stream",
     "text": [
      "30 Dec 21\n"
     ]
    }
   ],
   "source": [
    "import datetime\n",
    "\n",
    "zaman=datetime.datetime(2021, 12, 30, 13)\n",
    "\n",
    "metin=zaman.strftime(\"%d %b %y\")      # %b ayın adının kısaltarak yazılması\n",
    "\n",
    "print(metin)"
   ]
  },
  {
   "cell_type": "code",
   "execution_count": 6,
   "metadata": {},
   "outputs": [
    {
     "name": "stdout",
     "output_type": "stream",
     "text": [
      "30.12.2021 13:00:00\n"
     ]
    }
   ],
   "source": [
    "import datetime\n",
    "\n",
    "zaman=datetime.datetime(2021, 12, 30, 13)\n",
    "\n",
    "metin=zaman.strftime(\"%d.%m.%Y %H:%M:%S\")\n",
    "\n",
    "print(metin)"
   ]
  },
  {
   "cell_type": "code",
   "execution_count": 7,
   "metadata": {},
   "outputs": [
    {
     "name": "stdout",
     "output_type": "stream",
     "text": [
      "30\n",
      "13\n"
     ]
    }
   ],
   "source": [
    "#tarihlerin parçalarını alabilirsiniz.\n",
    "import datetime\n",
    "\n",
    "zaman=datetime.datetime(2021, 12, 30, 13)\n",
    "\n",
    "metin=zaman.strftime(\"%d.%m.%Y %H:%M:%S\")\n",
    "\n",
    "print(zaman.day)\n",
    "print(zaman.hour)"
   ]
  },
  {
   "cell_type": "markdown",
   "metadata": {},
   "source": [
    "## ---------------------SORU--------------------------\n",
    "\n",
    "Kendi yaşınızı hesaplayan kodu yazınız."
   ]
  },
  {
   "cell_type": "code",
   "execution_count": 8,
   "metadata": {},
   "outputs": [
    {
     "name": "stdout",
     "output_type": "stream",
     "text": [
      "23\n"
     ]
    }
   ],
   "source": [
    "import datetime\n",
    "\n",
    "dg=datetime.datetime(2001,12,30)\n",
    "bugun=datetime.datetime.now()\n",
    "yas=bugun.year-dg.year\n",
    "print(yas)"
   ]
  },
  {
   "cell_type": "code",
   "execution_count": 1,
   "metadata": {},
   "outputs": [
    {
     "ename": "TypeError",
     "evalue": "strptime() takes exactly 2 arguments (1 given)",
     "output_type": "error",
     "traceback": [
      "\u001b[1;31m---------------------------------------------------------------------------\u001b[0m",
      "\u001b[1;31mTypeError\u001b[0m                                 Traceback (most recent call last)",
      "Cell \u001b[1;32mIn[1], line 4\u001b[0m\n\u001b[0;32m      1\u001b[0m \u001b[38;5;28;01mimport\u001b[39;00m \u001b[38;5;21;01mdatetime\u001b[39;00m\n\u001b[0;32m      3\u001b[0m metin\u001b[38;5;241m=\u001b[39m\u001b[38;5;124m\"\u001b[39m\u001b[38;5;124m25.03.2024\u001b[39m\u001b[38;5;124m\"\u001b[39m    \u001b[38;5;66;03m#metin olarak yazdık tarihe dönüştürmek istiyoruz bunun için \u001b[39;00m\n\u001b[1;32m----> 4\u001b[0m tarih\u001b[38;5;241m=\u001b[39m\u001b[43mdatetime\u001b[49m\u001b[38;5;241;43m.\u001b[39;49m\u001b[43mdatetime\u001b[49m\u001b[38;5;241;43m.\u001b[39;49m\u001b[43mstrptime\u001b[49m\u001b[43m(\u001b[49m\u001b[43mmetin\u001b[49m\u001b[43m)\u001b[49m       \u001b[38;5;66;03m#bu şekilde çalışmaz çünkü benim yazmış olduğum formatın ne olduğunu bilmiyor.\u001b[39;00m\n",
      "\u001b[1;31mTypeError\u001b[0m: strptime() takes exactly 2 arguments (1 given)"
     ]
    }
   ],
   "source": [
    "import datetime\n",
    "\n",
    "metin=\"25.03.2024\"    #metin olarak yazdık tarihe dönüştürmek istiyoruz bunun için \n",
    "tarih=datetime.datetime.strptime(metin)       #bu şekilde çalışmaz çünkü benim yazmış olduğum formatın ne olduğunu bilmiyor."
   ]
  },
  {
   "cell_type": "code",
   "execution_count": 20,
   "metadata": {},
   "outputs": [
    {
     "name": "stdout",
     "output_type": "stream",
     "text": [
      "2024-03-25 00:00:00\n"
     ]
    }
   ],
   "source": [
    "import datetime\n",
    "\n",
    "metin=\"25.03.2024\"    \n",
    "tarih=datetime.datetime.strptime(metin, \"%d.%m.%Y\") \n",
    "print(tarih)"
   ]
  },
  {
   "cell_type": "code",
   "execution_count": 26,
   "metadata": {},
   "outputs": [
    {
     "name": "stdout",
     "output_type": "stream",
     "text": [
      "818\n"
     ]
    }
   ],
   "source": [
    "#iki tarih arasındaki farkı almak istersek . \n",
    "tarih1=datetime.datetime.now()\n",
    "tarih2=datetime.datetime(2021,12,30)\n",
    "\n",
    "fark = tarih1-tarih2 \n",
    "print(fark.days)\n",
    "\n",
    "#2 tarih arasındaki yıl farkını alabilir miyiz ? hayır çünkü 365 gün 6 saatten dolayı yıl farkını alırsak 6 saati atlamış oluruz\n",
    "#ay farkını almak istersek alamayız 6 saati atlarız.\n",
    "#gün ve aşağısını alabiliriz . Günden yukarı çıkamayız. 6 saati 1/4 gün olarak kabul edebiliriz o yüzden sorun olmaz."
   ]
  },
  {
   "cell_type": "markdown",
   "metadata": {},
   "source": [
    "## ----------------------------SORU--------------------------------------\n",
    "\n",
    "Kullanıcı tarafından girilen bir tarih ile günümüz arasında ondalıklı olarak kaç yıl olduğunu hesaplayın."
   ]
  },
  {
   "cell_type": "code",
   "execution_count": 29,
   "metadata": {},
   "outputs": [
    {
     "name": "stdout",
     "output_type": "stream",
     "text": [
      "23.143052703627653\n"
     ]
    }
   ],
   "source": [
    "metin=input(\"Dogum tarihi giriniz:\")  #03.02.2001\n",
    "dogumTarihi=datetime.datetime.strptime(metin, \"%d.%m.%Y\")\n",
    "bugun=datetime.datetime.now()\n",
    "fark= bugun-dogumTarihi\n",
    "yas=fark.days/365.25\n",
    "print(yas)"
   ]
  },
  {
   "cell_type": "code",
   "execution_count": 37,
   "metadata": {},
   "outputs": [
    {
     "name": "stdout",
     "output_type": "stream",
     "text": [
      "27 March 2024 Wednesday\n"
     ]
    }
   ],
   "source": [
    "import datetime \n",
    "tarih= datetime.datetime.now()\n",
    "zaman=tarih.strftime(\"%d %B %Y %A\")          # %B ayın uzun yazımı %A haftanın günü yazımı\n",
    "print(zaman)"
   ]
  },
  {
   "cell_type": "code",
   "execution_count": 2,
   "metadata": {},
   "outputs": [
    {
     "name": "stdout",
     "output_type": "stream",
     "text": [
      "27 Mart 2024 Çarşamba\n"
     ]
    }
   ],
   "source": [
    "import datetime \n",
    "import locale\n",
    "locale.setlocale(locale.LC_ALL, \"tr_TR.utf8\")\n",
    "\n",
    "tarih= datetime.datetime.now()\n",
    "zaman=tarih.strftime(\"%d %B %Y %A\")\n",
    "print(zaman)"
   ]
  },
  {
   "cell_type": "markdown",
   "metadata": {},
   "source": [
    "## ------------------------------SORU----------------------------\n",
    "\n",
    "Kullanıcı tarafından `10 January 2023` şeklinde girilen bir formattaki tarih ile günümüz arasında kaç ay fark olduğunu hesaplayın.\n"
   ]
  },
  {
   "cell_type": "code",
   "execution_count": 17,
   "metadata": {},
   "outputs": [
    {
     "name": "stdout",
     "output_type": "stream",
     "text": [
      "14.521560574948666\n"
     ]
    }
   ],
   "source": [
    "import datetime\n",
    "import locale\n",
    "locale.setlocale(locale.LC_ALL, \"tr_TR.utf8\")\n",
    "\n",
    "tarih= datetime.datetime.now()\n",
    "metin=input(\"10 Ocak 2023 formatında tarih giriniz\")\n",
    "zaman = datetime.datetime.strptime(metin, \"%d %B %Y\")\n",
    "fark=tarih-zaman\n",
    "ayFarki=fark.days/(365.25/12)\n",
    "print(ayFarki)"
   ]
  },
  {
   "cell_type": "markdown",
   "metadata": {},
   "source": [
    "## ---------------------SORU-------------------------\n",
    "\n",
    "Kullanıcı tarafından girilen sayı değerlerini bir `dizi` içinde `int` olarak tutan kod yazınız. \n",
    "\n",
    "Kullanıcı q yazarsa işlem tamamlanmış olacaktır. \n",
    "\n",
    "( enter basarak sayi giriyor en son q basınca çıkıyor)\n",
    "\n",
    "### 2.soru Tarih olarak yazsın"
   ]
  },
  {
   "cell_type": "code",
   "execution_count": 14,
   "metadata": {},
   "outputs": [
    {
     "name": "stdout",
     "output_type": "stream",
     "text": [
      "[3, 5, 7]\n"
     ]
    }
   ],
   "source": [
    "dizi=[]\n",
    "while True:\n",
    "     sayi=input(\"sayi gir:\")\n",
    "     if sayi==\"q\":\n",
    "          break\n",
    "     dizi.append(int(sayi))\n",
    "print(dizi)"
   ]
  },
  {
   "cell_type": "code",
   "execution_count": 23,
   "metadata": {},
   "outputs": [
    {
     "name": "stdout",
     "output_type": "stream",
     "text": [
      "[datetime.datetime(2022, 3, 10, 0, 0), datetime.datetime(2021, 11, 16, 0, 0)]\n"
     ]
    }
   ],
   "source": [
    "import datetime\n",
    "\n",
    "dizi=[]\n",
    "while True:\n",
    "     metin=input(\"Bir tarih gir:\")\n",
    "     if metin==\"q\":\n",
    "          break\n",
    "     tarih=datetime.datetime.strptime(metin, \"%d.%m.%Y\")\n",
    "     dizi.append(tarih)\n",
    "print(dizi)"
   ]
  },
  {
   "cell_type": "markdown",
   "metadata": {},
   "source": [
    "## -----------------------SORU------------------------\n",
    "\n",
    "Kullanıcı tarafından yıl, ay ve gün değerleri ayrı ayrı girilen bir tarihten günümüzün farkını ekrana\n",
    "\n",
    " ` \"X tarihi ile Y  tarihi arasında Z kadar gün farkı vardır\" `şeklinde yazdırın \n",
    "\n",
    "Yıl girin:\n",
    "Ay girin:\n",
    "gün girin:\n",
    "şeklinde"
   ]
  },
  {
   "cell_type": "code",
   "execution_count": 18,
   "metadata": {},
   "outputs": [],
   "source": [
    "#haftaya çözecek"
   ]
  }
 ],
 "metadata": {
  "kernelspec": {
   "display_name": "venv",
   "language": "python",
   "name": "python3"
  },
  "language_info": {
   "codemirror_mode": {
    "name": "ipython",
    "version": 3
   },
   "file_extension": ".py",
   "mimetype": "text/x-python",
   "name": "python",
   "nbconvert_exporter": "python",
   "pygments_lexer": "ipython3",
   "version": "3.12.3"
  }
 },
 "nbformat": 4,
 "nbformat_minor": 2
}
