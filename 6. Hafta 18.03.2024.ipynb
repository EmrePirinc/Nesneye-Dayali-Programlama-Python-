{
 "cells": [
  {
   "cell_type": "markdown",
   "metadata": {},
   "source": [
    "## Dizi Methotları"
   ]
  },
  {
   "cell_type": "code",
   "execution_count": 2,
   "metadata": {},
   "outputs": [
    {
     "name": "stdout",
     "output_type": "stream",
     "text": [
      "['elma', 5.5, 'muz', 12, 444]\n",
      "['elma', 5.5, 'muz', 12, 444]\n",
      "[]\n"
     ]
    }
   ],
   "source": [
    "dizi=[\"elma\",5.5,\"muz\",12]\n",
    "dizi.append(444);print(dizi)  #sona eleman eklemek için append \n",
    "dizi2=dizi.copy();print(dizi2)\n",
    "dizi.clear(); print(dizi)"
   ]
  },
  {
   "cell_type": "code",
   "execution_count": 3,
   "metadata": {},
   "outputs": [
    {
     "name": "stdout",
     "output_type": "stream",
     "text": [
      "2\n",
      "[]\n"
     ]
    }
   ],
   "source": [
    "dizi=[\"elma\",5.5,\"muz\",12,\"\"\"muz\"\"\"]        \n",
    "sayi=dizi.count(\"muz\");print(sayi)  #Verilen değerin dizide kaç tane olduğunu sayar (2)\n",
    "dizi.clear();print(dizi)            #dizi elemanlarını siler"
   ]
  },
  {
   "cell_type": "code",
   "execution_count": 39,
   "metadata": {},
   "outputs": [
    {
     "name": "stdout",
     "output_type": "stream",
     "text": [
      "[1, 2, 3, 4]\n"
     ]
    }
   ],
   "source": [
    "dizi1=[1,2]\n",
    "dizi2=[3,4]\n",
    "dizi1.extend(dizi2) ;print(dizi)      #dizi genişleterek birleştirdik. ilk dizi1 elemanlarını yazdı sonra dizi2 "
   ]
  },
  {
   "cell_type": "code",
   "execution_count": 44,
   "metadata": {},
   "outputs": [
    {
     "name": "stdout",
     "output_type": "stream",
     "text": [
      "2\n"
     ]
    }
   ],
   "source": [
    "dizi=[\"elma\",5.5,\"muz\",12,\"\"\"muz\"\"\"] \n",
    "indis=dizi.index(\"muz\"); print(indis)    #soldan başlayarak istenen ifadenin indis numarasını döndürür."
   ]
  },
  {
   "cell_type": "code",
   "execution_count": 45,
   "metadata": {},
   "outputs": [
    {
     "name": "stdout",
     "output_type": "stream",
     "text": [
      "['elma', 'armut', 5.5, 'muz', 12, 'muz']\n"
     ]
    }
   ],
   "source": [
    "dizi=[\"elma\",5.5,\"muz\",12,\"\"\"muz\"\"\"]  #araya eleman eklemek istersek eğer insert kullanırız.\n",
    "dizi.insert(1,\"armut\") ;print(dizi)         #1. indise armutu ekledi ve diğerlerini sağ tarafa öteledi."
   ]
  },
  {
   "cell_type": "code",
   "execution_count": 49,
   "metadata": {},
   "outputs": [
    {
     "name": "stdout",
     "output_type": "stream",
     "text": [
      "['elma', 5.5, 12, 'muz']\n",
      "['elma', 5.5, 12]\n",
      "[12, 5.5, 'elma']\n"
     ]
    }
   ],
   "source": [
    "dizi=[\"elma\",5.5,\"muz\",12,\"\"\"muz\"\"\"]\n",
    "dizi.pop(2);print(dizi)  #index numrası verilen elemanı siler \n",
    "dizi.remove(\"muz\");print(dizi)  #eğer verdiğimiz değer üzerinden silmek istersek ne kadar o değer varsa hepsini siler \n"
   ]
  },
  {
   "cell_type": "code",
   "execution_count": 67,
   "metadata": {},
   "outputs": [
    {
     "name": "stdout",
     "output_type": "stream",
     "text": [
      "['muz', 12, 'muz', 5.5, 'elma']\n"
     ]
    }
   ],
   "source": [
    "dizi=[\"elma\",5.5,\"muz\",12,\"\"\"muz\"\"\"]\n",
    "dizi.reverse();print(dizi) #ters çevirir dizi elemanlarını\n",
    "#dizi.sort() ;print(dizi)  #sort() yöntemi, liste içindeki öğeleri sıralamak için kullanılır, ancak farklı veri tiplerini karşılaştıramaz. Burada hata verir."
   ]
  },
  {
   "cell_type": "code",
   "execution_count": 79,
   "metadata": {},
   "outputs": [
    {
     "name": "stdout",
     "output_type": "stream",
     "text": [
      "[1, 2, 3, 4, 5, 6, 7, 8, 9]\n",
      "['a', 'a', 'a', 'k', 'r', 's', 'y']\n"
     ]
    }
   ],
   "source": [
    "dizi=[3,2,1,4,7,5,6,8,9]\n",
    "dizi.sort();print(dizi) \n",
    "dizi2=list(\"sakarya\")\n",
    "dizi2.sort() ;print(dizi2)\n",
    "\n",
    "#Python'da sort() yöntemi, varsayılan olarak büyük harfleri küçük harflerden önce sıralar. "
   ]
  },
  {
   "cell_type": "markdown",
   "metadata": {},
   "source": [
    "## ---------------------SORU--------------------------\n",
    "\n",
    "Kullanıcı tarafından girilen metinlerin karakterlerini z'den a'ya olacak şekilde sıralayın"
   ]
  },
  {
   "cell_type": "code",
   "execution_count": 80,
   "metadata": {},
   "outputs": [
    {
     "name": "stdout",
     "output_type": "stream",
     "text": [
      "['s', 'a', 'k', 'a', 'r', 'y', 'a']\n",
      "ysrkaaa\n"
     ]
    }
   ],
   "source": [
    "metin=input(\"metin gir:\")\n",
    "dizi=list(metin) ; print(dizi)\n",
    "dizi.sort() #; print(dizi)\n",
    "dizi.reverse() # ;print(dizi)\n",
    "print(\"\".join(dizi))"
   ]
  },
  {
   "cell_type": "markdown",
   "metadata": {},
   "source": [
    "## ----------------------------SORU---------------------\n",
    "\n",
    "1,3,5,7,9,,,101 sayılarının yer aldığı bir diziden 5'e bölünenleri silinince kaç adet \n",
    "\n",
    "eleman kaldığını ekrana yazın.\n"
   ]
  },
  {
   "cell_type": "code",
   "execution_count": 45,
   "metadata": {},
   "outputs": [
    {
     "name": "stdout",
     "output_type": "stream",
     "text": [
      "41\n"
     ]
    }
   ],
   "source": [
    "\n",
    "dizi=[]\n",
    "for i in range(1,102,2):\n",
    "    if i%5!=0:\n",
    "        dizi.append(i)\n",
    "print(len(dizi))"
   ]
  },
  {
   "cell_type": "code",
   "execution_count": 98,
   "metadata": {},
   "outputs": [
    {
     "name": "stdout",
     "output_type": "stream",
     "text": [
      "41\n"
     ]
    }
   ],
   "source": [
    "dizi=list(range(1,102,2))\n",
    "for i in dizi:\n",
    "    if i%5==0:\n",
    "        dizi.remove(i)\n",
    "print(len(dizi))"
   ]
  },
  {
   "cell_type": "markdown",
   "metadata": {},
   "source": [
    "## -------------------------Soru----------------------------------\n",
    "\n",
    "Kullanıcı tarafından girilen bir cümledeki her bir kelimeyi tersten olacak şekilde \n",
    "\n",
    "tekrar cümle olarak ekrana yazın."
   ]
  },
  {
   "cell_type": "code",
   "execution_count": 102,
   "metadata": {},
   "outputs": [
    {
     "name": "stdout",
     "output_type": "stream",
     "text": [
      "ayrakas isetisrevinü "
     ]
    }
   ],
   "source": [
    "cümle=input(\"Cümle giriniz:\")\n",
    "for kelime in cümle.split(\" \"):\n",
    "    ters=list(kelime)\n",
    "    ters.reverse()\n",
    "    ters=\"\".join(ters)\n",
    "    print(ters,end=\" \")\n",
    "    "
   ]
  },
  {
   "cell_type": "markdown",
   "metadata": {},
   "source": [
    "## -------------------Soru--------------------\n",
    "\n",
    "Kullanıcı tarafından girilen bir metindeki ortalama kelime uzunluğunu ekrana yazın"
   ]
  },
  {
   "cell_type": "code",
   "execution_count": 65,
   "metadata": {},
   "outputs": [
    {
     "name": "stdout",
     "output_type": "stream",
     "text": [
      "9.5\n"
     ]
    }
   ],
   "source": [
    "cümle=input(\"cümle giriniz:\")\n",
    "kelimeSayisi=len(cümle.split(\" \"))  #; print(kelimeSayisi)\n",
    "harfSayisi=len(cümle)-list(cümle).count(\" \") #cümlenin içerisinde boşluk karakterleri de olduğu için .count ile boşluk sayarak onları düştük yani harfSayisi=cümleUzunluğu-boşlukKarakteri\n",
    "print(harfSayisi/kelimeSayisi)\n",
    "    "
   ]
  },
  {
   "cell_type": "code",
   "execution_count": 80,
   "metadata": {},
   "outputs": [
    {
     "name": "stdout",
     "output_type": "stream",
     "text": [
      "[1, 2, 3, 4, 5, 6, 7, 8, 9, 10]\n"
     ]
    }
   ],
   "source": [
    "dizi=[]\n",
    "for i in range (1,11):\n",
    "    dizi.append(i)\n",
    "print(dizi)\n"
   ]
  },
  {
   "cell_type": "code",
   "execution_count": 81,
   "metadata": {},
   "outputs": [
    {
     "name": "stdout",
     "output_type": "stream",
     "text": [
      "[1, 2, 3, 4, 5, 6, 7, 8, 9, 10]\n"
     ]
    }
   ],
   "source": [
    "#bir önceki yazım formatının tersi şeklinde yazılır burada\n",
    "dizi2=[i for i in range(1,11)] #önce alacağı değeri yazdık i değerini sonra for döngüsü\n",
    "print(dizi2)"
   ]
  },
  {
   "cell_type": "code",
   "execution_count": 103,
   "metadata": {},
   "outputs": [
    {
     "name": "stdout",
     "output_type": "stream",
     "text": [
      "[1, 2, 3, 4, 6, 7, 8, 9]\n"
     ]
    }
   ],
   "source": [
    "dizi=[]\n",
    "for i in range (1,11):\n",
    "    if i %5!=0:\n",
    "        dizi.append(i)\n",
    "print(dizi)"
   ]
  },
  {
   "cell_type": "code",
   "execution_count": 104,
   "metadata": {},
   "outputs": [
    {
     "name": "stdout",
     "output_type": "stream",
     "text": [
      "[1, 2, 3, 4, 6, 7, 8, 9]\n"
     ]
    }
   ],
   "source": [
    "dizi3=[i for i in range(1,11) if i%5!=0 ]\n",
    "print(dizi3)"
   ]
  },
  {
   "cell_type": "code",
   "execution_count": 84,
   "metadata": {},
   "outputs": [
    {
     "name": "stdout",
     "output_type": "stream",
     "text": [
      "['0.S', '1.a', '2.k', '3.a', '4.r', '5.y', '6.a']\n"
     ]
    }
   ],
   "source": [
    "#\"sakarya\" metninin her bir harfi dizinin bir elemanı yapalım fakat sıra numarası nokta harf olsun\n",
    "metin=\"Sakarya\"\n",
    "dizi=[]\n",
    "for i in range(len(metin)):\n",
    "    dizi.append(\"{0}.{1}\".format(i,metin[i]))\n",
    "print(dizi)"
   ]
  },
  {
   "cell_type": "code",
   "execution_count": 106,
   "metadata": {},
   "outputs": [
    {
     "name": "stdout",
     "output_type": "stream",
     "text": [
      "['0.S', '1.a', '2.k', '3.a', '4.r', '5.y', '6.a']\n"
     ]
    }
   ],
   "source": [
    "metin=\"Sakarya\"\n",
    "dizi=[\"{0}.{1}\".format(i,metin[i])for i in range (len(metin))]\n",
    "print(dizi)"
   ]
  },
  {
   "cell_type": "code",
   "execution_count": 105,
   "metadata": {},
   "outputs": [
    {
     "name": "stdout",
     "output_type": "stream",
     "text": [
      "['0.S', '1.a', '2.k', '3.a', '4.r', '5.y', '6.a']\n"
     ]
    }
   ],
   "source": [
    "metin = \"Sakarya\"\n",
    "dizi = []\n",
    "for i in range(len(metin)):\n",
    "    dizi.append(str(i) + \".\" + metin[i])\n",
    "print(dizi)\n"
   ]
  },
  {
   "cell_type": "code",
   "execution_count": 85,
   "metadata": {},
   "outputs": [
    {
     "name": "stdout",
     "output_type": "stream",
     "text": [
      "['0.S', '1.a', '2.k', '3.a', '4.r', '5.y', '6.a']\n"
     ]
    }
   ],
   "source": [
    "metin=\"Sakarya\"\n",
    "dizi=[str(i)+\".\"+metin[i] for i in range(len(metin))]\n",
    "print(dizi)"
   ]
  },
  {
   "cell_type": "markdown",
   "metadata": {},
   "source": [
    "## --------------SORU----------------\n",
    "\n",
    "Verilen bir metin içindeki büyük harfleri bir üreteç kullanarak elde eden kodu yazınız."
   ]
  },
  {
   "cell_type": "code",
   "execution_count": 100,
   "metadata": {},
   "outputs": [
    {
     "name": "stdout",
     "output_type": "stream",
     "text": [
      "['S', 'Ü']\n"
     ]
    }
   ],
   "source": [
    "metin=\"Sakarya Üniversitesi\"\n",
    "dizi=[harf for harf in metin if harf.isupper()]\n",
    "print(dizi)"
   ]
  },
  {
   "cell_type": "markdown",
   "metadata": {},
   "source": [
    "## --------------SORU-------------------------\n",
    "\n",
    "1 ile 100 arasındaki sayılardan 3'e ya da 5'e bölünen sayıları içinde tutacak bir \n",
    "\n",
    "diziyi tanımlarken üretecek şekilde yazın."
   ]
  },
  {
   "cell_type": "code",
   "execution_count": 97,
   "metadata": {},
   "outputs": [
    {
     "name": "stdout",
     "output_type": "stream",
     "text": [
      "[3, 5, 6, 9, 10, 12, 15, 18, 20, 21, 24, 25, 27, 30, 33, 35, 36, 39, 40, 42, 45, 48, 50, 51, 54, 55, 57, 60, 63, 65, 66, 69, 70, 72, 75, 78, 80, 81, 84, 85, 87, 90, 93, 95, 96, 99]\n"
     ]
    }
   ],
   "source": [
    "dizi=[i for i in range(2,100) if i%5==0 or i%3==0]\n",
    "print(dizi)"
   ]
  },
  {
   "cell_type": "code",
   "execution_count": 99,
   "metadata": {},
   "outputs": [
    {
     "name": "stdout",
     "output_type": "stream",
     "text": [
      "[6, 10, 12, 18, 20, 24, 30, 36, 40, 42, 48, 50, 54, 60, 66, 70, 72, 78, 80, 84, 90, 96, 100, 102, 108, 110, 114, 120, 126, 130, 132, 138, 140, 144, 150, 156, 160, 162, 168, 170, 174, 180, 186, 190, 192, 198]\n"
     ]
    }
   ],
   "source": [
    "dizi=[2*i for i in range(2,100) if i %5==0 or i%3==0]  #bunların 2 katını istersek soruda\n",
    "print(dizi)"
   ]
  },
  {
   "cell_type": "markdown",
   "metadata": {},
   "source": [
    "## -----------SORU------------------\n",
    "\n",
    "Bir cümledeki büyük harf sayısını ekrana yazın"
   ]
  },
  {
   "cell_type": "code",
   "execution_count": 107,
   "metadata": {},
   "outputs": [
    {
     "name": "stdout",
     "output_type": "stream",
     "text": [
      "2\n"
     ]
    }
   ],
   "source": [
    "say=0\n",
    "metin=input(\"metin gir:\")\n",
    "for harf in metin:\n",
    "    if harf.isupper():\n",
    "        say+=1\n",
    "print(say)"
   ]
  },
  {
   "cell_type": "markdown",
   "metadata": {},
   "source": [
    "## -------------------------SORU----------------------\n",
    "\n",
    "Bir cümlede virgülün yanlış kullanım sayısını ekrana yazın.\n",
    "\n",
    "Doğru kullanım: \",\" den önce boşluk yoktur ve \",\" sonrasında boşluk olmalıdır\n"
   ]
  },
  {
   "cell_type": "code",
   "execution_count": 2,
   "metadata": {},
   "outputs": [
    {
     "name": "stdout",
     "output_type": "stream",
     "text": [
      "Yanlış kullanım sayısı: 3\n"
     ]
    }
   ],
   "source": [
    "yanlisSay = 0\n",
    "metin = \"elma, armut , muz ,sirke aldım.\"      # Verilen metin, 3 hatası var: 1.) armuttan sonra boşluk olmamalı, 2.) muzdan sonra boşluk olmamalı, 3.) sirkeden önce boşluk olmalı\n",
    "for i in range(len(metin)):\n",
    "    harf = metin[i]\n",
    "    if harf == \",\" and metin[i - 1] == \" \":  # Eğer bir karakter virgül ve bir önceki karakter boşluk ise,\n",
    "        yanlisSay += 1  # Yanlış kullanım sayısını artır.\n",
    "    if harf == \",\" and metin[i + 1] != \" \":  # Eğer bir karakter virgül ve bir sonraki karakter boşluk değilse,\n",
    "        yanlisSay += 1  # Yanlış kullanım sayısını artır.\n",
    "\n",
    "print(\"Yanlış kullanım sayısı:\", yanlisSay)\n"
   ]
  }
 ],
 "metadata": {
  "kernelspec": {
   "display_name": "venv",
   "language": "python",
   "name": "python3"
  },
  "language_info": {
   "codemirror_mode": {
    "name": "ipython",
    "version": 3
   },
   "file_extension": ".py",
   "mimetype": "text/x-python",
   "name": "python",
   "nbconvert_exporter": "python",
   "pygments_lexer": "ipython3",
   "version": "3.12.2"
  }
 },
 "nbformat": 4,
 "nbformat_minor": 2
}
