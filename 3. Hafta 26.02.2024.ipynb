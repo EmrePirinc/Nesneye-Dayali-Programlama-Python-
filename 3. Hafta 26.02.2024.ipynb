{
 "cells": [
  {
   "cell_type": "code",
   "execution_count": 1,
   "metadata": {},
   "outputs": [
    {
     "name": "stdout",
     "output_type": "stream",
     "text": [
      "1\n"
     ]
    }
   ],
   "source": [
    "#find() bulamadığı zaman -1 verir\n",
    "indis=\"Sakarya Üniversi Yönetim Bilişim Sistemleri\"\n",
    "indis=indis.find(\"a\")\n",
    "print(indis)"
   ]
  },
  {
   "cell_type": "code",
   "execution_count": 3,
   "metadata": {},
   "outputs": [
    {
     "name": "stdout",
     "output_type": "stream",
     "text": [
      "False\n"
     ]
    }
   ],
   "source": [
    "metin=\"Sakarya Üniversi Yönetim Bilişim Sistemleri\"\n",
    "sonkontrol=metin.endswith(\"sistemleri\")\n",
    "print(sonkontrol) # s küçük harf olduğu için false"
   ]
  },
  {
   "cell_type": "code",
   "execution_count": 19,
   "metadata": {},
   "outputs": [
    {
     "name": "stdout",
     "output_type": "stream",
     "text": [
      "0\n",
      "1\n"
     ]
    }
   ],
   "source": [
    "#index()\n",
    "#find den farklı olarak bulamadığında hata verir \"value error\"\n",
    "indis=\"Sakarya Üniversitesi Yönetim Bilişim Sistemleri\"\n",
    "indis=metin.index(\"S\")\n",
    "indis2=metin.index(\"akar\")\n",
    "print(indis)\n",
    "print(indis2)"
   ]
  },
  {
   "cell_type": "markdown",
   "metadata": {},
   "source": [
    "## ------------------SORU-------------------------\n",
    "\n",
    "Kullanıcı tarafından girilen bir metinde yine kullanıcı tarafından girilen başka bir metni arayıp var olup olmadığını gösterin.\n",
    "aranan metin için büyük /küçük harf hassasiyet aranmayacaktır. ya da başında veya sonunda boşluklar varsa göz ardı edecektir."
   ]
  },
  {
   "cell_type": "code",
   "execution_count": 18,
   "metadata": {},
   "outputs": [
    {
     "name": "stdout",
     "output_type": "stream",
     "text": [
      "1\n"
     ]
    }
   ],
   "source": [
    "metin=input(\"metin giriniz\").lower().strip()\n",
    "aranan=input(\"aranacak ifade girin:\").lower().strip()\n",
    "sonuc=metin.count(aranan)\n",
    "print(sonuc)"
   ]
  },
  {
   "cell_type": "code",
   "execution_count": 7,
   "metadata": {},
   "outputs": [
    {
     "name": "stdout",
     "output_type": "stream",
     "text": [
      "a-,-b-,-c-,-d\n"
     ]
    }
   ],
   "source": [
    "dizi=[\"a\",\"b\",\"c\",\"d\"]\n",
    "#yanyana=\"-,-\".join(dizi)\n",
    "araSozcuk=\"-,-\"\n",
    "yanyana=araSozcuk.join(dizi)\n",
    "print(yanyana)"
   ]
  },
  {
   "cell_type": "code",
   "execution_count": 21,
   "metadata": {},
   "outputs": [
    {
     "name": "stdout",
     "output_type": "stream",
     "text": [
      "sakarya                       \n",
      "30\n"
     ]
    }
   ],
   "source": [
    "#23.50 ljust soluna yaslar verdiğimiz değer kadar alan ayırır ve o değeri girip kalan alan boşluk bırakır sakarya yanında 23 boşluk vardır\n",
    "metin=\"sakarya\"\n",
    "metin=metin.ljust(30)\n",
    "uzun=len(metin)\n",
    "print(metin)\n",
    "print(uzun)\n"
   ]
  },
  {
   "cell_type": "code",
   "execution_count": 33,
   "metadata": {},
   "outputs": [
    {
     "name": "stdout",
     "output_type": "stream",
     "text": [
      "                       sakarya\n",
      "30\n"
     ]
    }
   ],
   "source": [
    "#rjust\n",
    "metin=\"sakarya\"\n",
    "metin=metin.rjust(30)\n",
    "uzun=len(metin)\n",
    "print(metin)\n",
    "print(uzun)\n",
    "#sağına yaslar"
   ]
  },
  {
   "cell_type": "code",
   "execution_count": 1,
   "metadata": {
    "ExecuteTime": {
     "end_time": "2024-02-26T14:05:25.898185Z",
     "start_time": "2024-02-26T14:05:25.867864900Z"
    }
   },
   "outputs": [
    {
     "name": "stdout",
     "output_type": "stream",
     "text": [
      "True\n",
      "False\n",
      "False\n",
      "False\n",
      "False\n"
     ]
    }
   ],
   "source": [
    "#isalfanum()\n",
    "#metin=\"Sakarya Üniversitesi 54\" boşluktan dolayı yanlış\n",
    "metin=\"SakaryaÜniversitesi54\"\n",
    "sonuc=metin.isalnum()\n",
    "print(sonuc)\n",
    "\n",
    "sonuc=metin.isalpha() ;print(sonuc)\n",
    "sonuc=metin.isdecimal() ;print(sonuc)\n",
    "sonuc=metin.isnumeric() ;print(sonuc)\n",
    "sonuc=metin.isdigit() ;print(sonuc)"
   ]
  },
  {
   "cell_type": "code",
   "execution_count": 22,
   "metadata": {},
   "outputs": [
    {
     "name": "stdout",
     "output_type": "stream",
     "text": [
      "False\n",
      "False\n",
      "False\n",
      "True\n"
     ]
    }
   ],
   "source": [
    "metin=\"SakaryaÜniversitesi54\"\n",
    "sonuc=metin.islower();print(sonuc)\n",
    "sonuc=metin.isupper();print(sonuc)\n",
    "sonuc=metin.isspace();print(sonuc) #hepsi boşlukmu kontrol eder false\n",
    "sonuc=\"  \".isspace();print(sonuc)\n"
   ]
  },
  {
   "cell_type": "code",
   "execution_count": 50,
   "metadata": {},
   "outputs": [
    {
     "name": "stdout",
     "output_type": "stream",
     "text": [
      "True\n",
      "False\n"
     ]
    }
   ],
   "source": [
    "sonuc=\"Sakarya Ünivesitesi Yönetim Bilişim\".istitle()   ;print(sonuc)\n",
    "sonuc=\"Sakarya Ünivesitesi yönetim Bilişim\".istitle()   ;print(sonuc)"
   ]
  },
  {
   "cell_type": "markdown",
   "metadata": {},
   "source": [
    "## --------------------SORU-------------------------\n",
    "\n",
    "Kullanıcı tarafından girilen bir metnin başlık olup olmadığını kontol ediniz\n",
    "\n",
    "ve, ile gibi edatlar küçük yazılabilir fakat doğru sonuc döndürmelidir."
   ]
  },
  {
   "cell_type": "code",
   "execution_count": 1,
   "metadata": {
    "ExecuteTime": {
     "end_time": "2024-02-26T14:06:40.341773600Z",
     "start_time": "2024-02-26T14:06:36.197025800Z"
    }
   },
   "outputs": [
    {
     "name": "stdout",
     "output_type": "stream",
     "text": [
      "True\n"
     ]
    }
   ],
   "source": [
    "metin=input(\"metin giriniz\") #\"Sakarya Ünivesitesi ve ile Yönetim Bilişim\"\n",
    "metin=metin.replace(\" ve \",\" Ve \").replace(\" ile \",\" İle \")     \n",
    "\n",
    "sonuc=metin.istitle()\n",
    "\n",
    "print(sonuc)\n"
   ]
  },
  {
   "cell_type": "markdown",
   "metadata": {},
   "source": [
    "**Burada:**  \n",
    "`metin.replace(\" ve \",\" Ve \").replace(\" ile \",\" İle \")`  \n",
    "\n",
    "**Bağlaç öncesi sonrası boşluk kullanılma nedeni**  \n",
    "\n",
    "Eğer bağlaç \"ve\" veya \"ile\" başka bir kelimenin içinde geçiyorsa: `(örneğin \"sever\" veya \"pile\")` ve bu  \n",
    "kelimeleri değiştirmek istemiyorsanız, bu bağlaçların \n",
    "yalnızca bağımsız kelimeler olarak ele alınması önemlidir."
   ]
  },
  {
   "cell_type": "markdown",
   "metadata": {},
   "source": [
    "## ------------------SORU------------------------\n",
    "\n",
    "Sakarya ifadesinin her harfi arasında bir boşluk bırakarak ekrana yazılmasını sağlayınız."
   ]
  },
  {
   "cell_type": "code",
   "execution_count": 28,
   "metadata": {},
   "outputs": [
    {
     "name": "stdout",
     "output_type": "stream",
     "text": [
      "s a k a r y a\n",
      "s a k a r y a\n"
     ]
    }
   ],
   "source": [
    "metin=\"sakarya\"\n",
    "sonuc=\" \".join(metin)\n",
    "sonuc2=metin.replace(\"\",\" \").strip()\n",
    "print(sonuc)\n",
    "print(sonuc2)"
   ]
  },
  {
   "cell_type": "markdown",
   "metadata": {},
   "source": [
    "## -----------------------SORU------------------\n",
    "\n",
    "Girilen bir metnin ilk kelimesinin uzunluğunu ekrana yazın"
   ]
  },
  {
   "cell_type": "code",
   "execution_count": 60,
   "metadata": {},
   "outputs": [
    {
     "name": "stdout",
     "output_type": "stream",
     "text": [
      "7\n"
     ]
    }
   ],
   "source": [
    "metin=input(\"metin gir:\") #sakarya üniversitesi\n",
    "indis=metin.index(\" \")\n",
    "print(indis)"
   ]
  },
  {
   "cell_type": "code",
   "execution_count": 31,
   "metadata": {},
   "outputs": [
    {
     "name": "stdout",
     "output_type": "stream",
     "text": [
      "7\n"
     ]
    }
   ],
   "source": [
    "metin=\"sakarya üniversitesi\"\n",
    "metin=metin.split(\" \")\n",
    "print(len(metin[0]))\n"
   ]
  },
  {
   "cell_type": "code",
   "execution_count": 26,
   "metadata": {},
   "outputs": [
    {
     "name": "stdout",
     "output_type": "stream",
     "text": [
      "[' Sakarya', 'Üniversitesi', 'Bilişim']\n"
     ]
    }
   ],
   "source": [
    "metin=\"\"\" Sakarya\n",
    "Üniversitesi\n",
    "Bilişim\"\"\"\n",
    "sonuc=metin.splitlines()\n",
    "print(sonuc)\n",
    "#bir metni satırlara (enter karakterlerine göre) göre parçalara ayrırır her satırı dizinin bir elemanı olarak döndürür."
   ]
  },
  {
   "cell_type": "markdown",
   "metadata": {},
   "source": [
    "## -------------------------SORU---------------------------\n",
    "\n",
    "Bir metindeki paragrafları kaldırıp yerlerine \" - \" ifadesi olan konuşma çizgisi ekleyin."
   ]
  },
  {
   "cell_type": "code",
   "execution_count": 36,
   "metadata": {},
   "outputs": [
    {
     "name": "stdout",
     "output_type": "stream",
     "text": [
      " Sakarya - Üniversitesi - Bilişim\n",
      " Sakarya - Üniversitesi - Bilişim\n"
     ]
    }
   ],
   "source": [
    "metin=\"\"\" Sakarya\n",
    "Üniversitesi\n",
    "Bilişim\"\"\"\n",
    "dizi=metin.splitlines()\n",
    "yeniMetin=\" - \".join(dizi)\n",
    "yeniMetin2=metin.replace(\"\\n\",\" - \")\n",
    "print(yeniMetin)\n",
    "print(yeniMetin2)"
   ]
  },
  {
   "cell_type": "code",
   "execution_count": 76,
   "metadata": {},
   "outputs": [
    {
     "name": "stdout",
     "output_type": "stream",
     "text": [
      "sAKARYA üNIVERSITESI yÖNETIM bILIŞIM sISTEMLERI bÖLÜMÜ\n"
     ]
    }
   ],
   "source": [
    "metin=\"Sakarya Üniversitesi Yönetim Bilişim Sistemleri Bölümü\"\n",
    "kucukHarfBüyükHarfCevir=metin.swapcase()\n",
    "print(kucukHarfBüyükHarfCevir)"
   ]
  },
  {
   "cell_type": "code",
   "execution_count": 78,
   "metadata": {},
   "outputs": [
    {
     "name": "stdout",
     "output_type": "stream",
     "text": [
      "True\n"
     ]
    }
   ],
   "source": [
    "metin=\"Sakarya Üniversitesi Yönetim Bilişim Sistemleri Bölümü\"\n",
    "sonuc=metin.startswith(\"Sakarya\")\n",
    "print(sonuc)"
   ]
  },
  {
   "cell_type": "code",
   "execution_count": 27,
   "metadata": {},
   "outputs": [
    {
     "name": "stdout",
     "output_type": "stream",
     "text": [
      "1\n",
      "6\n"
     ]
    }
   ],
   "source": [
    "metin=\"Sakarya Üniversitesi Yönetim Bilişim Sistemleri Bölümü\"\n",
    "indis=metin.index(\"a\") ;print(indis)\n",
    "indis=metin.rindex(\"a\") ;print(indis) #sağdan aramaya başlar"
   ]
  },
  {
   "cell_type": "markdown",
   "metadata": {},
   "source": [
    "## -------------------------------------SORU---------------------------\n",
    "\n",
    "abla metindeki a harflerini b harfi ile b harflerini a harfi ile değiştirin\n",
    "balb\n",
    "\n"
   ]
  },
  {
   "cell_type": "code",
   "execution_count": 1,
   "metadata": {
    "ExecuteTime": {
     "end_time": "2024-02-26T14:12:23.482308900Z",
     "start_time": "2024-02-26T14:12:23.448016800Z"
    }
   },
   "outputs": [
    {
     "name": "stdout",
     "output_type": "stream",
     "text": [
      "balb\n"
     ]
    }
   ],
   "source": [
    "metin=\"abla\"\n",
    "değiştir=metin.replace(\"a\",\"|\").replace(\"b\",\"a\").replace(\"|\",\"b\")\n",
    "print(değiştir)"
   ]
  },
  {
   "cell_type": "code",
   "execution_count": 11,
   "metadata": {},
   "outputs": [
    {
     "name": "stdout",
     "output_type": "stream",
     "text": [
      "Ali manavdan 10.24kg elma aldı\n"
     ]
    }
   ],
   "source": [
    "sayi=10.24\n",
    "kisi=\"Ali\"\n",
    "metin=kisi + \" manavdan \"+ str(sayi)+ \"kg elma aldı\"\n",
    "print(metin)"
   ]
  },
  {
   "cell_type": "code",
   "execution_count": 21,
   "metadata": {},
   "outputs": [
    {
     "name": "stdout",
     "output_type": "stream",
     "text": [
      " Ali manavdan 10.24 kg elma aldı\n"
     ]
    }
   ],
   "source": [
    "sayi=10.24\n",
    "kisi=\"Ali\"\n",
    "metin= \" {} manavdan {} kg elma aldı\".format(kisi,sayi)\n",
    "print(metin)"
   ]
  },
  {
   "cell_type": "code",
   "execution_count": 20,
   "metadata": {},
   "outputs": [
    {
     "name": "stdout",
     "output_type": "stream",
     "text": [
      " Ali manavdan 10.24 kg elma aldı\n"
     ]
    }
   ],
   "source": [
    "sayi=10.24\n",
    "kisi=\"Ali\"\n",
    "metin= \" {1} manavdan {0} kg elma aldı\".format(sayi,kisi)\n",
    "print(metin)"
   ]
  },
  {
   "cell_type": "code",
   "execution_count": 33,
   "metadata": {},
   "outputs": [
    {
     "name": "stdout",
     "output_type": "stream",
     "text": [
      " Ali manavdan 0.67 kg elma aldı\n"
     ]
    }
   ],
   "source": [
    "sayi=2/3\n",
    "kisi=\"Ali\"\n",
    "metin= \" {1} manavdan {0:.2f} kg elma aldı\".format(sayi,kisi) #0.6666666666 yi iki basamak olarak aldık #.2f de 2 haneden sonra olan 66666 kısımı yuvarlar eğer 0.49 dan büyükse\n",
    "print(metin)"
   ]
  }
 ],
 "metadata": {
  "kernelspec": {
   "display_name": "Python 3",
   "language": "python",
   "name": "python3"
  },
  "language_info": {
   "codemirror_mode": {
    "name": "ipython",
    "version": 3
   },
   "file_extension": ".py",
   "mimetype": "text/x-python",
   "name": "python",
   "nbconvert_exporter": "python",
   "pygments_lexer": "ipython3",
   "version": "3.12.3"
  }
 },
 "nbformat": 4,
 "nbformat_minor": 2
}
