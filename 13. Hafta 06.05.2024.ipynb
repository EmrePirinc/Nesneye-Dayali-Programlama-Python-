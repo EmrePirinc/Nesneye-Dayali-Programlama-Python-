{
 "cells": [
  {
   "cell_type": "markdown",
   "metadata": {},
   "source": [
    "## ---------------------------SORU-----------------------------------------\n",
    "\n",
    "Kullanıcı tarafından başlangıç ve bitiş değerleri girildiğinde bu değerleri parametre alıp bu aralıkta rastgele sayı üretip, üretilen rastgele sayıyı geriye döndüren bir metot yazın ve kullanımını gösterin"
   ]
  },
  {
   "cell_type": "code",
   "execution_count": 214,
   "metadata": {},
   "outputs": [
    {
     "name": "stdout",
     "output_type": "stream",
     "text": [
      "39\n"
     ]
    }
   ],
   "source": [
    "def sayiOlustur(baslangıc,bitis):\n",
    "    import random\n",
    "    sayi=random.randint(baslangıc,bitis)\n",
    "    return sayi\n",
    "\n",
    "baslangıc=int(input(\"Başlangıç sayısını giriniz: \"))\n",
    "bitis=int(input(\"Bitiş sayısını giriniz: \"))\n",
    "rastgeleSayi=sayiOlustur(baslangıc,bitis)\n",
    "print(rastgeleSayi)"
   ]
  },
  {
   "cell_type": "markdown",
   "metadata": {},
   "source": [
    "## -----------------------------SORU------------------------------------------\n",
    "\n",
    "Daha önce yazılan metot çalıştırma sırasında hata almışssa geriye hata aldığını ve hata açıklamasını, hata almamışsa da sonucu geriye döndürsün"
   ]
  },
  {
   "cell_type": "code",
   "execution_count": 11,
   "metadata": {},
   "outputs": [
    {
     "name": "stdout",
     "output_type": "stream",
     "text": [
      "Hata oluştu: invalid literal for int() with base 10: 'a'\n"
     ]
    }
   ],
   "source": [
    "import random\n",
    "\n",
    "def sayiOlustur(baslangıc,bitis):\n",
    "    try:\n",
    "        baslangıc=int(baslangıc) \n",
    "        bitis=int(bitis)     \n",
    "        sayi=random.randint(baslangıc,bitis)\n",
    "        return sayi\n",
    "    except Exception as e:\n",
    "        return \"Hata oluştu: \" + str(e)\n",
    "baslangıc=input(\"Başlangıç sayısını giriniz: \")             #1 girdik\n",
    "bitis=input(\"Bitiş sayısını giriniz: \")                     #a girdik\n",
    "rastgeleSayi=sayiOlustur(baslangıc,bitis)\n",
    "print(rastgeleSayi)"
   ]
  },
  {
   "cell_type": "markdown",
   "metadata": {},
   "source": [
    "## ------------------------------- SORU -------------------------------------------\n",
    "\n",
    "Burada yazılmış olan metot için eğer başlangıç  ve bitiş aralığı değerleri verilirse o aralıkta değer üretsin ve geri göndersin,   \n",
    "fakat başlangıç değeri verilmeyip sadece bitiş değeri verilirse başlangıcı 0 kabul etsin,  \n",
    "başlangıç değeri verilip bitiş değeri verilmezse bitişi 100 olarak kabul etsin,   \n",
    "Her ikisi de vermezse 0-100 arasında değer üretsin  "
   ]
  },
  {
   "cell_type": "code",
   "execution_count": 196,
   "metadata": {},
   "outputs": [
    {
     "name": "stdout",
     "output_type": "stream",
     "text": [
      "3\n"
     ]
    }
   ],
   "source": [
    "import random\n",
    "\n",
    "def sayiOlustur(baslangıc=0,bitis=100):\n",
    "    try:\n",
    "        baslangıc=int(baslangıc) \n",
    "        bitis=int(bitis)     \n",
    "        sayi=random.randint(baslangıc,bitis)\n",
    "        return sayi\n",
    "    except Exception as e:\n",
    "        return \"Hata oluştu: \" + str(e)\n",
    "\n",
    "bitis=input(\"Bitiş sayısını giriniz: \")             #başlangıç değeri verilmeyip sadece bitiş değeri verilirse başlangıcı 0 kabul etsin\n",
    "rastgeleSayi=sayiOlustur(bitis=bitis)\n",
    "print(rastgeleSayi)"
   ]
  },
  {
   "cell_type": "code",
   "execution_count": 62,
   "metadata": {},
   "outputs": [
    {
     "name": "stdout",
     "output_type": "stream",
     "text": [
      "97\n"
     ]
    }
   ],
   "source": [
    "import random\n",
    "\n",
    "def sayiOlustur(baslangıc=0,bitis=100):\n",
    "    try:\n",
    "        baslangıc=int(baslangıc) \n",
    "        bitis=int(bitis)     \n",
    "        sayi=random.randint(baslangıc,bitis)\n",
    "        return sayi\n",
    "    except Exception as e:\n",
    "        return \"Hata oluştu: \" + str(e)\n",
    "baslangıc=input(\"Başlangıç sayısını giriniz: \")             #başlangıç değeri verilip bitiş değeri verilmezse bitişi 100 olarak kabul etsin\n",
    "rastgeleSayi=sayiOlustur(baslangıc=baslangıc)\n",
    "print(rastgeleSayi)"
   ]
  },
  {
   "cell_type": "code",
   "execution_count": 216,
   "metadata": {},
   "outputs": [
    {
     "name": "stdout",
     "output_type": "stream",
     "text": [
      "86\n"
     ]
    }
   ],
   "source": [
    "import random\n",
    "\n",
    "def sayiOlustur(baslangıc=0,bitis=100):\n",
    "    try:\n",
    "        baslangıc=int(baslangıc) \n",
    "        bitis=int(bitis)     \n",
    "        sayi=random.randint(baslangıc,bitis)\n",
    "        return sayi\n",
    "    except Exception as e:\n",
    "        return \"Hata oluştu: \" + str(e)\n",
    "\n",
    "rastgeleSayi=sayiOlustur()                          #Her ikisi de vermezse 0-100 arasında değer üretsin  \n",
    "print(rastgeleSayi)"
   ]
  },
  {
   "cell_type": "markdown",
   "metadata": {},
   "source": [
    "## ------------------------------------- SORU -------------------------------------------\n",
    "\n",
    "Parametre olarak kendisine verilen 2 sayının toplamını,farkını ve çarpımını geriye döndüren bir metot yazıp kullanımını gösterin."
   ]
  },
  {
   "cell_type": "code",
   "execution_count": 1,
   "metadata": {},
   "outputs": [
    {
     "name": "stdout",
     "output_type": "stream",
     "text": [
      "Toplam: 7, Fark: 3, Çarpım: 10, Bölüm: 2.5\n"
     ]
    }
   ],
   "source": [
    "def dortIslem(a,b):\n",
    "    toplam=a+b\n",
    "    fark=a-b\n",
    "    carpım=a*b\n",
    "    bolum=a/b\n",
    "    return toplam,fark,carpım,bolum   #Bir metot birden fazla değişken döndürebilir\n",
    "\n",
    "sayi1=int(input(\"1. sayıyı giriniz: \"))  #5\n",
    "sayi2=int(input(\"2. sayıyı giriniz: \"))  #2\n",
    "t,f,c,b=dortIslem(sayi1,sayi2)                      #Eğer ki birden fazla değişken geriye dönüyorsa o dönen değişkenlerin aynı sırayla bir başka değişkenlere atayabiliriz.\n",
    "print(f\"Toplam: {t}, Fark: {f}, Çarpım: {c}, Bölüm: {b}\")\n",
    "\n",
    "#t,f,c,b=dortIslem(sayi1,sayi2) \n",
    "# Burada bu metotla sayı1 ve sayı2'yi gönderdiğimde geriye dönen toplam,fark,carpım,bolum sırasındaki değişkenlerin içeriklerini t,f,c,b sıradaki değişken adlarına atıyoruz"
   ]
  },
  {
   "cell_type": "code",
   "execution_count": 2,
   "metadata": {},
   "outputs": [
    {
     "name": "stdout",
     "output_type": "stream",
     "text": [
      "(7, 3, 10, 2.5)\n",
      "2.5\n"
     ]
    }
   ],
   "source": [
    "#farklı bir kullanım şekli\n",
    "def dortIslem(a,b):\n",
    "    toplam=a+b\n",
    "    fark=a-b\n",
    "    carpım=a*b\n",
    "    bolum=a/b\n",
    "    return toplam,fark,carpım,bolum\n",
    "\n",
    "sayi1=int(input(\"1. sayıyı giriniz: \"))  #5\n",
    "sayi2=int(input(\"2. sayıyı giriniz: \"))  #2\n",
    "sonuc=dortIslem(sayi1,sayi2)                      \n",
    "print(sonuc)\n",
    "print(sonuc[3]) #2.5 nasıl yazdırırım\n"
   ]
  },
  {
   "cell_type": "markdown",
   "metadata": {},
   "source": [
    "### <span style=\"color: LightSkyBlue;\">İstediğim kadar parametre verebilmek için </span>\n",
    "gidip de sürekli A,B,C,D,E, falan mı yazacağım? Hayır.Bunun çözümlerinden bir tanesi dizi verebilirsiniz belki. Hani parametre olarak dizi türünden bir değişken verebilirsiniz. O değişkenin içerisine hepsini atarsınız.\n",
    "### <span style=\"color: LightSkyBlue;\">Ya da siz parametrenin kendisini dizi türüymüş gibi kullanabilirsiniz. </span>\n",
    "eğer bunun önüne <span style=\"color: LightSkyBlue;\">(*sayi)</span> yıldız ifadesi yazıyorsak bu istediğiniz kadar parametre olabilir demektir\n",
    "\n"
   ]
  },
  {
   "cell_type": "code",
   "execution_count": 200,
   "metadata": {},
   "outputs": [
    {
     "name": "stdout",
     "output_type": "stream",
     "text": [
      "15\n"
     ]
    }
   ],
   "source": [
    "def topla (*sayi):\n",
    "    toplam =0 \n",
    "    for s in sayi:      #Aslında buna bir dizi gibi davranıyoruz. Yani parametreler var ya orada, o her bir parametre kadar dönen bir döngü ve her bir parametrenin s'nin içerisine atalım.\n",
    "        toplam+=s     \n",
    "    return toplam\n",
    "\n",
    "sonuc =topla(1,2,3,4,5)\n",
    "print(sonuc)"
   ]
  },
  {
   "cell_type": "markdown",
   "metadata": {},
   "source": [
    "### Eğer iki tane yıldız koyarsanız   <span style=\"color: LightSkyBlue;\">(**sayi)</span>\n",
    "siz normalde yine sonsuz kadar yani istenildiği kadar parametre alabilirsiniz. Fakat bu kez parametreler verilirken adlarıyla beraber verilir"
   ]
  },
  {
   "cell_type": "code",
   "execution_count": 202,
   "metadata": {},
   "outputs": [
    {
     "name": "stdout",
     "output_type": "stream",
     "text": [
      "sayi1, sayi2, deger3,  toplamı=60\n"
     ]
    }
   ],
   "source": [
    "def topla (**sayi):\n",
    "    toplam =0\n",
    "    isimler=\"\"\n",
    "    for adi,deger in sayi.items():              #Sözlük gibi davranıyor\n",
    "        toplam+=deger\n",
    "        isimler+=adi + \", \"\n",
    "    return f\"{isimler} toplamı={toplam}\"\n",
    "\n",
    "sonuc=topla(sayi1=5,sayi2=15,deger3=40)\n",
    "print(sonuc)"
   ]
  },
  {
   "cell_type": "markdown",
   "metadata": {},
   "source": [
    "## --------------------------------------- SORU --------------------------------------------------------\n",
    "\n",
    "``` print(\"İşlem Sonucu:\" , sonuc(3,7)) ```\n",
    "\n",
    "Yukarıdaki kod aşağıdaki çıktıyı veriyorsa (iki sayı çarpımı), bu kodu çalıştıracak metodu yazınız\n",
    "\n",
    "```İşlem Sonucu:21 bulundu```\n",
    "\n"
   ]
  },
  {
   "cell_type": "code",
   "execution_count": 3,
   "metadata": {},
   "outputs": [
    {
     "name": "stdout",
     "output_type": "stream",
     "text": [
      "İşlem Sonucu: 21 bulundu\n"
     ]
    }
   ],
   "source": [
    "def sonuc(a,b):\n",
    "    carpım= a*b\n",
    "    return f\"{carpım} bulundu\"\n",
    "print(\"İşlem Sonucu:\", sonuc(3,7))"
   ]
  },
  {
   "cell_type": "markdown",
   "metadata": {},
   "source": [
    "## ------------------------------ SORU -----------------------------------------------\n",
    "\n",
    "Kendisine parametre olarak verilen bir metindeki her bir kelimenin kaç kez geçtiğini geriye döndüren bir metot yazınız.\n",
    "\n"
   ]
  },
  {
   "cell_type": "code",
   "execution_count": 5,
   "metadata": {},
   "outputs": [
    {
     "name": "stdout",
     "output_type": "stream",
     "text": [
      "{'üniversite': 2, 'sakarya': 2, 'ilinde': 1, 'olur': 1, 've': 3, 'sevilir': 1}\n"
     ]
    }
   ],
   "source": [
    "def kelimeSay(metin):\n",
    "    kelimeler = {}\n",
    "    for kelime in metin.split(\" \"):\n",
    "        kelimeler[kelime]=metin.count(kelime)\n",
    "    return kelimeler\n",
    "\n",
    "say=kelimeSay(\"üniversite sakarya ilinde üniversite olur ve sakarya sevilir\")\n",
    "print(say)\n"
   ]
  },
  {
   "cell_type": "markdown",
   "metadata": {},
   "source": [
    "## --------------------------- SORU --------------------------------------\n",
    "\n",
    "Parametre olarak aldığı bir metindeki her bir kelimeyi ve o kelimenin karakter sayısını alt alta olacak şekilde bir dosyaya yazın.\n"
   ]
  },
  {
   "cell_type": "code",
   "execution_count": 9,
   "metadata": {},
   "outputs": [],
   "source": [
    "def dosyayaYaz(icerik):\n",
    "    with open(\"13.hafta.kelimeler.txt\",\"a\") as f:\n",
    "        f.write(icerik)\n",
    "        f.close()\n",
    "def kelimeUzunluklariHesapla(metin):\n",
    "    for kelime in metin.split(\" \"):\n",
    "        dosyayaYaz(f\"{kelime}:{len(kelime)}\\n\")\n",
    "\n",
    "kelimeUzunluklariHesapla(\"Sakarya üniversitesinde ybs okuyorum\")"
   ]
  },
  {
   "cell_type": "markdown",
   "metadata": {},
   "source": [
    "\n",
    "\n",
    "## ---------------------------- SORU ----------------------------------\n",
    "parametre olarak aldığı bir metindeki kelimelerin uzunluklarını en uzundan en kısaya  olacak şekilde dosyaya yazan metot oluşturun.\n",
    "\n",
    "### haftaya çözecek derste çözmedi soruyu yarım kaldı"
   ]
  },
  {
   "cell_type": "code",
   "execution_count": 2,
   "metadata": {},
   "outputs": [
    {
     "name": "stdout",
     "output_type": "stream",
     "text": [
      "{'ybs': 3, 'Sakarya': 7, 'okuyorum': 8, 'üniversitesinde': 15}\n"
     ]
    }
   ],
   "source": [
    "def kelimeUzunluklariHesapla(metin):\n",
    "        sozluk ={}\n",
    "        for kelime in metin.split(\" \"):\n",
    "            sozluk[kelime]=len(kelime)\n",
    "        sıralanmisSozluk = dict(sorted(sozluk.items(), key=lambda item: item[1]))  #reverse parametresi varsayılan olarak false dolayısıyla küçükten büyüğe varsayılan olarak sıralar.\n",
    "        print(sıralanmisSozluk)\n",
    "kelimeUzunluklariHesapla(\"Sakarya üniversitesinde ybs okuyorum\")"
   ]
  },
  {
   "cell_type": "code",
   "execution_count": 3,
   "metadata": {},
   "outputs": [
    {
     "name": "stdout",
     "output_type": "stream",
     "text": [
      "{'üniversitesinde': 15, 'okuyorum': 8, 'Sakarya': 7, 'ybs': 3}\n"
     ]
    }
   ],
   "source": [
    "def kelimeUzunluklariHesapla(metin):\n",
    "        sozluk ={}\n",
    "        for kelime in metin.split(\" \"):\n",
    "            sozluk[kelime]=len(kelime)\n",
    "        sıralanmısSozluk = dict(sorted(sozluk.items(), key=lambda item: item[1],reverse=True)) #Eğer siz büyükten küçüğe sıralamak istiyorsanız reverse parametresini True yapmalısınız.\n",
    "        print(sıralanmısSozluk)\n",
    "kelimeUzunluklariHesapla(\"Sakarya üniversitesinde ybs okuyorum\")"
   ]
  },
  {
   "cell_type": "markdown",
   "metadata": {},
   "source": [
    "### **Gemini AI** ile Kodun Açıklaması\n",
    "```sıralanmısSozluk = dict(sorted(sozluk.items(), key=lambda item: item[1], reverse=True))```\n",
    "\n",
    "Bu kod parçası, sozluk adlı bir sözlüğü uzunluklara göre sıralayıp, en uzun kelimeyi ilk sırada tutan yeni bir sözlük (sıralanmısSozluk) oluşturmak için kullanılıyor.  \n",
    "\n",
    "**İşte adımlar:**  \n",
    "\n",
    "```sozluk.items():``` Bu kısım, sozluk içindeki tüm anahtar-değer çiftlerini (kelime-uzunluk) bir liste halinde döndürür. Örneğin, sozluk şu şekildeyse:\n",
    "\n",
    "```sozluk = {\"Sakarya\": 8, \"üniversitesinde\": 15, \"ybs\": 3, \"okuyorum\": 8}```\n",
    "\n",
    "```sozluk.items()``` aşağıdaki listeyi döndürür:\n",
    "\n",
    "```[(\"Sakarya\", 8), (\"üniversitesinde\", 15), (\"ybs\", 3), (\"okuyorum\", 8)]```\n",
    "\n",
    "```sorted(...):``` Bu fonksiyon, verilen listedeki elemanları sıralar. Sıralama işlemi, key ve reverse parametreleri ile özelleştirilebilir.  \n",
    "\n",
    "```key=lambda item: item[1]:``` Bu kısım, sorted fonksiyonuna \"elemanları nasıl sıralayacağını\" söylüyor.\n",
    "\n",
    "```lambda item: item[1]``` bir \"lambda fonksiyonu\" ve bu fonksiyon, her bir liste elemanını (item) alarak o elemanın ikinci elemanını (item[1], yani uzunluğu) döndürüyor.\n",
    "Yani, sorted fonksiyonu listedeki elemanları (kelime-uzunluk çiftlerini) ikinci elemanlarına (uzunluklarına) göre sıralayacak.\n",
    "\n",
    "```reverse=True:``` Bu, sıralamayı tersine çevirmek için kullanılıyor. True olduğu için sıralama en büyük uzunluktan en küçük uzunluğa doğru olacak. Yani, en uzun kelime ilk sırada olacak.\n",
    "  \n",
    "```dict(...):``` sorted fonksiyonunun döndürdüğü sıralanmış listeyi tekrar bir sözlüğe çeviriyor.  \n",
    "\n",
    " Yani, sorted fonksiyonu listeyi   \n",
    " \n",
    " ```[(\"üniversitesinde\", 15), (\"Sakarya\", 8), (\"okuyorum\", 8), (\"ybs\", 3)] ``` şeklinde döndürdüyse, \n",
    " \n",
    " dict(...) bu listeyi tekrar ``` {\"üniversitesinde\": 15, \"Sakarya\": 8, \"okuyorum\": 8, \"ybs\": 3} ``` şeklinde bir sözlüğe dönüştürüyor.\n",
    "\n",
    "**Sonuç olarak:**\n",
    "Bu kod parçası, sozluk içindeki kelimeleri uzunluklarına göre sıralayarak ve en uzun kelimeyi ilk sırada tutarak yeni bir sözlük (sıralanmısSozluk) oluşturuyor."
   ]
  },
  {
   "cell_type": "markdown",
   "metadata": {},
   "source": [
    "### **Emrah Hocanın Dersteki Açıklaması**\n",
    "Lamda yazdığımız zaman buraya \n",
    "işte her biri kadar dönmüş oluyorsunuz burada. \n",
    "Yani her bir eleman kadar dönüyorsunuz. \n",
    "\n",
    "Burada çünkü iki eleman var yani aslında iki farklı dizi var burada.\n",
    "Bir kelimelerin kendilerinin olduğu dizi bir de bunların karşılıklarında her birinin uzunluklarının olduğu dizi. \n",
    "\n",
    "Sıralanmış sözlük diyelim. \n",
    "Ya mesela işte böyle çalıştırdığımız zaman ne yapmış olduk biz? \n",
    "Bakın bir tane daha sözlük oluşturduk. \n",
    "Diyoruz ki bu sözlüktür. \n",
    "Yani aslında hani o for döngüsüyle yani bir oluşturduğumuz eleman mantığı vardı ya aynı mantıkla.\n",
    "Diyoruz ki bunun elemanları sorted'ın içerisine atıyoruz sıralanacak. \n",
    "Neye sıralanacak? \n",
    "Sözlüğün elemanları sıralanacak. \n",
    "Neye göre sıralanacak diyoruz? \n",
    "Lamdaya diyoruz ki birinci sütun hani \n",
    "bu aslında iki sütunlu bir dizi muamelesi gösteriyoruz biz sözlüğe. \n",
    "İlk sütun kelimenin kendisiydi birinci sütun ise değerleriydi. \n",
    "Biz değerlerine göre sıralayacağız. \n",
    "Eğer ki burayı 0 yaparsanız bu kez şunlar harf sırasına göre sıralanmış olur bu kez. \n",
    "Ama biz tabi değerlere göre sıralayacağımız için işte şu an\n",
    "bu şekilde 3'ten 1'e doğru sıralanmış olur\n",
    "\n",
    "**İki tane parametre alıyor bir neyi sıralayacağım o sıralayacağım neye göre sıralayacağım.** \n",
    "\n",
    "Lamda şunu ifade ediyor yani senin her bir elemanına yönelik bunu yapıyor. \n",
    "Her bir eleman senin mesela iki sütunlu bir dizi olarak davrandı ona o iki sütunlu dizinin hangi sütununa göre diziyi sıralayacağım? \n",
    "\n",
    "Sen aslında şunu söylüyorsun. \n",
    "Diyorsun ki artık yeni bir eleman oluştur. \n",
    "\n",
    "Yeni bir şey oluşturuyorsun sözlük oluşturuyorsun lamdayla. \n",
    "Diyorsun ki sözlük elemanın birincisi \n",
    "şuradan gelen içeriktir. \n",
    "İkincisi ise şu içeriktir. \n",
    "Ama zaten sırala dediğin için bu sorted'a aldığın için kendisi otomatikman sıralayarak bunu tekrardan oluşturuyor. \n"
   ]
  },
  {
   "cell_type": "code",
   "execution_count": 1,
   "metadata": {},
   "outputs": [],
   "source": [
    "def kelimeUzunluklariHesaplaDosyayaYaz(metin, dosya_adı):\n",
    "    sozluk = {}\n",
    "    for kelime in metin.split(\" \"):\n",
    "        sozluk[kelime] = len(kelime)\n",
    "    sıralanmısSozluk = dict(sorted(sozluk.items(), key=lambda item: item[1], reverse=True))\n",
    "\n",
    "    with open(dosya_adı, \"w\") as dosya:\n",
    "        for kelime, uzunluk in sıralanmısSozluk.items():\n",
    "            dosya.write(f\"{kelime}: {uzunluk}\\n\")\n",
    "\n",
    "kelimeUzunluklariHesaplaDosyayaYaz(\"Sakarya üniversitesinde ybs okuyorum\", \"13.Hafta.kelime_uzunluklari.txt\")\n"
   ]
  }
 ],
 "metadata": {
  "kernelspec": {
   "display_name": "venv",
   "language": "python",
   "name": "python3"
  },
  "language_info": {
   "codemirror_mode": {
    "name": "ipython",
    "version": 3
   },
   "file_extension": ".py",
   "mimetype": "text/x-python",
   "name": "python",
   "nbconvert_exporter": "python",
   "pygments_lexer": "ipython3",
   "version": "3.12.3"
  }
 },
 "nbformat": 4,
 "nbformat_minor": 2
}
