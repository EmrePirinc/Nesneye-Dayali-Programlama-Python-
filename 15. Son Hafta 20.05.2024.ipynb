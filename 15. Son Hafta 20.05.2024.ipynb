{
 "cells": [
  {
   "cell_type": "code",
   "execution_count": 1,
   "metadata": {},
   "outputs": [
    {
     "name": "stdout",
     "output_type": "stream",
     "text": [
      "8\n"
     ]
    }
   ],
   "source": [
    "import dortIslem                        #dortIslem.py isimli dosyamızı kütübhane gibi import ettik . (dosyalar kısmında o dosyaya ait kodlar)   \n",
    "\n",
    "sonuc=dortIslem.islemler.topla(3,5)\n",
    "\n",
    "print(sonuc)                                      #sınavda çıkabilir burayı verip diğer dosyayı isteyebilir"
   ]
  },
  {
   "cell_type": "code",
   "execution_count": 2,
   "metadata": {},
   "outputs": [
    {
     "name": "stdout",
     "output_type": "stream",
     "text": [
      "8\n"
     ]
    }
   ],
   "source": [
    "import dortIslem as di           #dörtislem i artık di olarak yazacam demektir\n",
    "\n",
    "sonuc=di.islemler.topla(3,5)\n",
    "\n",
    "print(sonuc)"
   ]
  },
  {
   "cell_type": "markdown",
   "metadata": {},
   "source": [
    "### Üstteki kod Açıklaması \n",
    "Kodunuzdaki ```import dortIslem as di ``` ifadesi, ```dortIslem.py``` dosyasını ```di ```adıyla kısaltarak kullanmanızı sağlar. Yani artık ```dortIslem.islemler.topla(3, 5) ``` yerine ``` di.islemler.topla(3, 5) ``` yazabilirsiniz."
   ]
  },
  {
   "cell_type": "code",
   "execution_count": 3,
   "metadata": {},
   "outputs": [
    {
     "name": "stdout",
     "output_type": "stream",
     "text": [
      "8\n"
     ]
    }
   ],
   "source": [
    "from dortIslem import islemler\n",
    "\n",
    "sonuc = islemler.topla(3,5)\n",
    "\n",
    "print(sonuc)"
   ]
  },
  {
   "cell_type": "markdown",
   "metadata": {},
   "source": [
    "### Üstteki kod Açıklaması \n",
    "Kodunuzda kullandığınız from ```dortIslem import islemler``` ifadesi, ```dortIslem.py``` dosyası içerisindeki ```islemler``` sınıfını doğrudan kodunuza dahil etmenizi sağlar. Bu sayede, normalde ```dortIslem.islemler.topla(3, 5)``` şeklinde kullanmanız gereken metodu, kısaca ``` islemler.topla(3, 5) ``` şeklinde kullanabilirsiniz."
   ]
  },
  {
   "cell_type": "code",
   "execution_count": 1,
   "metadata": {},
   "outputs": [
    {
     "name": "stdout",
     "output_type": "stream",
     "text": [
      "<function dosya.ekle at 0x0000000008835580>\n"
     ]
    }
   ],
   "source": [
    "from dortIslem import *\n",
    "\n",
    "sonuc = dosya.ekle              #\".\" koydumuzda artık direkt olarak erişebiliyoruz \n",
    "\n",
    "print(sonuc)"
   ]
  },
  {
   "cell_type": "markdown",
   "metadata": {},
   "source": [
    "### Üstteki kod Açıklaması \n",
    "```from dortIslem import * ``` ifadesi, ```dortIslem.py``` dosyasındaki\n",
    "\n",
    " ```tüm sınıfları, fonksiyonları ve değişkenleri ``` doğrudan mevcut dosyanıza dahil eder.   \n",
    " \n",
    " Bu sayede, ```dortIslem.dosya.ekle``` gibi uzun uzantılar kullanmadan, direkt olarak ```dosya.ekle ```şeklinde bu elemanlara erişebilirsiniz."
   ]
  },
  {
   "cell_type": "code",
   "execution_count": 3,
   "metadata": {},
   "outputs": [
    {
     "name": "stdout",
     "output_type": "stream",
     "text": [
      "<function dosya.ekle at 0x0000000008835580>\n"
     ]
    }
   ],
   "source": [
    "from dortIslem import islemler,dosya  #sadece 2 sınıf kullanmak için virgülle başka bir sınıfı kullandık\n",
    "\n",
    "sonuc = dosya.ekle                  \n",
    "\n",
    "print(sonuc)"
   ]
  },
  {
   "cell_type": "markdown",
   "metadata": {},
   "source": [
    "### Üstteki kod Açıklaması \n",
    "\n",
    "Kodunuzda ```from dortIslem import islemler, dosya``` ifadesini kullanarak, ```dortIslem.py``` dosyasındaki ```islemler``` ve ```dosya ```sınıflarını doğrudan kodunuza dahil etmiş oluyorsunuz. \n",
    "\n",
    "Bu sayede, **bu sınıflara ait metotları** kullanırken **uzun uzantılar** yazmanıza gerek kalmıyor."
   ]
  },
  {
   "cell_type": "code",
   "execution_count": 4,
   "metadata": {},
   "outputs": [
    {
     "name": "stdout",
     "output_type": "stream",
     "text": [
      "elma\n"
     ]
    }
   ],
   "source": [
    "from dortIslem import islemler,dosya,yazdır      #sınıflar, fonksiyonlar veya değişkenler olabilir   \n",
    "\n",
    "yazdır(\"elma\")"
   ]
  },
  {
   "cell_type": "markdown",
   "metadata": {},
   "source": [
    "## --------------------------------------SORU----------------------------------\n",
    "bu kodun çalışması için gerekli kodarı yazın\n",
    "\n",
    "```\n",
    "from tarihler import yasGetir\n",
    "\n",
    "sonuc=yasGetir(\"31/12/2001\")\n",
    "\n",
    "print(sonuc)\n",
    "\n",
    "```"
   ]
  },
  {
   "cell_type": "code",
   "execution_count": 1,
   "metadata": {},
   "outputs": [
    {
     "name": "stdout",
     "output_type": "stream",
     "text": [
      "22.41917808219178\n"
     ]
    }
   ],
   "source": [
    "from tarihler import yasGetir\n",
    "\n",
    "sonuc=yasGetir(\"31/12/2001\")\n",
    "\n",
    "print(sonuc)"
   ]
  },
  {
   "cell_type": "markdown",
   "metadata": {},
   "source": [
    "## -------------------------------SORU--------------------------------------------\n",
    "\n",
    "burada görmüş olduğunuz dizi adlı methodu çalıştıran kodu yazınız .\n",
    "```\n",
    "dizi.py\n",
    "\n",
    "class dizi:\n",
    "    class dizi:\n",
    "        def dizi(dizi):\n",
    "            return ','.join(dizi)\n",
    "\n",
    "```"
   ]
  },
  {
   "cell_type": "code",
   "execution_count": 4,
   "metadata": {},
   "outputs": [
    {
     "name": "stdout",
     "output_type": "stream",
     "text": [
      "elma,armut,kiraz\n"
     ]
    }
   ],
   "source": [
    "#CHATGPT ÇÖZÜMÜ DERSTE ÇÖZÜLMEDİ SORU\n",
    "\n",
    "from dizi import dizi\n",
    "\n",
    "# dizi sınıfının içindeki dizi sınıfından bir örnek oluşturmadan metodu çağırmak\n",
    "sample_data = [\"elma\", \"armut\", \"kiraz\"]\n",
    "\n",
    "# dizi metodunu sınıf üzerinden doğrudan çağırarak sonucu almak\n",
    "result = dizi.dizi.dizi(sample_data)\n",
    "\n",
    "# Sonucu ekrana yazdırmak\n",
    "print(result)\n"
   ]
  },
  {
   "cell_type": "markdown",
   "metadata": {},
   "source": [
    "\n",
    "### Genel Kültür Bilgi\n",
    "\n",
    "\n",
    "Biz bazen de bir kütüphaneyi kullanmak için, yani o kütüphaneyi indirirken o kütüphanenin de içinde kütüphane kullanılmış olabilir. Dolayısıyla biz bir kütüphaneyi indirirken o kütüphanenin çalışması için gerekli başka kütüphaneler de beraberinde iner. Mesela ben Pandas kütüphanesini indirdiğim zaman benim için otomatik olarak NumPy kütüphanesini de indiriyor. Six kütüphanesini de indiriyor.\n",
    "\n",
    "### PyPI (Python Paket İndeksi)\n",
    "PyPI, Python kütüphanelerinin merkezi deposudur. Binlerce kütüphane PyPI üzerinden ücretsiz olarak indirilebilir ve kullanılabilir.\n",
    "pip, PyPI'dan kütüphane indirmek için kullanılan bir paket yöneticisidir. Komut satırından pip install kütüphane_adı yazarak istediğimiz kütüphaneyi indirebiliriz\n",
    "\n",
    "### Kütüphane Ortamı\n",
    "Sanal Ortamlar: Farklı projelerde farklı kütüphane versiyonları kullanmak için sanal ortamlar oluşturabiliriz. Bu sayede, proje bağımlılıklarını izole ederek çakışmaları önleyebiliriz.\n",
    "\n",
    "### Anaconda:\n",
    "Bilimsel hesaplama ve veri analizi için popüler bir Python dağıtımıdır. Anaconda, yaygın kullanılan birçok kütüphaneyi (NumPy, pandas, SciPy, Matplotlib vb.) önceden yüklenmiş olarak gelir.\n",
    "\n",
    "### Kütüphane Çakışmaları\n",
    "Farklı versiyonlar: Aynı kütüphanenin farklı versiyonları, kodunuzda çakışmalara yol açabilir. Bu nedenle, sanal ortamlar kullanarak her proje için bağımsız kütüphane setleri oluşturmanız önerilir.\n",
    "\n",
    "### Bağımlılıklar: \n",
    "Bir kütüphane, başka kütüphanelere bağımlı olabilir. Bu bağımlılıkların versiyonları da çakışmalara neden olabilir."
   ]
  }
 ],
 "metadata": {
  "kernelspec": {
   "display_name": "Python 3",
   "language": "python",
   "name": "python3"
  },
  "language_info": {
   "codemirror_mode": {
    "name": "ipython",
    "version": 3
   },
   "file_extension": ".py",
   "mimetype": "text/x-python",
   "name": "python",
   "nbconvert_exporter": "python",
   "pygments_lexer": "ipython3",
   "version": "3.12.3"
  }
 },
 "nbformat": 4,
 "nbformat_minor": 2
}
