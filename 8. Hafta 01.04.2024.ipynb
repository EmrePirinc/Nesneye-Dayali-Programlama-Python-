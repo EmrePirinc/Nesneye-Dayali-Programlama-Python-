{
 "cells": [
  {
   "cell_type": "markdown",
   "metadata": {},
   "source": [
    "## Sözlük Veri Tipi\n",
    "\n",
    "Bir veriye karşılık bir başka veri.\n",
    "Bu verinin türünün hiçbir önemi yok .\n",
    "bir stringe karşılık bir başka string olabilir.\n",
    "bir stringe karşılık bir int olabilir \n",
    "bir int karşılık bir float olabilir\n",
    "yani bir değişkene karşılık bir başka değişken ve bunlar birtane değil bir seri halinde hep arka arkaya tıpkı ing tr sözlükte olduğu gibi ing sözcüğe karşılık tr sözcük gelir ."
   ]
  },
  {
   "cell_type": "code",
   "execution_count": 1,
   "metadata": {},
   "outputs": [],
   "source": [
    "sozluk = dict()\n",
    "sozluk = {}              #sozluk tanımlama"
   ]
  },
  {
   "cell_type": "code",
   "execution_count": 14,
   "metadata": {},
   "outputs": [
    {
     "name": "stdout",
     "output_type": "stream",
     "text": [
      "{'elma': 'apple', 3: 23.89}\n"
     ]
    }
   ],
   "source": [
    "#dizi[1] burada 1 indisli eleman \n",
    "sozluk = dict()\n",
    "sozluk = {}  \n",
    "sozluk[\"elma\"]=\"apple\"           #köşeli parantez kullanıyoruz\n",
    "\n",
    "sozluk[3]=23.89\n",
    "\n",
    "print(sozluk)"
   ]
  },
  {
   "cell_type": "code",
   "execution_count": 2,
   "metadata": {},
   "outputs": [
    {
     "name": "stdout",
     "output_type": "stream",
     "text": [
      "elma ifadesinin karşılığı apple kelimesidir.\n"
     ]
    }
   ],
   "source": [
    "sozluk={\"elma\":\"apple\", 3:23.89}\n",
    "\n",
    "print(f\"elma ifadesinin karşılığı {sozluk['elma']} kelimesidir.\")"
   ]
  },
  {
   "cell_type": "code",
   "execution_count": 3,
   "metadata": {},
   "outputs": [
    {
     "name": "stdout",
     "output_type": "stream",
     "text": [
      "{'elma': 'apple', 3: 23.89, 'umut': ['Umut', 'Kara', 'ordu', 22]}\n",
      "22\n",
      "['elma', 3, 'umut']\n"
     ]
    }
   ],
   "source": [
    "sozluk={\"elma\":\"apple\", 3:23.89}\n",
    "sozluk[\"umut\"]=[\"Umut\",\"Kara\",\"ordu\",22]\n",
    "\n",
    "print(sozluk)\n",
    "print(sozluk[\"umut\"][3])\n",
    "\n",
    "dizi = list(sozluk.keys())        #sadece keys lere ulaşmak istiyosarsak\n",
    "print(dizi)"
   ]
  },
  {
   "cell_type": "code",
   "execution_count": 4,
   "metadata": {},
   "outputs": [
    {
     "name": "stdout",
     "output_type": "stream",
     "text": [
      "dict_keys([1, 2, 3])\n",
      "[1, 2, 3]\n"
     ]
    }
   ],
   "source": [
    "sozluk2={1:\"Bir\",2:\"iki\",3:\"üç\"}\n",
    "\n",
    "\n",
    "print(sozluk2.keys())       #çok anlaşılır değil bunun yerine diziye çevirebiliriz.\n",
    "\n",
    "dizi = list(sozluk2.keys())\n",
    "print(dizi)"
   ]
  },
  {
   "cell_type": "code",
   "execution_count": 5,
   "metadata": {},
   "outputs": [
    {
     "name": "stdout",
     "output_type": "stream",
     "text": [
      "['Bir', 'iki', 'üç']\n",
      "anahtar değer: 1, karşılık değer :Bir\n",
      "anahtar değer: 2, karşılık değer :iki\n",
      "anahtar değer: 3, karşılık değer :üç\n"
     ]
    }
   ],
   "source": [
    "sozluk2={1:\"Bir\",2:\"iki\",3:\"üç\"}              \n",
    "dizi= list(sozluk2.values())              #sadece değerlerine ulaşmak için\n",
    "print(dizi)\n",
    "\n",
    "\n",
    "for k,v in sozluk2.items():\n",
    "    print(f\"anahtar değer: {k}, karşılık değer :{v}\")"
   ]
  },
  {
   "cell_type": "markdown",
   "metadata": {},
   "source": [
    "## ------------------------SORU--------------------------\n",
    "\n",
    "Türkçe karakterlerden oluşan bir metni ingilizce karakterlerden oluşacak şekilde sözlük veri türü kullanarak dönüştürün."
   ]
  },
  {
   "cell_type": "code",
   "execution_count": 6,
   "metadata": {},
   "outputs": [
    {
     "name": "stdout",
     "output_type": "stream",
     "text": [
      "universitesi cikis yapti\n"
     ]
    }
   ],
   "source": [
    "metin=\"üniversitesi çıkış yaptı\"\n",
    "sozluk={\"ı\":\"i\",\"ü\":\"u\",\"ç\":\"c\",\"ö\":\"o\", \"ğ\":\"g\",\"ş\":\"s\"}\n",
    "for k ,v in sozluk.items():\n",
    "    metin=metin.replace(k,v)\n",
    "print(metin)"
   ]
  },
  {
   "cell_type": "markdown",
   "metadata": {},
   "source": [
    "Sozluklerle alakalı methotlar"
   ]
  },
  {
   "cell_type": "code",
   "execution_count": 7,
   "metadata": {},
   "outputs": [
    {
     "name": "stdout",
     "output_type": "stream",
     "text": [
      "bu eleman yok\n"
     ]
    }
   ],
   "source": [
    "#.get() metodu, Python sözlüklerinde belirli bir anahtara karşılık gelen \n",
    "# değeri elde etmek için kullanılan kullanışlı bir fonksiyondur.\n",
    "\n",
    "sozluk={\"ı\":\"i\",\"ü\":\"u\",\"ç\":\"c\",\"ö\":\"o\", \"ğ\":\"g\",\"ş\":\"s\"}\n",
    "sonuc=sozluk.get(\"ç\") \n",
    "sonuc=sozluk.get(\"x\",\"bu eleman yok\")  # x elemanını bulamaz ise \"bu eleman yok yazar\"  \n",
    "\n",
    "#sonuc=sozluk.get(\"x\") #yazıp parametre vermezsek bulamadığında \"None\" yazar.\n",
    "\n",
    "print(sonuc)\n",
    "\n"
   ]
  },
  {
   "cell_type": "code",
   "execution_count": 8,
   "metadata": {},
   "outputs": [
    {
     "name": "stdout",
     "output_type": "stream",
     "text": [
      "{}\n"
     ]
    }
   ],
   "source": [
    "#.clear() metodu, bir sözlükteki tüm elemanları siler ve sözlüğü boş hale getirir.\n",
    "\n",
    "sozluk={\"ı\":\"i\",\"ü\":\"u\",\"ç\":\"c\",\"ö\":\"o\", \"ğ\":\"g\",\"ş\":\"s\"}\n",
    "sozluk.clear()\n",
    "print(sozluk)"
   ]
  },
  {
   "cell_type": "code",
   "execution_count": 9,
   "metadata": {},
   "outputs": [
    {
     "name": "stdout",
     "output_type": "stream",
     "text": [
      "{}\n",
      "{'ı': 'i', 'ü': 'u', 'ç': 'c', 'ö': 'o', 'ğ': 'g', 'ş': 's'}\n"
     ]
    }
   ],
   "source": [
    "#.copy() metodu, bir sözlüğün tam bir kopyasını oluşturur.\n",
    "\n",
    "sozluk={\"ı\":\"i\",\"ü\":\"u\",\"ç\":\"c\",\"ö\":\"o\", \"ğ\":\"g\",\"ş\":\"s\"}\n",
    "\n",
    "sozlukYeni = sozluk.copy()  # sozluk'un kopyasını oluştur\n",
    "\n",
    "sozluk.clear()  # orijinal sözlüğü temizle\n",
    "\n",
    "print(sozluk)      # (boş sözlük)\n",
    "print(sozlukYeni)  # (kopyalanmış sözlük)"
   ]
  },
  {
   "cell_type": "code",
   "execution_count": 10,
   "metadata": {},
   "outputs": [
    {
     "name": "stdout",
     "output_type": "stream",
     "text": [
      "{'ü': 'u', 'ç': 'c', 'ö': 'o', 'ğ': 'g', 'ş': 's'}\n"
     ]
    }
   ],
   "source": [
    "sozluk={\"ı\":\"i\",\"ü\":\"u\",\"ç\":\"c\",\"ö\":\"o\", \"ğ\":\"g\",\"ş\":\"s\"}\n",
    "sozluk.pop(\"ı\")                                             #değerini verdiğimiz elemanın anahtar ve değerini siler\n",
    "print(sozluk)"
   ]
  },
  {
   "cell_type": "code",
   "execution_count": 11,
   "metadata": {},
   "outputs": [
    {
     "name": "stdout",
     "output_type": "stream",
     "text": [
      "{'ı': 'i', 'ü': 'u', 'ç': 'c', 'ö': 'o', 'ğ': 'g'}\n"
     ]
    }
   ],
   "source": [
    "sozluk={\"ı\":\"i\",\"ü\":\"u\",\"ç\":\"c\",\"ö\":\"o\", \"ğ\":\"g\",\"ş\":\"s\"}\n",
    "sozluk.popitem()                                           #son elemanı siler\n",
    "print(sozluk)"
   ]
  },
  {
   "cell_type": "markdown",
   "metadata": {},
   "source": [
    "##  **.setdefault(anahtar, varsayılan_değer)** \n",
    "\n",
    "metodu, sözlüklerde `anahtar kontrolü` ve `varsayılan değer` atama işlemlerini birleştiren kullanışlı bir fonksiyondur.\n",
    "\n",
    "### **Çalışma Şekli:**  \n",
    "**1.)Anahtar kontrolü:**  \n",
    " \n",
    "Sözlükte verilen anahtar var mı diye kontrol eder.  \n",
    "\n",
    "**2.)Varsayılan değer atama (gerekirse):**\n",
    "\n",
    "Eğer anahtar sözlükte `yoksa`, sözlüğe `anahtar eklenir` ve değeri `varsayılan_değer` olarak atanır.  \n",
    "\n",
    "Eğer anahtar sözlükte `varsa`, hiçbir `değişiklik yapılmaz`.  \n",
    "\n",
    "Her iki durumda da, `.setdefault()` metodu anahtarın karşılık gelen değerini (`varsa mevcut değer, yoksa varsayılan değer`) döndürür.\n"
   ]
  },
  {
   "cell_type": "code",
   "execution_count": 12,
   "metadata": {},
   "outputs": [
    {
     "name": "stdout",
     "output_type": "stream",
     "text": [
      "{'ı': 'i', 'ü': 'u', 'ğ': 'g', 'ş': 's', 'ç': 'c', 'Ü': 'U'}\n",
      "U\n",
      "u\n"
     ]
    }
   ],
   "source": [
    "sozluk = {\"ı\":\"i\",\"ü\":\"u\",\"ğ\":\"g\",\"ş\":\"s\",\"ç\":\"c\"}\n",
    "\n",
    "sonuc1 = sozluk.setdefault(\"Ü\",\"U\")  # \"Ü\" anahtarı yok, eklenir ve değeri \"U\" olur\n",
    "sonuc2 = sozluk.setdefault(\"ü\",\"U\")  # \"ü\" anahtarı var, değeri değişmez (\"u\" kalır)\n",
    "\n",
    "print(sozluk)   # Çıktı: {'ı': 'i', 'ü': 'u', 'ğ': 'g', 'ş': 's', 'ç': 'c', 'Ü': 'U'}\n",
    "print(sonuc1)  # Çıktı: U\n",
    "print(sonuc2)  # Çıktı: u\n",
    "\n"
   ]
  },
  {
   "cell_type": "markdown",
   "metadata": {},
   "source": [
    "## --------------------------SORU-----------------------------\n",
    "\n",
    "Kullanıcı tarafından istenilen kadar türkçe ve ingilizce kelimeler sözlük olarak tanımlansın. \n",
    "q karakterine basılınca sözlük içinde aranan kelimenin karşılığı getirilsin. Bulunamadığı durumda \" aradığınız kelime bulunamamıştır\" mesajı gösterilsin."
   ]
  },
  {
   "cell_type": "code",
   "execution_count": 13,
   "metadata": {},
   "outputs": [
    {
     "name": "stdout",
     "output_type": "stream",
     "text": [
      "banana\n"
     ]
    }
   ],
   "source": [
    "sozluk={}\n",
    "while True:\n",
    "    metin=input(\"Anahtar ve değer girişi yapın. aralarında iki nokta olsun:\")    # elma:apple muz:banana armut:pear\n",
    "    if metin==\"q\":break\n",
    "    anahtar = metin.split(\":\")[0]\n",
    "    deger= metin.split(\":\")[1]\n",
    "    sozluk[anahtar]=deger\n",
    "arananKelime=input(\"aranan kelime gir:\")                         #muz\n",
    "sonuc=sozluk.get(arananKelime,\"böyle bir kelime yok\")\n",
    "print(sonuc)"
   ]
  },
  {
   "cell_type": "code",
   "execution_count": 14,
   "metadata": {},
   "outputs": [
    {
     "name": "stdout",
     "output_type": "stream",
     "text": [
      "{'ö': 'o', 'ç': 'c', 'ş': 's', 'ı': 'i', 'ğ': 'g', 'ü': 'u'}\n"
     ]
    }
   ],
   "source": [
    "\n",
    "\n",
    "turkce=\"öçşığü\"\n",
    "ingilizce=\"ocsigu\"\n",
    "\n",
    "sozluk = dict ()\n",
    "\n",
    "for i in range (len (turkce)):\n",
    "    sozluk[turkce[i]]=ingilizce[i]\n",
    "print(sozluk)"
   ]
  },
  {
   "cell_type": "code",
   "execution_count": 15,
   "metadata": {},
   "outputs": [
    {
     "name": "stdout",
     "output_type": "stream",
     "text": [
      "{'bir': 3, 'iki': 3, 'üç': 2}\n"
     ]
    }
   ],
   "source": [
    "dizi=[\"bir\",\"iki\",\"üç\"]\n",
    "sozluk={i:len(i) for i in dizi}              #dizi üreteçlerini sözlükler içinde kullanabiliyoruz.\n",
    "print(sozluk)"
   ]
  },
  {
   "cell_type": "markdown",
   "metadata": {},
   "source": [
    "## ----------------------SORU--------------------------\n",
    "\n",
    "Kullanıcı tarafından istenilen kadar kelime girişi yapılan ve her bir kelimeyi sözlüğün elemanı yapıp bu elemanın kaç karakterden oluştuğunu karşılığına yazan bir kod yazınız. son olarak sözlük ekrana yazılsın"
   ]
  },
  {
   "cell_type": "code",
   "execution_count": 16,
   "metadata": {},
   "outputs": [
    {
     "name": "stdout",
     "output_type": "stream",
     "text": [
      "{'emre': 4, 'pirinç': 6}\n"
     ]
    }
   ],
   "source": [
    "sozluk=dict()\n",
    "while True:\n",
    "    metin=input(\"kelime gir:\")\n",
    "    if metin==\"q\" : break\n",
    "    sozluk[metin]=len(metin)\n",
    "print(sozluk)"
   ]
  },
  {
   "cell_type": "markdown",
   "metadata": {},
   "source": [
    "sınav hakkında\n",
    "kitapdaki sorulardan birebir soru çıkmaz ancak sorular birbiri ile harmanlanarak çıkabilir\n",
    "ideal kilo hesaplama örneği kitaptaki örneğin\n",
    "10 kişinin kullanıcı bilgilerini boy kilo , yas olarak girin bunun ideal kilosunu sözlük değeri olarak tutun gibi 2 farklı örneği birleştirebilirmiş "
   ]
  },
  {
   "cell_type": "markdown",
   "metadata": {},
   "source": [
    "## -----------------------SORU-----------------------\n",
    "\n",
    "Kullanıcı tarafından sonsuz sayıda sayı girişi alınacaktır. Bu sayıların kendisini ve sayı değerlerinin toplamını bir sözlük içinde tutarak sayı değerlerinin ortalamasını hesaplayın."
   ]
  },
  {
   "cell_type": "code",
   "execution_count": 17,
   "metadata": {},
   "outputs": [
    {
     "name": "stdout",
     "output_type": "stream",
     "text": [
      "{'123': 6, '456': 15}\n",
      "10.5\n"
     ]
    }
   ],
   "source": [
    "sozluk=dict()\n",
    "while True:\n",
    "    sayi=input(\"Sayi gir:\")                 #123  456\n",
    "    if sayi==\"q\":break\n",
    "    toplam=0\n",
    "    for i in sayi: toplam+=int(i)\n",
    "    sozluk[sayi]=toplam\n",
    "print(sozluk)\n",
    "degerler=list(sozluk.values())\n",
    "ortalama=sum(degerler)/len(degerler)\n",
    "print(ortalama)\n",
    "    "
   ]
  },
  {
   "cell_type": "markdown",
   "metadata": {},
   "source": [
    "## -------------------------------SORU-------------------------------------\n",
    "\n",
    "Kullanıcı tarafından girilen bir sayının 3'e tam bölünüp bölünmediğini mod \"%\" işlemi yapmadan hesaplayınız."
   ]
  },
  {
   "cell_type": "code",
   "execution_count": 2,
   "metadata": {},
   "outputs": [
    {
     "name": "stdout",
     "output_type": "stream",
     "text": [
      "4 sayısı 3'e tam bölünmez.\n"
     ]
    }
   ],
   "source": [
    "def uc_ile_bolunebilirlik(sayi):\n",
    "  \"\"\"\n",
    "  Bu fonksiyon, girilen sayının 3 ile tam bölünüp bölünmediğini,\n",
    "  sayıyı tekrar tekrar 3 çıkararak kontrol eder.\n",
    "\n",
    "  Args:\n",
    "    sayi: Kontrol edilecek tam sayı.\n",
    "\n",
    "  Returns:\n",
    "    bool: Sayı 3'e tam bölünüyorsa True, değilse False.\n",
    "  \"\"\"\n",
    "\n",
    "  while sayi > 0:\n",
    "    sayi -= 3  # Sayıdan 3 çıkar\n",
    "\n",
    "  # Sonuçta sayı 0'a eşitse, orijinal sayı 3'ün katıdır.\n",
    "  return sayi == 0\n",
    "\n",
    "# Kullanıcıdan sayı al\n",
    "sayi = int(input(\"Bir sayı girin: \"))\n",
    "\n",
    "# Sayının 3 ile bölünebilirliğini kontrol et\n",
    "if uc_ile_bolunebilirlik(sayi):\n",
    "  print(sayi, \"sayısı 3'e tam bölünür.\")\n",
    "else:\n",
    "  print(sayi, \"sayısı 3'e tam bölünmez.\")"
   ]
  }
 ],
 "metadata": {
  "kernelspec": {
   "display_name": "venv",
   "language": "python",
   "name": "python3"
  },
  "language_info": {
   "codemirror_mode": {
    "name": "ipython",
    "version": 3
   },
   "file_extension": ".py",
   "mimetype": "text/x-python",
   "name": "python",
   "nbconvert_exporter": "python",
   "pygments_lexer": "ipython3",
   "version": "3.12.2"
  }
 },
 "nbformat": 4,
 "nbformat_minor": 2
}
